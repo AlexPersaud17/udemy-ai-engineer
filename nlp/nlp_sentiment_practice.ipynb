{
 "cells": [
  {
   "cell_type": "code",
   "execution_count": 1,
   "id": "3e27739b-b872-45ef-b1dc-b8e5924944e2",
   "metadata": {},
   "outputs": [],
   "source": [
    "import pandas as pd\n",
    "import numpy as np\n",
    "import re\n",
    "from vaderSentiment.vaderSentiment import SentimentIntensityAnalyzer\n",
    "import transformers\n",
    "from transformers import pipeline\n",
    "from nltk.tokenize import word_tokenize\n",
    "from nltk.corpus import stopwords\n",
    "from nltk.stem import WordNetLemmatizer\n",
    "from sklearn.model_selection import train_test_split\n",
    "from sklearn import metrics\n",
    "from itertools import chain\n",
    "from nltk import NaiveBayesClassifier"
   ]
  },
  {
   "cell_type": "code",
   "execution_count": 3,
   "id": "38a0fc72-f44e-4f8a-a7bd-bda96597e70a",
   "metadata": {},
   "outputs": [
    {
     "data": {
      "text/html": [
       "<div>\n",
       "<style scoped>\n",
       "    .dataframe tbody tr th:only-of-type {\n",
       "        vertical-align: middle;\n",
       "    }\n",
       "\n",
       "    .dataframe tbody tr th {\n",
       "        vertical-align: top;\n",
       "    }\n",
       "\n",
       "    .dataframe thead th {\n",
       "        text-align: right;\n",
       "    }\n",
       "</style>\n",
       "<table border=\"1\" class=\"dataframe\">\n",
       "  <thead>\n",
       "    <tr style=\"text-align: right;\">\n",
       "      <th></th>\n",
       "      <th>index</th>\n",
       "      <th>reviewText</th>\n",
       "      <th>rating</th>\n",
       "    </tr>\n",
       "  </thead>\n",
       "  <tbody>\n",
       "    <tr>\n",
       "      <th>0</th>\n",
       "      <td>11494</td>\n",
       "      <td>Clean and funny. A bit busy with all the diffe...</td>\n",
       "      <td>3</td>\n",
       "    </tr>\n",
       "    <tr>\n",
       "      <th>1</th>\n",
       "      <td>984</td>\n",
       "      <td>Alex a sexy hot cop and the PhD candidate. Wha...</td>\n",
       "      <td>4</td>\n",
       "    </tr>\n",
       "    <tr>\n",
       "      <th>2</th>\n",
       "      <td>1463</td>\n",
       "      <td>Good thing that this is a free story. I read i...</td>\n",
       "      <td>1</td>\n",
       "    </tr>\n",
       "    <tr>\n",
       "      <th>3</th>\n",
       "      <td>10342</td>\n",
       "      <td>Action, action, action! Equipment keeps gettin...</td>\n",
       "      <td>4</td>\n",
       "    </tr>\n",
       "    <tr>\n",
       "      <th>4</th>\n",
       "      <td>5256</td>\n",
       "      <td>this was hands down the worse book i have ever...</td>\n",
       "      <td>1</td>\n",
       "    </tr>\n",
       "  </tbody>\n",
       "</table>\n",
       "</div>"
      ],
      "text/plain": [
       "   index                                         reviewText  rating\n",
       "0  11494  Clean and funny. A bit busy with all the diffe...       3\n",
       "1    984  Alex a sexy hot cop and the PhD candidate. Wha...       4\n",
       "2   1463  Good thing that this is a free story. I read i...       1\n",
       "3  10342  Action, action, action! Equipment keeps gettin...       4\n",
       "4   5256  this was hands down the worse book i have ever...       1"
      ]
     },
     "execution_count": 3,
     "metadata": {},
     "output_type": "execute_result"
    }
   ],
   "source": [
    "data = pd.read_csv(\"book_reviews_sample.csv\")\n",
    "data.head()"
   ]
  },
  {
   "cell_type": "code",
   "execution_count": 5,
   "id": "01adb5ec-2f91-4ff8-bdb7-1cec3ee718f5",
   "metadata": {},
   "outputs": [],
   "source": [
    "data['reviewText_clean'] = data['reviewText'].str.lower()"
   ]
  },
  {
   "cell_type": "code",
   "execution_count": 15,
   "id": "99800d01-3b7c-4260-a143-7379fbb9fa6f",
   "metadata": {},
   "outputs": [],
   "source": [
    "data['reviewText_clean'] = data['reviewText_clean'].apply(\n",
    "    lambda x: re.sub(r\"([^\\w\\s])\", \"\", x))"
   ]
  },
  {
   "cell_type": "code",
   "execution_count": 17,
   "id": "28eac1dd-eb65-4259-a963-aec6d6a4ce87",
   "metadata": {},
   "outputs": [
    {
     "data": {
      "text/html": [
       "<div>\n",
       "<style scoped>\n",
       "    .dataframe tbody tr th:only-of-type {\n",
       "        vertical-align: middle;\n",
       "    }\n",
       "\n",
       "    .dataframe tbody tr th {\n",
       "        vertical-align: top;\n",
       "    }\n",
       "\n",
       "    .dataframe thead th {\n",
       "        text-align: right;\n",
       "    }\n",
       "</style>\n",
       "<table border=\"1\" class=\"dataframe\">\n",
       "  <thead>\n",
       "    <tr style=\"text-align: right;\">\n",
       "      <th></th>\n",
       "      <th>index</th>\n",
       "      <th>reviewText</th>\n",
       "      <th>rating</th>\n",
       "      <th>reviewText_clean</th>\n",
       "    </tr>\n",
       "  </thead>\n",
       "  <tbody>\n",
       "    <tr>\n",
       "      <th>0</th>\n",
       "      <td>11494</td>\n",
       "      <td>Clean and funny. A bit busy with all the diffe...</td>\n",
       "      <td>3</td>\n",
       "      <td>clean and funny a bit busy with all the differ...</td>\n",
       "    </tr>\n",
       "    <tr>\n",
       "      <th>1</th>\n",
       "      <td>984</td>\n",
       "      <td>Alex a sexy hot cop and the PhD candidate. Wha...</td>\n",
       "      <td>4</td>\n",
       "      <td>alex a sexy hot cop and the phd candidate what...</td>\n",
       "    </tr>\n",
       "    <tr>\n",
       "      <th>2</th>\n",
       "      <td>1463</td>\n",
       "      <td>Good thing that this is a free story. I read i...</td>\n",
       "      <td>1</td>\n",
       "      <td>good thing that this is a free story i read it...</td>\n",
       "    </tr>\n",
       "    <tr>\n",
       "      <th>3</th>\n",
       "      <td>10342</td>\n",
       "      <td>Action, action, action! Equipment keeps gettin...</td>\n",
       "      <td>4</td>\n",
       "      <td>action action action equipment keeps getting b...</td>\n",
       "    </tr>\n",
       "    <tr>\n",
       "      <th>4</th>\n",
       "      <td>5256</td>\n",
       "      <td>this was hands down the worse book i have ever...</td>\n",
       "      <td>1</td>\n",
       "      <td>this was hands down the worse book i have ever...</td>\n",
       "    </tr>\n",
       "  </tbody>\n",
       "</table>\n",
       "</div>"
      ],
      "text/plain": [
       "   index                                         reviewText  rating  \\\n",
       "0  11494  Clean and funny. A bit busy with all the diffe...       3   \n",
       "1    984  Alex a sexy hot cop and the PhD candidate. Wha...       4   \n",
       "2   1463  Good thing that this is a free story. I read i...       1   \n",
       "3  10342  Action, action, action! Equipment keeps gettin...       4   \n",
       "4   5256  this was hands down the worse book i have ever...       1   \n",
       "\n",
       "                                    reviewText_clean  \n",
       "0  clean and funny a bit busy with all the differ...  \n",
       "1  alex a sexy hot cop and the phd candidate what...  \n",
       "2  good thing that this is a free story i read it...  \n",
       "3  action action action equipment keeps getting b...  \n",
       "4  this was hands down the worse book i have ever...  "
      ]
     },
     "execution_count": 17,
     "metadata": {},
     "output_type": "execute_result"
    }
   ],
   "source": [
    "data.head()"
   ]
  },
  {
   "cell_type": "code",
   "execution_count": 19,
   "id": "637ff4a5-0c36-4881-b9e1-3bba1dfa9d11",
   "metadata": {},
   "outputs": [],
   "source": [
    "vader_sentiment = SentimentIntensityAnalyzer()"
   ]
  },
  {
   "cell_type": "code",
   "execution_count": 21,
   "id": "23bb247e-a599-47a6-b0c0-6ada2d9c18af",
   "metadata": {},
   "outputs": [],
   "source": [
    "data['vader_sentiment_score'] = data['reviewText_clean'].apply(\n",
    "    lambda review: vader_sentiment.polarity_scores(review)['compound'])"
   ]
  },
  {
   "cell_type": "code",
   "execution_count": 23,
   "id": "f20eb590-8c4b-4ca0-a9e1-3a1816a60c5e",
   "metadata": {},
   "outputs": [
    {
     "data": {
      "text/html": [
       "<div>\n",
       "<style scoped>\n",
       "    .dataframe tbody tr th:only-of-type {\n",
       "        vertical-align: middle;\n",
       "    }\n",
       "\n",
       "    .dataframe tbody tr th {\n",
       "        vertical-align: top;\n",
       "    }\n",
       "\n",
       "    .dataframe thead th {\n",
       "        text-align: right;\n",
       "    }\n",
       "</style>\n",
       "<table border=\"1\" class=\"dataframe\">\n",
       "  <thead>\n",
       "    <tr style=\"text-align: right;\">\n",
       "      <th></th>\n",
       "      <th>index</th>\n",
       "      <th>reviewText</th>\n",
       "      <th>rating</th>\n",
       "      <th>reviewText_clean</th>\n",
       "      <th>vader_sentiment_score</th>\n",
       "    </tr>\n",
       "  </thead>\n",
       "  <tbody>\n",
       "    <tr>\n",
       "      <th>0</th>\n",
       "      <td>11494</td>\n",
       "      <td>Clean and funny. A bit busy with all the diffe...</td>\n",
       "      <td>3</td>\n",
       "      <td>clean and funny a bit busy with all the differ...</td>\n",
       "      <td>0.7684</td>\n",
       "    </tr>\n",
       "    <tr>\n",
       "      <th>1</th>\n",
       "      <td>984</td>\n",
       "      <td>Alex a sexy hot cop and the PhD candidate. Wha...</td>\n",
       "      <td>4</td>\n",
       "      <td>alex a sexy hot cop and the phd candidate what...</td>\n",
       "      <td>0.9325</td>\n",
       "    </tr>\n",
       "    <tr>\n",
       "      <th>2</th>\n",
       "      <td>1463</td>\n",
       "      <td>Good thing that this is a free story. I read i...</td>\n",
       "      <td>1</td>\n",
       "      <td>good thing that this is a free story i read it...</td>\n",
       "      <td>0.6740</td>\n",
       "    </tr>\n",
       "    <tr>\n",
       "      <th>3</th>\n",
       "      <td>10342</td>\n",
       "      <td>Action, action, action! Equipment keeps gettin...</td>\n",
       "      <td>4</td>\n",
       "      <td>action action action equipment keeps getting b...</td>\n",
       "      <td>0.6652</td>\n",
       "    </tr>\n",
       "    <tr>\n",
       "      <th>4</th>\n",
       "      <td>5256</td>\n",
       "      <td>this was hands down the worse book i have ever...</td>\n",
       "      <td>1</td>\n",
       "      <td>this was hands down the worse book i have ever...</td>\n",
       "      <td>-0.4767</td>\n",
       "    </tr>\n",
       "  </tbody>\n",
       "</table>\n",
       "</div>"
      ],
      "text/plain": [
       "   index                                         reviewText  rating  \\\n",
       "0  11494  Clean and funny. A bit busy with all the diffe...       3   \n",
       "1    984  Alex a sexy hot cop and the PhD candidate. Wha...       4   \n",
       "2   1463  Good thing that this is a free story. I read i...       1   \n",
       "3  10342  Action, action, action! Equipment keeps gettin...       4   \n",
       "4   5256  this was hands down the worse book i have ever...       1   \n",
       "\n",
       "                                    reviewText_clean  vader_sentiment_score  \n",
       "0  clean and funny a bit busy with all the differ...                 0.7684  \n",
       "1  alex a sexy hot cop and the phd candidate what...                 0.9325  \n",
       "2  good thing that this is a free story i read it...                 0.6740  \n",
       "3  action action action equipment keeps getting b...                 0.6652  \n",
       "4  this was hands down the worse book i have ever...                -0.4767  "
      ]
     },
     "execution_count": 23,
     "metadata": {},
     "output_type": "execute_result"
    }
   ],
   "source": [
    "data.head()"
   ]
  },
  {
   "cell_type": "code",
   "execution_count": 25,
   "id": "5fba7665-5ff9-48e5-a34a-4180dde6d75d",
   "metadata": {},
   "outputs": [],
   "source": [
    "bins=[-1, -0.1, 0.1, 1]\n",
    "names=['negative','neutral','postive']\n",
    "data['vader_sentiment_label']=pd.cut(data['vader_sentiment_score'], bins, labels=names)"
   ]
  },
  {
   "cell_type": "code",
   "execution_count": 29,
   "id": "b5edbacf-ed89-47e7-9703-25a28b1c05de",
   "metadata": {},
   "outputs": [
    {
     "data": {
      "text/plain": [
       "<Axes: xlabel='vader_sentiment_label'>"
      ]
     },
     "execution_count": 29,
     "metadata": {},
     "output_type": "execute_result"
    },
    {
     "data": {
      "image/png": "[encoded data removed]",
      "text/plain": [
       "<Figure size 640x480 with 1 Axes>"
      ]
     },
     "metadata": {},
     "output_type": "display_data"
    }
   ],
   "source": [
    "data['vader_sentiment_label'].value_counts().plot.bar()"
   ]
  },
  {
   "cell_type": "code",
   "execution_count": 31,
   "id": "27b1a60b-8d37-4575-8981-f411e779bfc1",
   "metadata": {},
   "outputs": [
    {
     "name": "stderr",
     "output_type": "stream",
     "text": [
      "No model was supplied, defaulted to distilbert/distilbert-base-uncased-finetuned-sst-2-english and revision 714eb0f (https://huggingface.co/distilbert/distilbert-base-uncased-finetuned-sst-2-english).\n",
      "Using a pipeline without specifying a model name and revision in production is not recommended.\n",
      "Device set to use mps:0\n"
     ]
    }
   ],
   "source": [
    "transformer_pipeline = pipeline(\"sentiment-analysis\")"
   ]
  },
  {
   "cell_type": "code",
   "execution_count": 33,
   "id": "2ca0b220-99f2-40b8-a553-028b7562e779",
   "metadata": {},
   "outputs": [],
   "source": [
    "transformer_labels = []\n",
    "\n",
    "for review in data['reviewText_clean'].values:\n",
    "    sentiment_list = transformer_pipeline(review)\n",
    "    sentiment_label = [sent['label'] for sent in sentiment_list]\n",
    "    transformer_labels.append(sentiment_label)\n",
    "    \n",
    "data['transformer_sentiment_label'] = transformer_labels"
   ]
  },
  {
   "cell_type": "code",
   "execution_count": 35,
   "id": "ed339565-a8e9-4635-a7bb-600b675f857d",
   "metadata": {},
   "outputs": [
    {
     "data": {
      "text/plain": [
       "<Axes: xlabel='transformer_sentiment_label'>"
      ]
     },
     "execution_count": 35,
     "metadata": {},
     "output_type": "execute_result"
    },
    {
     "data": {
      "image/png": "[encoded data removed]",
      "text/plain": [
       "<Figure size 640x480 with 1 Axes>"
      ]
     },
     "metadata": {},
     "output_type": "display_data"
    }
   ],
   "source": [
    "data['transformer_sentiment_label'].value_counts().plot.bar()"
   ]
  },
  {
   "cell_type": "code",
   "execution_count": null,
   "id": "7043b75e-bd0b-4ee9-b3f1-584c2a4cd0ac",
   "metadata": {},
   "outputs": [],
   "source": []
  }
 ],
 "metadata": {
  "kernelspec": {
   "display_name": "Python [conda env:base] *",
   "language": "python",
   "name": "conda-base-py"
  },
  "language_info": {
   "codemirror_mode": {
    "name": "ipython",
    "version": 3
   },
   "file_extension": ".py",
   "mimetype": "text/x-python",
   "name": "python",
   "nbconvert_exporter": "python",
   "pygments_lexer": "ipython3",
   "version": "3.12.2"
  }
 },
 "nbformat": 4,
 "nbformat_minor": 5
}
