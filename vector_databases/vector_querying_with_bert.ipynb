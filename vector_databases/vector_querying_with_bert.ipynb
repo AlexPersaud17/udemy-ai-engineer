{
 "cells": [
  {
   "cell_type": "code",
   "execution_count": 1,
   "id": "54d3cdbd-d5fe-4d9c-bbb7-6b9910e00d51",
   "metadata": {},
   "outputs": [],
   "source": [
    "%load_ext dotenv\n",
    "%dotenv"
   ]
  },
  {
   "cell_type": "code",
   "execution_count": 2,
   "id": "55c17481-3fa6-4305-b6d5-858711cfed6f",
   "metadata": {},
   "outputs": [
    {
     "name": "stderr",
     "output_type": "stream",
     "text": [
      "/opt/anaconda3/envs/langchain_env/lib/python3.10/site-packages/tqdm/auto.py:21: TqdmWarning: IProgress not found. Please update jupyter and ipywidgets. See https://ipywidgets.readthedocs.io/en/stable/user_install.html\n",
      "  from .autonotebook import tqdm as notebook_tqdm\n"
     ]
    }
   ],
   "source": [
    "import pandas as pd\n",
    "import os\n",
    "from pinecone import Pinecone, ServerlessSpec\n",
    "from dotenv import load_dotenv, find_dotenv\n",
    "import pinecone\n",
    "from sentence_transformers import SentenceTransformer"
   ]
  },
  {
   "cell_type": "code",
   "execution_count": 3,
   "id": "a15beea7-2539-4246-8b20-bb8800740359",
   "metadata": {},
   "outputs": [],
   "source": [
    "files = pd.read_csv(\"course_section_descriptions.csv\", encoding = \"latin1\")"
   ]
  },
  {
   "cell_type": "code",
   "execution_count": 4,
   "id": "9e7f130c-b14b-47fe-a7cd-a275108b7b54",
   "metadata": {},
   "outputs": [],
   "source": [
    "files[\"unique_id\"] = files[\"course_id\"].astype(str) + '-' + files[\"section_id\"].astype(str)"
   ]
  },
  {
   "cell_type": "code",
   "execution_count": 5,
   "id": "429b6e9b-61ed-4542-92e5-84f3669052e1",
   "metadata": {},
   "outputs": [],
   "source": [
    "files[\"metadata\"] = files.apply(lambda row: {\n",
    "    \"course_name\": row[\"course_name\"],\n",
    "    \"section_name\": row[\"section_name\"],\n",
    "    \"section_description\": row[\"section_description\"],\n",
    "}, axis = 1)"
   ]
  },
  {
   "cell_type": "code",
   "execution_count": 6,
   "id": "43df7fbb-6c2a-4185-aad8-ac9350de917d",
   "metadata": {},
   "outputs": [],
   "source": [
    "def create_embeddings(row):\n",
    "    combined_text = f'''{row[\"course_name\"]} {row[\"course_technology\"]}\n",
    "                        {row[\"course_description\"]} {row[\"section_name\"]}{row[\"section_description\"]}'''\n",
    "    return model.encode(combined_text, show_progress_bar = False)"
   ]
  },
  {
   "cell_type": "code",
   "execution_count": 7,
   "id": "913c58af-c779-4729-83f8-4f04c4371788",
   "metadata": {},
   "outputs": [],
   "source": [
    "model = SentenceTransformer(\"sentence-transformers/multi-qa-distilbert-cos-v1\")"
   ]
  },
  {
   "cell_type": "code",
   "execution_count": 15,
   "id": "6d712781-acb2-4033-8793-50da432a5b08",
   "metadata": {},
   "outputs": [],
   "source": [
    "files[\"embedding\"] = files.apply(create_embeddings, axis = 1)"
   ]
  },
  {
   "cell_type": "code",
   "execution_count": 16,
   "id": "a80bffa1-cf32-4b8a-a40b-3de5791d76a5",
   "metadata": {},
   "outputs": [],
   "source": [
    "pc = Pinecone()"
   ]
  },
  {
   "cell_type": "code",
   "execution_count": 17,
   "id": "87f6accc-524a-452c-beaa-ec74def5afd4",
   "metadata": {},
   "outputs": [],
   "source": [
    "index_name = \"bert\"\n",
    "dimension = 768\n",
    "metric = \"cosine\""
   ]
  },
  {
   "cell_type": "code",
   "execution_count": 18,
   "id": "835805d1-701b-41e5-9a8f-773b6eea4eab",
   "metadata": {},
   "outputs": [
    {
     "name": "stdout",
     "output_type": "stream",
     "text": [
      "bert not in index list.\n"
     ]
    }
   ],
   "source": [
    "if index_name in [index.name for index in pc.list_indexes()]:\n",
    "    pc.delete_index(index_name)\n",
    "    print(f\"{index_name} succesfully deleted.\")\n",
    "else:\n",
    "     print(f\"{index_name} not in index list.\")"
   ]
  },
  {
   "cell_type": "code",
   "execution_count": 19,
   "id": "12f31c6f-1b63-4722-adeb-566cde144c68",
   "metadata": {},
   "outputs": [
    {
     "data": {
      "text/plain": [
       "{\n",
       "    \"name\": \"bert\",\n",
       "    \"metric\": \"cosine\",\n",
       "    \"host\": \"bert-ke2mvmk.svc.aped-4627-b74a.pinecone.io\",\n",
       "    \"spec\": {\n",
       "        \"serverless\": {\n",
       "            \"cloud\": \"aws\",\n",
       "            \"region\": \"us-east-1\"\n",
       "        }\n",
       "    },\n",
       "    \"status\": {\n",
       "        \"ready\": true,\n",
       "        \"state\": \"Ready\"\n",
       "    },\n",
       "    \"vector_type\": \"dense\",\n",
       "    \"dimension\": 768,\n",
       "    \"deletion_protection\": \"disabled\",\n",
       "    \"tags\": null\n",
       "}"
      ]
     },
     "execution_count": 19,
     "metadata": {},
     "output_type": "execute_result"
    }
   ],
   "source": [
    "pc.create_index(\n",
    "    name = index_name, \n",
    "    dimension = dimension, \n",
    "    metric = metric, \n",
    "    spec = ServerlessSpec(\n",
    "        cloud = \"aws\", \n",
    "        region = \"us-east-1\")\n",
    "    )"
   ]
  },
  {
   "cell_type": "code",
   "execution_count": 20,
   "id": "735d3678-e606-432e-bc87-ef697e22067d",
   "metadata": {},
   "outputs": [],
   "source": [
    "index = pc.Index(index_name)"
   ]
  },
  {
   "cell_type": "code",
   "execution_count": 21,
   "id": "2d282dcd-7308-4030-a823-decd33fa6953",
   "metadata": {},
   "outputs": [],
   "source": [
    "vectors_to_upsert = [(row[\"unique_id\"], row[\"embedding\"].tolist(), row[\"metadata\"]) for index, row in files.iterrows()]"
   ]
  },
  {
   "cell_type": "code",
   "execution_count": 22,
   "id": "ec1d7a8f-81a9-4e60-a1a8-c2029f2eb255",
   "metadata": {},
   "outputs": [
    {
     "name": "stdout",
     "output_type": "stream",
     "text": [
      "Data succesfully upserted to Pinecone index\n"
     ]
    }
   ],
   "source": [
    "index.upsert(vectors = vectors_to_upsert)\n",
    "print(\"Data succesfully upserted to Pinecone index\")"
   ]
  },
  {
   "cell_type": "code",
   "execution_count": 23,
   "id": "0122d94e-c277-429b-a1a9-b62352360af1",
   "metadata": {},
   "outputs": [],
   "source": [
    "query = \"regression in Python\"\n",
    "query_embedding = model.encode(query, show_progress_bar=False).tolist()"
   ]
  },
  {
   "cell_type": "code",
   "execution_count": 24,
   "id": "5b71dc49-bf32-449a-82b6-eeaae64a4515",
   "metadata": {},
   "outputs": [],
   "source": [
    "query_results = index.query(\n",
    "    vector = [query_embedding],\n",
    "    top_k = 12,\n",
    "    include_metadata=True\n",
    ")"
   ]
  },
  {
   "cell_type": "code",
   "execution_count": 25,
   "id": "edb07ec1-7e87-4d44-a654-dcd60158a266",
   "metadata": {
    "scrolled": true
   },
   "outputs": [],
   "source": [
    "score_threshold = 0.4\n",
    "for match in query_results['matches']:\n",
    "    if match['score'] >= score_threshold:\n",
    "        course_details = match.get('metadata', {})\n",
    "        course_name = course_details.get('course_name', 'N/A')\n",
    "        section_name = course_details.get('section_name', 'N/A')\n",
    "        section_description = course_details.get('section_description', 'No description available')\n",
    "        \n",
    "        print(f\"Matched item ID: {match['id']}, Score: {match['score']}\")\n",
    "        print(f\"Course: {course_name} \\nSection: {section_name} \\nDescription: {section_description}\")"
   ]
  },
  {
   "cell_type": "code",
   "execution_count": null,
   "id": "1eedb6f5-8a3d-4dff-b70d-b306f67c2335",
   "metadata": {},
   "outputs": [],
   "source": []
  },
  {
   "cell_type": "code",
   "execution_count": null,
   "id": "40e544a0-1883-4d1e-9e06-e5d94c2f5771",
   "metadata": {},
   "outputs": [],
   "source": []
  }
 ],
 "metadata": {
  "kernelspec": {
   "display_name": "langchain_env",
   "language": "python",
   "name": "langchain_env"
  },
  "language_info": {
   "codemirror_mode": {
    "name": "ipython",
    "version": 3
   },
   "file_extension": ".py",
   "mimetype": "text/x-python",
   "name": "python",
   "nbconvert_exporter": "python",
   "pygments_lexer": "ipython3",
   "version": "3.10.10"
  }
 },
 "nbformat": 4,
 "nbformat_minor": 5
}
