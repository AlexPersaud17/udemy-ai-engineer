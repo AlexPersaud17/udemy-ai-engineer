{
 "cells": [
  {
   "cell_type": "code",
   "execution_count": 1,
   "id": "96e119c9-099e-4d3f-a56a-ac0ee69047fd",
   "metadata": {},
   "outputs": [
    {
     "name": "stderr",
     "output_type": "stream",
     "text": [
      "/opt/anaconda3/envs/langchain_env/lib/python3.10/site-packages/tqdm/auto.py:21: TqdmWarning: IProgress not found. Please update jupyter and ipywidgets. See https://ipywidgets.readthedocs.io/en/stable/user_install.html\n",
      "  from .autonotebook import tqdm as notebook_tqdm\n"
     ]
    }
   ],
   "source": [
    "import pinecone\n",
    "from pinecone import Pinecone, ServerlessSpec\n",
    "import os\n",
    "from dotenv import load_dotenv, find_dotenv"
   ]
  },
  {
   "cell_type": "code",
   "execution_count": 3,
   "id": "25cbc57e-e4d8-4d08-b40c-0310a6b5f42c",
   "metadata": {},
   "outputs": [
    {
     "data": {
      "text/plain": [
       "True"
      ]
     },
     "execution_count": 3,
     "metadata": {},
     "output_type": "execute_result"
    }
   ],
   "source": [
    "load_dotenv(find_dotenv(), override = True)"
   ]
  },
  {
   "cell_type": "code",
   "execution_count": 5,
   "id": "d6ac6843-5683-432f-9ab6-350578e05a02",
   "metadata": {},
   "outputs": [],
   "source": [
    "pc = Pinecone(api_key = os.environ.get(\"PINECONE_API_KEY\"), environment = os.environ.get(\"PINECONE_ENV\"))"
   ]
  },
  {
   "cell_type": "code",
   "execution_count": 7,
   "id": "30289836-9888-4ba4-b106-51fa83ca7a1f",
   "metadata": {
    "scrolled": true
   },
   "outputs": [
    {
     "data": {
      "text/plain": [
       "[\n",
       "    {\n",
       "        \"name\": \"intro-index\",\n",
       "        \"metric\": \"cosine\",\n",
       "        \"host\": \"intro-index-ke2mvmk.svc.aped-4627-b74a.pinecone.io\",\n",
       "        \"spec\": {\n",
       "            \"serverless\": {\n",
       "                \"cloud\": \"aws\",\n",
       "                \"region\": \"us-east-1\"\n",
       "            }\n",
       "        },\n",
       "        \"status\": {\n",
       "            \"ready\": true,\n",
       "            \"state\": \"Ready\"\n",
       "        },\n",
       "        \"vector_type\": \"dense\",\n",
       "        \"dimension\": 512,\n",
       "        \"deletion_protection\": \"disabled\",\n",
       "        \"tags\": null,\n",
       "        \"embed\": {\n",
       "            \"model\": \"llama-text-embed-v2\",\n",
       "            \"field_map\": {\n",
       "                \"text\": \"text\"\n",
       "            },\n",
       "            \"dimension\": 512,\n",
       "            \"metric\": \"cosine\",\n",
       "            \"write_parameters\": {\n",
       "                \"dimension\": 512.0,\n",
       "                \"input_type\": \"passage\",\n",
       "                \"truncate\": \"END\"\n",
       "            },\n",
       "            \"read_parameters\": {\n",
       "                \"dimension\": 512.0,\n",
       "                \"input_type\": \"query\",\n",
       "                \"truncate\": \"END\"\n",
       "            },\n",
       "            \"vector_type\": \"dense\"\n",
       "        }\n",
       "    }\n",
       "]"
      ]
     },
     "execution_count": 7,
     "metadata": {},
     "output_type": "execute_result"
    }
   ],
   "source": [
    "pc.list_indexes()"
   ]
  },
  {
   "cell_type": "code",
   "execution_count": 39,
   "id": "639dffef-01c4-4187-bb80-0ac5abe2e426",
   "metadata": {},
   "outputs": [],
   "source": [
    "index_name = \"intro-index\"\n",
    "dimension = 3\n",
    "metric = \"dotproduct\""
   ]
  },
  {
   "cell_type": "code",
   "execution_count": 41,
   "id": "d380bd24-113b-4956-bf9a-a394e7a91463",
   "metadata": {},
   "outputs": [
    {
     "name": "stdout",
     "output_type": "stream",
     "text": [
      "intro-index succesfully deleted.\n"
     ]
    }
   ],
   "source": [
    "if index_name in [index.name for index in pc.list_indexes()]:\n",
    "    pc.delete_index(index_name)\n",
    "    print(f\"{index_name} succesfully deleted.\")\n",
    "else:\n",
    "     print(f\"{index_name} not in index list.\")"
   ]
  },
  {
   "cell_type": "code",
   "execution_count": 43,
   "id": "688caafc-9eaf-4a4b-a392-6acead5b98f7",
   "metadata": {},
   "outputs": [
    {
     "data": {
      "text/plain": [
       "[]"
      ]
     },
     "execution_count": 43,
     "metadata": {},
     "output_type": "execute_result"
    }
   ],
   "source": [
    "pc.list_indexes()"
   ]
  },
  {
   "cell_type": "code",
   "execution_count": 44,
   "id": "9e5f09df-dae6-4efe-a219-e36e145f0cb7",
   "metadata": {},
   "outputs": [
    {
     "data": {
      "text/plain": [
       "{\n",
       "    \"name\": \"intro-index\",\n",
       "    \"metric\": \"dotproduct\",\n",
       "    \"host\": \"intro-index-ke2mvmk.svc.aped-4627-b74a.pinecone.io\",\n",
       "    \"spec\": {\n",
       "        \"serverless\": {\n",
       "            \"cloud\": \"aws\",\n",
       "            \"region\": \"us-east-1\"\n",
       "        }\n",
       "    },\n",
       "    \"status\": {\n",
       "        \"ready\": true,\n",
       "        \"state\": \"Ready\"\n",
       "    },\n",
       "    \"vector_type\": \"dense\",\n",
       "    \"dimension\": 3,\n",
       "    \"deletion_protection\": \"disabled\",\n",
       "    \"tags\": null\n",
       "}"
      ]
     },
     "execution_count": 44,
     "metadata": {},
     "output_type": "execute_result"
    }
   ],
   "source": [
    "pc.create_index(\n",
    "    name = index_name, \n",
    "    dimension = dimension, \n",
    "    metric = metric, \n",
    "    spec = ServerlessSpec(\n",
    "        cloud = \"aws\", \n",
    "        region = \"us-east-1\")\n",
    "    )"
   ]
  },
  {
   "cell_type": "code",
   "execution_count": 47,
   "id": "5059fb09-f286-4207-a51f-c6c66c52d210",
   "metadata": {
    "scrolled": true
   },
   "outputs": [
    {
     "data": {
      "text/plain": [
       "[\n",
       "    {\n",
       "        \"name\": \"intro-index\",\n",
       "        \"metric\": \"dotproduct\",\n",
       "        \"host\": \"intro-index-ke2mvmk.svc.aped-4627-b74a.pinecone.io\",\n",
       "        \"spec\": {\n",
       "            \"serverless\": {\n",
       "                \"cloud\": \"aws\",\n",
       "                \"region\": \"us-east-1\"\n",
       "            }\n",
       "        },\n",
       "        \"status\": {\n",
       "            \"ready\": true,\n",
       "            \"state\": \"Ready\"\n",
       "        },\n",
       "        \"vector_type\": \"dense\",\n",
       "        \"dimension\": 3,\n",
       "        \"deletion_protection\": \"disabled\",\n",
       "        \"tags\": null\n",
       "    }\n",
       "]"
      ]
     },
     "execution_count": 47,
     "metadata": {},
     "output_type": "execute_result"
    }
   ],
   "source": [
    "pc.list_indexes()"
   ]
  },
  {
   "cell_type": "code",
   "execution_count": 49,
   "id": "00ccb01c-b589-443a-aef9-f666a97d0ee4",
   "metadata": {},
   "outputs": [],
   "source": [
    "index = pc.Index(name=index_name)"
   ]
  },
  {
   "cell_type": "code",
   "execution_count": 51,
   "id": "969549af-fc24-4351-8289-ebb43b186120",
   "metadata": {},
   "outputs": [
    {
     "data": {
      "text/plain": [
       "{'upserted_count': 5}"
      ]
     },
     "execution_count": 51,
     "metadata": {},
     "output_type": "execute_result"
    }
   ],
   "source": [
    "index.upsert([\n",
    "        (\"Dog\",[4.,0.,1.]),\n",
    "        (\"Cat\",[4.,0.,1.]),\n",
    "        (\"Chicken\",[2.,2.,1.]),\n",
    "        (\"Mantis\",[6.,2.,3.]),\n",
    "        (\"Elephant\",[4.,0.,1.])\n",
    "])"
   ]
  },
  {
   "cell_type": "code",
   "execution_count": null,
   "id": "d7cf1c7a-cd88-44b1-884d-c75945e0606e",
   "metadata": {},
   "outputs": [],
   "source": []
  }
 ],
 "metadata": {
  "kernelspec": {
   "display_name": "langchain_env",
   "language": "python",
   "name": "langchain_env"
  },
  "language_info": {
   "codemirror_mode": {
    "name": "ipython",
    "version": 3
   },
   "file_extension": ".py",
   "mimetype": "text/x-python",
   "name": "python",
   "nbconvert_exporter": "python",
   "pygments_lexer": "ipython3",
   "version": "3.10.10"
  }
 },
 "nbformat": 4,
 "nbformat_minor": 5
}
