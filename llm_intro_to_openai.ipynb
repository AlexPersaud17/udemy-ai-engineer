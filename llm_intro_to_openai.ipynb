{
 "cells": [
  {
   "cell_type": "code",
   "execution_count": 11,
   "id": "ff6013a8-e735-4336-9494-730745aff53c",
   "metadata": {},
   "outputs": [],
   "source": [
    "from openai import OpenAI\n",
    "import config"
   ]
  },
  {
   "cell_type": "code",
   "execution_count": 19,
   "id": "9673ff0e-14cd-4aa6-aacd-1095005a9b1c",
   "metadata": {},
   "outputs": [],
   "source": [
    "client = OpenAI(api_key=config.api_key)"
   ]
  },
  {
   "cell_type": "code",
   "execution_count": 57,
   "id": "dcb115b5-f3ab-47e3-b3cd-71b959ebdfad",
   "metadata": {},
   "outputs": [],
   "source": [
    "def generate_text(prompt, max_tokens, temperature):\n",
    "    response=client.chat.completions.create(\n",
    "        model=\"gpt-4o-mini\",\n",
    "        messages=[{\"role\": \"user\",\n",
    "                   \"content\": prompt}],\n",
    "        temperature=temperature,\n",
    "        max_completion_tokens=max_tokens)\n",
    "    return response.choices[0].message.content"
   ]
  },
  {
   "cell_type": "code",
   "execution_count": 53,
   "id": "869755fa-2a03-4d07-8825-5160ccd1a338",
   "metadata": {},
   "outputs": [],
   "source": [
    "prompt=\"Once upon a time\""
   ]
  },
  {
   "cell_type": "code",
   "execution_count": 61,
   "id": "9b76c1f6-2da9-48a5-8e50-efc2bb48739b",
   "metadata": {},
   "outputs": [
    {
     "name": "stdout",
     "output_type": "stream",
     "text": [
      "Once upon a time, in a small village nestled between majestic mountains and lush green forests, there lived\n"
     ]
    }
   ],
   "source": [
    "generated_text=generate_text(prompt, 20, 1)\n",
    "print(generated_text)"
   ]
  },
  {
   "cell_type": "code",
   "execution_count": null,
   "id": "61df4be1-eaa6-4db1-9878-62fc5ccf2929",
   "metadata": {},
   "outputs": [],
   "source": []
  }
 ],
 "metadata": {
  "kernelspec": {
   "display_name": "Python [conda env:base] *",
   "language": "python",
   "name": "conda-base-py"
  },
  "language_info": {
   "codemirror_mode": {
    "name": "ipython",
    "version": 3
   },
   "file_extension": ".py",
   "mimetype": "text/x-python",
   "name": "python",
   "nbconvert_exporter": "python",
   "pygments_lexer": "ipython3",
   "version": "3.12.2"
  }
 },
 "nbformat": 4,
 "nbformat_minor": 5
}
