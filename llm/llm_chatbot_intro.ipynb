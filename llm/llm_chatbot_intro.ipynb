{
 "cells": [
  {
   "cell_type": "code",
   "execution_count": 1,
   "id": "82cfb7ae-3dab-4084-ae55-882252bb6f5a",
   "metadata": {},
   "outputs": [
    {
     "name": "stderr",
     "output_type": "stream",
     "text": [
      "USER_AGENT environment variable not set, consider setting it to identify your requests.\n"
     ]
    }
   ],
   "source": [
    "from langchain_community.document_loaders import WebBaseLoader\n",
    "from langchain.text_splitter import RecursiveCharacterTextSplitter\n",
    "from langchain_openai import OpenAIEmbeddings\n",
    "from langchain.vectorstores import FAISS\n",
    "from langchain.memory import ChatMessageHistory\n",
    "from langchain.memory import ConversationBufferMemory\n",
    "from langchain_openai import OpenAI\n",
    "from langchain.chains import ConversationalRetrievalChain\n",
    "from langchain_openai import ChatOpenAI\n",
    "import config"
   ]
  },
  {
   "cell_type": "code",
   "execution_count": 2,
   "id": "c0c54c71-d27f-4a51-b79f-2fa1b28fbcb5",
   "metadata": {},
   "outputs": [],
   "source": [
    "url=\"https://help.adjust.com/en/partner\"\n",
    "loader=WebBaseLoader(url)"
   ]
  },
  {
   "cell_type": "code",
   "execution_count": 3,
   "id": "dde7f3b6-086e-4eb8-8312-abaaf5ed8589",
   "metadata": {},
   "outputs": [],
   "source": [
    "raw_docs=loader.load()"
   ]
  },
  {
   "cell_type": "code",
   "execution_count": 4,
   "id": "441d970f-1e73-4ab9-b9f7-63de79b378ac",
   "metadata": {},
   "outputs": [],
   "source": [
    "text_splitter=RecursiveCharacterTextSplitter()\n",
    "documents=text_splitter.split_documents(raw_docs)"
   ]
  },
  {
   "cell_type": "code",
   "execution_count": 5,
   "id": "d74cc30f-1e54-4424-9334-382c297ed365",
   "metadata": {},
   "outputs": [],
   "source": [
    "embeddings=OpenAIEmbeddings(openai_api_key=config.api_key)"
   ]
  },
  {
   "cell_type": "code",
   "execution_count": 6,
   "id": "4f06088a-553a-4157-8119-e59fe5ad895c",
   "metadata": {},
   "outputs": [],
   "source": [
    "vectorstore=FAISS.from_documents(documents, embeddings)"
   ]
  },
  {
   "cell_type": "code",
   "execution_count": 7,
   "id": "c2d80871-7965-4ce1-805c-5484dc8832b6",
   "metadata": {},
   "outputs": [
    {
     "name": "stderr",
     "output_type": "stream",
     "text": [
      "/var/folders/fs/ly3y_3m57537dkrh09vsr_mw0000gn/T/ipykernel_38420/2691710049.py:1: LangChainDeprecationWarning: Please see the migration guide at: https://python.langchain.com/docs/versions/migrating_memory/\n",
      "  memory = ConversationBufferMemory(memory_key=\"chat_history\", return_message=True)\n"
     ]
    }
   ],
   "source": [
    "memory = ConversationBufferMemory(memory_key=\"chat_history\", return_message=True)"
   ]
  },
  {
   "cell_type": "code",
   "execution_count": 8,
   "id": "cdce7960-517a-4261-8d20-9dbd73311501",
   "metadata": {},
   "outputs": [],
   "source": [
    "qa = ConversationalRetrievalChain.from_llm(\n",
    "    ChatOpenAI(openai_api_key=config.api_key, model=\"gpt-4o-mini\", temperature=0),\n",
    "    vectorstore.as_retriever(),\n",
    "    memory=memory\n",
    ")"
   ]
  },
  {
   "cell_type": "code",
   "execution_count": 9,
   "id": "32624b48-e4e1-4d69-82df-bb98522da12a",
   "metadata": {},
   "outputs": [],
   "source": [
    "query = \"What is this page about?\"\n",
    "result = qa.invoke({\"question\": query})"
   ]
  },
  {
   "cell_type": "code",
   "execution_count": 10,
   "id": "c82fb3f1-e5bb-4c83-a2eb-ac42e6214f7d",
   "metadata": {},
   "outputs": [
    {
     "data": {
      "text/plain": [
       "\"This page is about the Adjust Help Center, which provides documentation and resources for partners, marketers, and developers. It includes information on dynamic network integration, ad network integration, callbacks for in-app activity data, and tools for creating encoded URLs. The page also mentions support for sharing SKAdNetwork data and provides guidance on various aspects of working with Adjust's services.\""
      ]
     },
     "execution_count": 10,
     "metadata": {},
     "output_type": "execute_result"
    }
   ],
   "source": [
    "result[\"answer\"]"
   ]
  },
  {
   "cell_type": "code",
   "execution_count": null,
   "id": "5e1150a1-4a62-4cc2-8dd7-ab12a1fdfe5f",
   "metadata": {},
   "outputs": [],
   "source": []
  }
 ],
 "metadata": {
  "kernelspec": {
   "display_name": "Python [conda env:base] *",
   "language": "python",
   "name": "conda-base-py"
  },
  "language_info": {
   "codemirror_mode": {
    "name": "ipython",
    "version": 3
   },
   "file_extension": ".py",
   "mimetype": "text/x-python",
   "name": "python",
   "nbconvert_exporter": "python",
   "pygments_lexer": "ipython3",
   "version": "3.12.2"
  }
 },
 "nbformat": 4,
 "nbformat_minor": 5
}
