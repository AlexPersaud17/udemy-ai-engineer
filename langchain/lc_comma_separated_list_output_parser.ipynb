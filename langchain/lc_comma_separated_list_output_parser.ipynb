{
 "cells": [
  {
   "cell_type": "code",
   "execution_count": 1,
   "id": "883dd42e-6b99-4cb0-bf6b-1e6910702289",
   "metadata": {},
   "outputs": [],
   "source": [
    "%load_ext dotenv\n",
    "%dotenv"
   ]
  },
  {
   "cell_type": "code",
   "execution_count": 3,
   "id": "6b8a6aea-1032-44a2-9527-812b3ca04762",
   "metadata": {},
   "outputs": [],
   "source": [
    "from langchain_openai.chat_models import ChatOpenAI\n",
    "from langchain_core.messages import HumanMessage\n",
    "from langchain_core.output_parsers import CommaSeparatedListOutputParser"
   ]
  },
  {
   "cell_type": "code",
   "execution_count": 5,
   "id": "5d358fd2-46b8-4ffd-970d-67ba5ce079eb",
   "metadata": {},
   "outputs": [],
   "source": [
    "chat = ChatOpenAI(model_name = 'gpt-4o-mini', \n",
    "                  seed = 365,\n",
    "                  temperature = 0,\n",
    "                  max_tokens = 100)"
   ]
  },
  {
   "cell_type": "code",
   "execution_count": 23,
   "id": "4276cccb-f3f6-4b1f-973c-b7ed8904cf0a",
   "metadata": {},
   "outputs": [],
   "source": [
    "message_h = HumanMessage(content = f''' I've recently adopted a dog. Could you suggest some dog names?\n",
    "\n",
    "{CommaSeparatedListOutputParser().get_format_instructions()}\n",
    "''')"
   ]
  },
  {
   "cell_type": "code",
   "execution_count": 27,
   "id": "9ba016aa-b784-4ad6-a0f5-3160e9335f1b",
   "metadata": {},
   "outputs": [
    {
     "name": "stdout",
     "output_type": "stream",
     "text": [
      " I've recently adopted a dog. Could you suggest some dog names?\n",
      "\n",
      "Your response should be a list of comma separated values, eg: `foo, bar, baz` or `foo,bar,baz`\n",
      "\n"
     ]
    }
   ],
   "source": [
    "print(message_h.content)"
   ]
  },
  {
   "cell_type": "code",
   "execution_count": 29,
   "id": "d8bf1499-1e8a-4ecc-833d-1a974c3a02f4",
   "metadata": {},
   "outputs": [],
   "source": [
    "response=chat.invoke([message_h])"
   ]
  },
  {
   "cell_type": "code",
   "execution_count": 30,
   "id": "e73b2f5c-9a26-4f78-b992-ad0341e01cea",
   "metadata": {
    "scrolled": true
   },
   "outputs": [
    {
     "name": "stdout",
     "output_type": "stream",
     "text": [
      "Max, Bella, Charlie, Luna, Rocky, Daisy, Cooper, Sadie, Buddy, Molly, Duke, Ruby, Oliver, Chloe, Bear, Zoe, Jack, Lily, Finn, Sophie\n"
     ]
    }
   ],
   "source": [
    "print(response.content)"
   ]
  },
  {
   "cell_type": "code",
   "execution_count": 33,
   "id": "b25e6de3-be69-44c7-8cd3-061ef019ac84",
   "metadata": {},
   "outputs": [],
   "source": [
    "list_output_parser = CommaSeparatedListOutputParser()"
   ]
  },
  {
   "cell_type": "code",
   "execution_count": 35,
   "id": "e60e6178-5664-49ab-b941-53ad500c99ca",
   "metadata": {},
   "outputs": [],
   "source": [
    "response_parsed = list_output_parser.invoke(response)"
   ]
  },
  {
   "cell_type": "code",
   "execution_count": 37,
   "id": "91784313-23f0-4b1e-bbd1-4261789608fc",
   "metadata": {},
   "outputs": [
    {
     "data": {
      "text/plain": [
       "['Max',\n",
       " 'Bella',\n",
       " 'Charlie',\n",
       " 'Luna',\n",
       " 'Rocky',\n",
       " 'Daisy',\n",
       " 'Cooper',\n",
       " 'Sadie',\n",
       " 'Buddy',\n",
       " 'Molly',\n",
       " 'Duke',\n",
       " 'Ruby',\n",
       " 'Oliver',\n",
       " 'Chloe',\n",
       " 'Bear',\n",
       " 'Zoe',\n",
       " 'Jack',\n",
       " 'Lily',\n",
       " 'Finn',\n",
       " 'Sophie']"
      ]
     },
     "execution_count": 37,
     "metadata": {},
     "output_type": "execute_result"
    }
   ],
   "source": [
    "response_parsed"
   ]
  },
  {
   "cell_type": "code",
   "execution_count": 39,
   "id": "aa33d647-a10b-4754-90d9-fcabc00af2a6",
   "metadata": {},
   "outputs": [
    {
     "name": "stdout",
     "output_type": "stream",
     "text": [
      "Your response should be a list of comma separated values, eg: `foo, bar, baz` or `foo,bar,baz`\n"
     ]
    }
   ],
   "source": [
    "print(list_output_parser.get_format_instructions())"
   ]
  },
  {
   "cell_type": "code",
   "execution_count": null,
   "id": "e27a9bfc-2379-4295-b841-db26edd52250",
   "metadata": {},
   "outputs": [],
   "source": []
  }
 ],
 "metadata": {
  "kernelspec": {
   "display_name": "langchain_env",
   "language": "python",
   "name": "langchain_env"
  },
  "language_info": {
   "codemirror_mode": {
    "name": "ipython",
    "version": 3
   },
   "file_extension": ".py",
   "mimetype": "text/x-python",
   "name": "python",
   "nbconvert_exporter": "python",
   "pygments_lexer": "ipython3",
   "version": "3.10.10"
  }
 },
 "nbformat": 4,
 "nbformat_minor": 5
}
