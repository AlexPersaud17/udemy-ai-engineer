{
 "cells": [
  {
   "cell_type": "code",
   "execution_count": 2,
   "id": "883dd42e-6b99-4cb0-bf6b-1e6910702289",
   "metadata": {},
   "outputs": [],
   "source": [
    "%load_ext dotenv\n",
    "%dotenv"
   ]
  },
  {
   "cell_type": "code",
   "execution_count": 6,
   "id": "6b8a6aea-1032-44a2-9527-812b3ca04762",
   "metadata": {},
   "outputs": [],
   "source": [
    "from langchain_openai.chat_models import ChatOpenAI\n",
    "from langchain_core.messages import HumanMessage\n",
    "from langchain.output_parsers import DatetimeOutputParser"
   ]
  },
  {
   "cell_type": "code",
   "execution_count": 8,
   "id": "5d358fd2-46b8-4ffd-970d-67ba5ce079eb",
   "metadata": {},
   "outputs": [],
   "source": [
    "chat = ChatOpenAI(model_name = 'gpt-4o-mini', \n",
    "                  seed = 365,\n",
    "                  temperature = 0,\n",
    "                  max_tokens = 100)"
   ]
  },
  {
   "cell_type": "code",
   "execution_count": 24,
   "id": "4276cccb-f3f6-4b1f-973c-b7ed8904cf0a",
   "metadata": {},
   "outputs": [],
   "source": [
    "message_h = HumanMessage(content = f'''When was the Danish poet Piet Hein born?\n",
    "{DatetimeOutputParser().get_format_instructions()}\n",
    "''')"
   ]
  },
  {
   "cell_type": "code",
   "execution_count": 26,
   "id": "9ba016aa-b784-4ad6-a0f5-3160e9335f1b",
   "metadata": {},
   "outputs": [
    {
     "name": "stdout",
     "output_type": "stream",
     "text": [
      "When was the Danish poet Piet Hein born?\n",
      "Write a datetime string that matches the following pattern: '%Y-%m-%dT%H:%M:%S.%fZ'.\n",
      "\n",
      "Examples: 0492-05-16T06:39:53.516962Z, 0773-08-08T16:51:29.589401Z, 1587-11-01T17:13:48.675568Z\n",
      "\n",
      "Return ONLY this string, no other words!\n",
      "\n"
     ]
    }
   ],
   "source": [
    "print(message_h.content)"
   ]
  },
  {
   "cell_type": "code",
   "execution_count": 28,
   "id": "d8bf1499-1e8a-4ecc-833d-1a974c3a02f4",
   "metadata": {},
   "outputs": [],
   "source": [
    "response=chat.invoke([message_h])"
   ]
  },
  {
   "cell_type": "code",
   "execution_count": 29,
   "id": "e73b2f5c-9a26-4f78-b992-ad0341e01cea",
   "metadata": {
    "scrolled": true
   },
   "outputs": [
    {
     "name": "stdout",
     "output_type": "stream",
     "text": [
      "1905-12-16T00:00:00.000000Z\n"
     ]
    }
   ],
   "source": [
    "print(response.content)"
   ]
  },
  {
   "cell_type": "code",
   "execution_count": 32,
   "id": "b25e6de3-be69-44c7-8cd3-061ef019ac84",
   "metadata": {},
   "outputs": [],
   "source": [
    "date_output_parser = DatetimeOutputParser()"
   ]
  },
  {
   "cell_type": "code",
   "execution_count": 34,
   "id": "e60e6178-5664-49ab-b941-53ad500c99ca",
   "metadata": {},
   "outputs": [],
   "source": [
    "response_parsed = date_output_parser.invoke(response)"
   ]
  },
  {
   "cell_type": "code",
   "execution_count": 36,
   "id": "91784313-23f0-4b1e-bbd1-4261789608fc",
   "metadata": {},
   "outputs": [
    {
     "data": {
      "text/plain": [
       "datetime.datetime(1905, 12, 16, 0, 0)"
      ]
     },
     "execution_count": 36,
     "metadata": {},
     "output_type": "execute_result"
    }
   ],
   "source": [
    "response_parsed"
   ]
  },
  {
   "cell_type": "code",
   "execution_count": 40,
   "id": "aa33d647-a10b-4754-90d9-fcabc00af2a6",
   "metadata": {},
   "outputs": [
    {
     "name": "stdout",
     "output_type": "stream",
     "text": [
      "Write a datetime string that matches the following pattern: '%Y-%m-%dT%H:%M:%S.%fZ'.\n",
      "\n",
      "Examples: 0654-06-27T23:44:46.993393Z, 1038-08-18T12:54:56.488907Z, 0484-05-25T11:30:27.269615Z\n",
      "\n",
      "Return ONLY this string, no other words!\n"
     ]
    }
   ],
   "source": [
    "print(date_output_parser.get_format_instructions())"
   ]
  },
  {
   "cell_type": "code",
   "execution_count": null,
   "id": "e27a9bfc-2379-4295-b841-db26edd52250",
   "metadata": {},
   "outputs": [],
   "source": []
  }
 ],
 "metadata": {
  "kernelspec": {
   "display_name": "langchain_env",
   "language": "python",
   "name": "langchain_env"
  },
  "language_info": {
   "codemirror_mode": {
    "name": "ipython",
    "version": 3
   },
   "file_extension": ".py",
   "mimetype": "text/x-python",
   "name": "python",
   "nbconvert_exporter": "python",
   "pygments_lexer": "ipython3",
   "version": "3.10.10"
  }
 },
 "nbformat": 4,
 "nbformat_minor": 5
}
