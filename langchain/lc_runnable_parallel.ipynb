{
 "cells": [
  {
   "cell_type": "code",
   "execution_count": 1,
   "id": "9d60ea12-88a8-40ff-8fa1-1dbec821a72d",
   "metadata": {},
   "outputs": [],
   "source": [
    "%load_ext dotenv\n",
    "%dotenv"
   ]
  },
  {
   "cell_type": "code",
   "execution_count": 20,
   "id": "c08d5c5b-b80f-4a0a-b784-a47ffd8a5118",
   "metadata": {},
   "outputs": [],
   "source": [
    "from langchain_core.prompts import ChatPromptTemplate\n",
    "from langchain_openai import ChatOpenAI\n",
    "from langchain_core.output_parsers import StrOutputParser\n",
    "from langchain_core.runnables import RunnableParallel"
   ]
  },
  {
   "cell_type": "code",
   "execution_count": 22,
   "id": "7605dac0-cfd5-42f9-ac7a-aca712d18184",
   "metadata": {},
   "outputs": [],
   "source": [
    "chat_template_books = ChatPromptTemplate.from_template(\n",
    "    '''\n",
    "    Suggest three of the best intermediate-level {programming language} books. \n",
    "    Answer only by listing the books.\n",
    "    '''\n",
    ")\n",
    "\n",
    "chat_template_projects = ChatPromptTemplate.from_template(\n",
    "    '''\n",
    "    Suggest three interesting {programming language} projects suitable for intermediate-level programmers. \n",
    "    Answer only by listing the projects.\n",
    "    '''\n",
    ")"
   ]
  },
  {
   "cell_type": "code",
   "execution_count": 24,
   "id": "eeb15b52-4587-4d09-8035-64b72518e0ae",
   "metadata": {},
   "outputs": [],
   "source": [
    "chat = ChatOpenAI(model_name = 'gpt-4o-mini', \n",
    "                  seed = 365,\n",
    "                  temperature = 0,\n",
    "                  max_tokens = 100)"
   ]
  },
  {
   "cell_type": "code",
   "execution_count": 26,
   "id": "bb773bca-98b6-4665-a70b-4c4d7454a554",
   "metadata": {},
   "outputs": [],
   "source": [
    "string_parser = StrOutputParser()"
   ]
  },
  {
   "cell_type": "code",
   "execution_count": 28,
   "id": "17325896-5a39-4d8f-aab5-9343d32d6c8f",
   "metadata": {},
   "outputs": [],
   "source": [
    "chain_books = chat_template_books | chat | string_parser\n",
    "\n",
    "chain_projects = chat_template_projects | chat | string_parser"
   ]
  },
  {
   "cell_type": "code",
   "execution_count": 30,
   "id": "404e35bc-38ae-4d10-8823-12d3c9fe5303",
   "metadata": {},
   "outputs": [],
   "source": [
    "chain_parallel = RunnableParallel({'books':chain_books, 'projects':chain_projects})"
   ]
  },
  {
   "cell_type": "code",
   "execution_count": 32,
   "id": "bd507c27-52d5-4773-a51d-5579c9f84ba2",
   "metadata": {},
   "outputs": [
    {
     "data": {
      "text/plain": [
       "{'books': '1. \"Fluent Python\" by Luciano Ramalho  \\n2. \"Effective Python: 90 Specific Ways to Write Better Python\" by Brett Slatkin  \\n3. \"Python Cookbook\" by David Beazley and Brian K. Jones  ',\n",
       " 'projects': '1. Personal Finance Tracker with Data Visualization  \\n2. Web Scraper with Automated Reporting  \\n3. Chatbot using Natural Language Processing'}"
      ]
     },
     "execution_count": 32,
     "metadata": {},
     "output_type": "execute_result"
    }
   ],
   "source": [
    "chain_parallel.invoke({'programming language':'Python'})"
   ]
  },
  {
   "cell_type": "code",
   "execution_count": 34,
   "id": "f3bcdaa2-c2e1-4a2e-bd6c-c60a3029a680",
   "metadata": {},
   "outputs": [
    {
     "name": "stdout",
     "output_type": "stream",
     "text": [
      "            +-------------------------------+              \n",
      "            | Parallel<books,projects>Input |              \n",
      "            +-------------------------------+              \n",
      "                   ***               ***                   \n",
      "                ***                     ***                \n",
      "              **                           **              \n",
      "+--------------------+              +--------------------+ \n",
      "| ChatPromptTemplate |              | ChatPromptTemplate | \n",
      "+--------------------+              +--------------------+ \n",
      "           *                                   *           \n",
      "           *                                   *           \n",
      "           *                                   *           \n",
      "    +------------+                      +------------+     \n",
      "    | ChatOpenAI |                      | ChatOpenAI |     \n",
      "    +------------+                      +------------+     \n",
      "           *                                   *           \n",
      "           *                                   *           \n",
      "           *                                   *           \n",
      "  +-----------------+                 +-----------------+  \n",
      "  | StrOutputParser |                 | StrOutputParser |  \n",
      "  +-----------------+                 +-----------------+  \n",
      "                   ***               ***                   \n",
      "                      ***         ***                      \n",
      "                         **     **                         \n",
      "            +--------------------------------+             \n",
      "            | Parallel<books,projects>Output |             \n",
      "            +--------------------------------+             \n"
     ]
    }
   ],
   "source": [
    "chain_parallel.get_graph().print_ascii()"
   ]
  },
  {
   "cell_type": "code",
   "execution_count": 36,
   "id": "f38fb720-7b87-4b29-b4a7-51e3119db663",
   "metadata": {},
   "outputs": [
    {
     "name": "stdout",
     "output_type": "stream",
     "text": [
      "CPU times: user 17.3 ms, sys: 12.1 ms, total: 29.4 ms\n",
      "Wall time: 1.56 s\n"
     ]
    },
    {
     "data": {
      "text/plain": [
       "'1. \"Fluent Python\" by Luciano Ramalho  \\n2. \"Effective Python: 90 Specific Ways to Write Better Python\" by Brett Slatkin  \\n3. \"Python Cookbook\" by David Beazley and Brian K. Jones  '"
      ]
     },
     "execution_count": 36,
     "metadata": {},
     "output_type": "execute_result"
    }
   ],
   "source": [
    "%%time\n",
    "chain_books.invoke({'programming language':'Python'})"
   ]
  },
  {
   "cell_type": "code",
   "execution_count": 37,
   "id": "f6986184-87d1-4ee3-b058-e326e4e01492",
   "metadata": {},
   "outputs": [
    {
     "name": "stdout",
     "output_type": "stream",
     "text": [
      "CPU times: user 12 ms, sys: 1.86 ms, total: 13.9 ms\n",
      "Wall time: 806 ms\n"
     ]
    },
    {
     "data": {
      "text/plain": [
       "'1. Personal Finance Tracker with Data Visualization  \\n2. Web Scraper with Automated Reporting  \\n3. Chatbot using Natural Language Processing'"
      ]
     },
     "execution_count": 37,
     "metadata": {},
     "output_type": "execute_result"
    }
   ],
   "source": [
    "%%time\n",
    "chain_projects.invoke({'programming language':'Python'})"
   ]
  },
  {
   "cell_type": "code",
   "execution_count": 38,
   "id": "8e46e2b1-4905-4292-8ac2-07ff30956838",
   "metadata": {},
   "outputs": [
    {
     "name": "stdout",
     "output_type": "stream",
     "text": [
      "CPU times: user 32.2 ms, sys: 4.84 ms, total: 37 ms\n",
      "Wall time: 924 ms\n"
     ]
    },
    {
     "data": {
      "text/plain": [
       "{'books': '1. \"Fluent Python\" by Luciano Ramalho  \\n2. \"Effective Python: 90 Specific Ways to Write Better Python\" by Brett Slatkin  \\n3. \"Python Cookbook\" by David Beazley and Brian K. Jones  ',\n",
       " 'projects': '1. Personal Finance Tracker with Data Visualization  \\n2. Web Scraper with Automated Reporting  \\n3. Chatbot using Natural Language Processing'}"
      ]
     },
     "execution_count": 38,
     "metadata": {},
     "output_type": "execute_result"
    }
   ],
   "source": [
    "%%time\n",
    "chain_parallel.invoke({'programming language':'Python'})"
   ]
  },
  {
   "cell_type": "code",
   "execution_count": null,
   "id": "0f5020f1-ed5e-4dd9-acaa-6f35e29c68e9",
   "metadata": {},
   "outputs": [],
   "source": []
  }
 ],
 "metadata": {
  "kernelspec": {
   "display_name": "langchain_env",
   "language": "python",
   "name": "langchain_env"
  },
  "language_info": {
   "codemirror_mode": {
    "name": "ipython",
    "version": 3
   },
   "file_extension": ".py",
   "mimetype": "text/x-python",
   "name": "python",
   "nbconvert_exporter": "python",
   "pygments_lexer": "ipython3",
   "version": "3.10.10"
  }
 },
 "nbformat": 4,
 "nbformat_minor": 5
}
