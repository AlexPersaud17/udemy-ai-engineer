{
 "cells": [
  {
   "cell_type": "code",
   "execution_count": 1,
   "id": "89cac4d7-2f82-4921-a26e-b605206adcd5",
   "metadata": {},
   "outputs": [],
   "source": [
    "%load_ext dotenv\n",
    "%dotenv"
   ]
  },
  {
   "cell_type": "code",
   "execution_count": 2,
   "id": "0d37f7f2-f47a-4fc8-b60d-bc96d63a12ff",
   "metadata": {},
   "outputs": [],
   "source": [
    "from langchain_core.prompts import ChatPromptTemplate\n",
    "from langchain_openai import ChatOpenAI"
   ]
  },
  {
   "cell_type": "code",
   "execution_count": 3,
   "id": "834763b1-8b8b-4a1e-a923-68543311f2b6",
   "metadata": {},
   "outputs": [],
   "source": [
    "chat_template = ChatPromptTemplate.from_messages([\n",
    "    ('human', \n",
    "     \"I've recently adopted a {pet} which is a {breed}. Could you suggest several training tips?\")])"
   ]
  },
  {
   "cell_type": "code",
   "execution_count": 4,
   "id": "5f6cd41b-57ba-41c0-bcb4-17a1823163bd",
   "metadata": {},
   "outputs": [],
   "source": [
    "chat = ChatOpenAI(model_name = 'gpt-4o-mini', \n",
    "                  seed = 365,\n",
    "                  temperature = 0,\n",
    "                  max_tokens = 100)"
   ]
  },
  {
   "cell_type": "code",
   "execution_count": 5,
   "id": "719f62fa-3122-4d04-902c-02f8500a9ac1",
   "metadata": {},
   "outputs": [],
   "source": [
    "chain = chat_template | chat"
   ]
  },
  {
   "cell_type": "code",
   "execution_count": 6,
   "id": "fb8f92dc-a836-41d3-91be-c93d4a0bd0d3",
   "metadata": {},
   "outputs": [
    {
     "name": "stdout",
     "output_type": "stream",
     "text": [
      "CPU times: user 53.6 ms, sys: 7.08 ms, total: 60.7 ms\n",
      "Wall time: 1.92 s\n"
     ]
    },
    {
     "data": {
      "text/plain": [
       "[AIMessage(content='Congratulations on your new shepherd! These dogs are intelligent and eager to please, making them great candidates for training. Here are several training tips to help you get started:\\n\\n1. **Start with Basic Commands**: Teach essential commands like \"sit,\" \"stay,\" \"come,\" and \"down.\" Use positive reinforcement, such as treats and praise, to encourage good behavior.\\n\\n2. **Consistency is Key**: Use the same commands and cues consistently. This helps your dog understand what you expect from them', additional_kwargs={'refusal': None}, response_metadata={'token_usage': {'completion_tokens': 100, 'prompt_tokens': 24, 'total_tokens': 124, 'completion_tokens_details': {'accepted_prediction_tokens': 0, 'audio_tokens': 0, 'reasoning_tokens': 0, 'rejected_prediction_tokens': 0}, 'prompt_tokens_details': {'audio_tokens': 0, 'cached_tokens': 0}}, 'model_name': 'gpt-4o-mini-2024-07-18', 'system_fingerprint': 'fp_06737a9306', 'finish_reason': 'length', 'logprobs': None}, id='run-57c40f35-4aa7-4f35-a824-2b53b03eae38-0', usage_metadata={'input_tokens': 24, 'output_tokens': 100, 'total_tokens': 124, 'input_token_details': {'audio': 0, 'cache_read': 0}, 'output_token_details': {'audio': 0, 'reasoning': 0}}),\n",
       " AIMessage(content='Training a Night Fury, like Toothless from \"How to Train Your Dragon,\" can be a fun and rewarding experience! Here are several tips to help you train your new dragon:\\n\\n1. **Build Trust**: Establish a bond with your Night Fury by spending time together. Offer treats (like fish or other favorite foods) and engage in gentle play to build trust.\\n\\n2. **Positive Reinforcement**: Use positive reinforcement techniques. Reward your dragon with treats, praise, or affection when it follows', additional_kwargs={'refusal': None}, response_metadata={'token_usage': {'completion_tokens': 100, 'prompt_tokens': 25, 'total_tokens': 125, 'completion_tokens_details': {'accepted_prediction_tokens': 0, 'audio_tokens': 0, 'reasoning_tokens': 0, 'rejected_prediction_tokens': 0}, 'prompt_tokens_details': {'audio_tokens': 0, 'cached_tokens': 0}}, 'model_name': 'gpt-4o-mini-2024-07-18', 'system_fingerprint': 'fp_06737a9306', 'finish_reason': 'length', 'logprobs': None}, id='run-5e782155-882e-4364-8cd4-0ad28a8317fd-0', usage_metadata={'input_tokens': 25, 'output_tokens': 100, 'total_tokens': 125, 'input_token_details': {'audio': 0, 'cache_read': 0}, 'output_token_details': {'audio': 0, 'reasoning': 0}})]"
      ]
     },
     "execution_count": 6,
     "metadata": {},
     "output_type": "execute_result"
    }
   ],
   "source": [
    "%%time\n",
    "chain.batch([{'pet':'dog', 'breed':'shepherd'}, \n",
    "             {'pet':'dragon', 'breed':'night fury'}])"
   ]
  },
  {
   "cell_type": "code",
   "execution_count": 7,
   "id": "1519ab95-c24b-4dcf-adab-6f6564d641cd",
   "metadata": {},
   "outputs": [
    {
     "name": "stdout",
     "output_type": "stream",
     "text": [
      "CPU times: user 12.4 ms, sys: 6.93 ms, total: 19.4 ms\n",
      "Wall time: 1.58 s\n"
     ]
    },
    {
     "data": {
      "text/plain": [
       "AIMessage(content='Congratulations on your new shepherd! Shepherds are intelligent and eager to please, making them great candidates for training. Here are several training tips to help you get started:\\n\\n1. **Start with Basic Commands**: Teach essential commands like \"sit,\" \"stay,\" \"come,\" and \"down.\" Use positive reinforcement, such as treats and praise, to encourage good behavior.\\n\\n2. **Be Consistent**: Use the same commands and cues consistently. This helps your dog understand what you expect from them', additional_kwargs={'refusal': None}, response_metadata={'token_usage': {'completion_tokens': 100, 'prompt_tokens': 24, 'total_tokens': 124, 'completion_tokens_details': {'accepted_prediction_tokens': 0, 'audio_tokens': 0, 'reasoning_tokens': 0, 'rejected_prediction_tokens': 0}, 'prompt_tokens_details': {'audio_tokens': 0, 'cached_tokens': 0}}, 'model_name': 'gpt-4o-mini-2024-07-18', 'system_fingerprint': 'fp_06737a9306', 'finish_reason': 'length', 'logprobs': None}, id='run-0ee016b3-fd9e-410c-af64-9e2fc50681d9-0', usage_metadata={'input_tokens': 24, 'output_tokens': 100, 'total_tokens': 124, 'input_token_details': {'audio': 0, 'cache_read': 0}, 'output_token_details': {'audio': 0, 'reasoning': 0}})"
      ]
     },
     "execution_count": 7,
     "metadata": {},
     "output_type": "execute_result"
    }
   ],
   "source": [
    "%%time\n",
    "chain.invoke({'pet':'dog',\n",
    "              'breed':'shepherd'})"
   ]
  },
  {
   "cell_type": "code",
   "execution_count": 8,
   "id": "5e434051-9f29-4a31-90a3-27daa0a91964",
   "metadata": {},
   "outputs": [
    {
     "name": "stdout",
     "output_type": "stream",
     "text": [
      "CPU times: user 12.3 ms, sys: 5.37 ms, total: 17.7 ms\n",
      "Wall time: 1.57 s\n"
     ]
    },
    {
     "data": {
      "text/plain": [
       "AIMessage(content='Training a Night Fury, like Toothless from \"How to Train Your Dragon,\" can be a fun and rewarding experience! Here are several tips to help you train your new dragon:\\n\\n1. **Build Trust**: Establish a bond with your Night Fury by spending time together. Offer treats (like fish or other dragon-friendly snacks) and engage in gentle play to build trust.\\n\\n2. **Positive Reinforcement**: Use positive reinforcement techniques. Reward your dragon with treats or praise when it follows commands or', additional_kwargs={'refusal': None}, response_metadata={'token_usage': {'completion_tokens': 100, 'prompt_tokens': 25, 'total_tokens': 125, 'completion_tokens_details': {'accepted_prediction_tokens': 0, 'audio_tokens': 0, 'reasoning_tokens': 0, 'rejected_prediction_tokens': 0}, 'prompt_tokens_details': {'audio_tokens': 0, 'cached_tokens': 0}}, 'model_name': 'gpt-4o-mini-2024-07-18', 'system_fingerprint': 'fp_06737a9306', 'finish_reason': 'length', 'logprobs': None}, id='run-75cffc5c-ce57-4055-9a1b-e7cd08b553fc-0', usage_metadata={'input_tokens': 25, 'output_tokens': 100, 'total_tokens': 125, 'input_token_details': {'audio': 0, 'cache_read': 0}, 'output_token_details': {'audio': 0, 'reasoning': 0}})"
      ]
     },
     "execution_count": 8,
     "metadata": {},
     "output_type": "execute_result"
    }
   ],
   "source": [
    "%%time\n",
    "chain.invoke({'pet':'dragon',\n",
    "              'breed':'night fury'})"
   ]
  },
  {
   "cell_type": "code",
   "execution_count": null,
   "id": "8419b758-ee82-4bd6-a013-bae5c1452f7a",
   "metadata": {},
   "outputs": [],
   "source": []
  }
 ],
 "metadata": {
  "kernelspec": {
   "display_name": "langchain_env",
   "language": "python",
   "name": "langchain_env"
  },
  "language_info": {
   "codemirror_mode": {
    "name": "ipython",
    "version": 3
   },
   "file_extension": ".py",
   "mimetype": "text/x-python",
   "name": "python",
   "nbconvert_exporter": "python",
   "pygments_lexer": "ipython3",
   "version": "3.10.10"
  }
 },
 "nbformat": 4,
 "nbformat_minor": 5
}
