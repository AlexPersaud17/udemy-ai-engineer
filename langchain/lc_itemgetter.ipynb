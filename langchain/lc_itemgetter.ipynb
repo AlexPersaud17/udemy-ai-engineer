{
 "cells": [
  {
   "cell_type": "code",
   "execution_count": 2,
   "id": "d6306680-1330-4ff6-adb3-8ccfd59ac9bc",
   "metadata": {},
   "outputs": [],
   "source": [
    "%load_ext dotenv\n",
    "%dotenv"
   ]
  },
  {
   "cell_type": "code",
   "execution_count": 78,
   "id": "39dcd1cb-d1b8-41b0-81ae-acbd64644705",
   "metadata": {},
   "outputs": [],
   "source": [
    "from langchain.memory import ConversationSummaryMemory\n",
    "from langchain_core.prompts import PromptTemplate\n",
    "from langchain_openai import ChatOpenAI\n",
    "from langchain_core.output_parsers import StrOutputParser\n",
    "from langchain_core.runnables import RunnablePassthrough, RunnableLambda\n",
    "from operator import itemgetter"
   ]
  },
  {
   "cell_type": "code",
   "execution_count": 30,
   "id": "a59322fd-9b5f-4369-8d39-1fa297a06644",
   "metadata": {},
   "outputs": [],
   "source": [
    "TEMPLATE = '''\n",
    "The following is a friendly conversation between a human and an AI. \n",
    "The AI is talkative and provides lots of specific details from its context. \n",
    "If the AI does not know the answer to a question, it truthfully says it does not know.\n",
    "\n",
    "Current conversation:\n",
    "{message_log}\n",
    "\n",
    "Human: \n",
    "{question}\n",
    "\n",
    "AI:\n",
    "'''\n",
    "\n",
    "prompt_template = PromptTemplate.from_template(template=TEMPLATE)"
   ]
  },
  {
   "cell_type": "code",
   "execution_count": 32,
   "id": "9f4c2c75-2345-42ee-b842-bfb626caa139",
   "metadata": {},
   "outputs": [],
   "source": [
    "chat = ChatOpenAI(model_name = 'gpt-4o-mini', \n",
    "                  seed = 365,\n",
    "                  temperature = 0,\n",
    "                  max_tokens = 100)"
   ]
  },
  {
   "cell_type": "code",
   "execution_count": 34,
   "id": "05b5c929-c63f-4e5b-a8a2-2bdc980aed31",
   "metadata": {},
   "outputs": [],
   "source": [
    "chain = prompt_template | chat | StrOutputParser()"
   ]
  },
  {
   "cell_type": "code",
   "execution_count": 36,
   "id": "7d88cc02-b10c-43f3-a120-09d7fdfde86a",
   "metadata": {},
   "outputs": [
    {
     "data": {
      "text/plain": [
       "'Absolutely! Octopuses are fascinating creatures, and their unique circulatory system is one of the reasons why. The three hearts serve distinct purposes: \\n\\n1. **Branchial Hearts**: The two hearts that pump blood to the gills are called branchial hearts. They are responsible for ensuring that the blood is oxygenated as it passes through the gills, where gas exchange occurs. This is crucial because octopuses live in aquatic environments and need a constant supply of oxygen.\\n\\n2. **'"
      ]
     },
     "execution_count": 36,
     "metadata": {},
     "output_type": "execute_result"
    }
   ],
   "source": [
    "chain.invoke({'message_log':'''The AI provides an interesting fact about octopuses, stating that they have three hearts. \n",
    "Two hearts pump blood to the gills, while the third heart pumps it to the rest of the body.''', \n",
    "              'question':\"Can you elaborate a bit more on this fact?\"})"
   ]
  },
  {
   "cell_type": "code",
   "execution_count": 37,
   "id": "65fc65a9-1706-4d2d-a9af-d89818c41236",
   "metadata": {},
   "outputs": [],
   "source": [
    "chat_memory = ConversationSummaryMemory(llm = ChatOpenAI(), memory_key = 'message_log')"
   ]
  },
  {
   "cell_type": "code",
   "execution_count": 38,
   "id": "5200d2b4-74f8-4f54-afeb-b505916549c0",
   "metadata": {},
   "outputs": [
    {
     "data": {
      "text/plain": [
       "{'message_log': ''}"
      ]
     },
     "execution_count": 38,
     "metadata": {},
     "output_type": "execute_result"
    }
   ],
   "source": [
    "chat_memory.load_memory_variables({})"
   ]
  },
  {
   "cell_type": "code",
   "execution_count": 76,
   "id": "59c6ff8a-9dda-4b75-a2f0-d5323dd9f18d",
   "metadata": {},
   "outputs": [
    {
     "data": {
      "text/plain": [
       "{'question': \"Can you give me an interesting fact I probably didn't know about?\",\n",
       " 'message_log': {'message_log': ''}}"
      ]
     },
     "execution_count": 76,
     "metadata": {},
     "output_type": "execute_result"
    }
   ],
   "source": [
    "RunnablePassthrough.assign(message_log = chat_memory.load_memory_variables).invoke(\n",
    "    {'question':\"Can you give me an interesting fact I probably didn't know about?\"})"
   ]
  },
  {
   "cell_type": "code",
   "execution_count": 74,
   "id": "64c32f7d-63f1-422f-b067-fc028cb723b3",
   "metadata": {},
   "outputs": [
    {
     "data": {
      "text/plain": [
       "{'input': 'hi', 'first_letter': 'h', 'second_letter': 'i'}"
      ]
     },
     "execution_count": 74,
     "metadata": {},
     "output_type": "execute_result"
    }
   ],
   "source": [
    "RunnablePassthrough.assign(first_letter=lambda x: list(x['input'])[0],\n",
    "                           second_letter=lambda x: list(x['input'])[1]\n",
    "                          ).invoke({'input':'hi'})"
   ]
  },
  {
   "cell_type": "code",
   "execution_count": 86,
   "id": "337c7c48-ec5c-4e43-b7cf-0111fe91a748",
   "metadata": {},
   "outputs": [
    {
     "data": {
      "text/plain": [
       "''"
      ]
     },
     "execution_count": 86,
     "metadata": {},
     "output_type": "execute_result"
    }
   ],
   "source": [
    "RunnableLambda(itemgetter('message_log')).invoke({'message_log':''})"
   ]
  },
  {
   "cell_type": "code",
   "execution_count": 94,
   "id": "2369d8c9-83e3-448b-8e13-6603bc3a6e3c",
   "metadata": {},
   "outputs": [
    {
     "data": {
      "text/plain": [
       "{'question': \"Can you give me an interesting fact I probably didn't know about?\",\n",
       " 'message_log': ''}"
      ]
     },
     "execution_count": 94,
     "metadata": {},
     "output_type": "execute_result"
    }
   ],
   "source": [
    "RunnablePassthrough.assign(message_log = \n",
    "                           RunnableLambda(chat_memory.load_memory_variables) | \n",
    "                           RunnableLambda(itemgetter('message_log')) ).invoke(\n",
    "    {'question':\"Can you give me an interesting fact I probably didn't know about?\"})"
   ]
  },
  {
   "cell_type": "code",
   "execution_count": null,
   "id": "47ad8855-604e-4f23-af31-6b2f97e3f20b",
   "metadata": {},
   "outputs": [],
   "source": []
  }
 ],
 "metadata": {
  "kernelspec": {
   "display_name": "langchain_env",
   "language": "python",
   "name": "langchain_env"
  },
  "language_info": {
   "codemirror_mode": {
    "name": "ipython",
    "version": 3
   },
   "file_extension": ".py",
   "mimetype": "text/x-python",
   "name": "python",
   "nbconvert_exporter": "python",
   "pygments_lexer": "ipython3",
   "version": "3.10.10"
  }
 },
 "nbformat": 4,
 "nbformat_minor": 5
}
