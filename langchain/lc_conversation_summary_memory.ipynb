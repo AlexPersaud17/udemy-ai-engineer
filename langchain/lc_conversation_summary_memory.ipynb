{
 "cells": [
  {
   "cell_type": "code",
   "execution_count": 2,
   "id": "334b04ca-b775-407f-a7b6-1065fa592c01",
   "metadata": {},
   "outputs": [],
   "source": [
    "%load_ext dotenv\n",
    "%dotenv"
   ]
  },
  {
   "cell_type": "code",
   "execution_count": 4,
   "id": "ab3051cf-e3ac-4760-8cec-3a6f2832b068",
   "metadata": {},
   "outputs": [],
   "source": [
    "from langchain_openai.chat_models import ChatOpenAI\n",
    "from langchain_core.prompts import PromptTemplate\n",
    "from langchain.chains.llm import LLMChain\n",
    "from langchain.memory import ConversationSummaryMemory\n",
    "from langchain.globals import set_verbose\n",
    "\n",
    "set_verbose(True)"
   ]
  },
  {
   "cell_type": "code",
   "execution_count": 6,
   "id": "6933f096-f0df-43db-9eba-9c5eeacd4c79",
   "metadata": {},
   "outputs": [],
   "source": [
    "chat=ChatOpenAI(model_name=\"gpt-4o-mini\",\n",
    "                seed=365,\n",
    "                temperature=0,\n",
    "                max_tokens=100)"
   ]
  },
  {
   "cell_type": "code",
   "execution_count": 8,
   "id": "bd01b452-8a1e-45f0-a56c-75675035d5ce",
   "metadata": {},
   "outputs": [],
   "source": [
    "TEMPLATE = '''\n",
    "The following is a friendly conversation between a human and an AI. \n",
    "The AI is talkative and provides lots of specific details from its context. \n",
    "If the AI does not know the answer to a question, it truthfully says it does not know.\n",
    "\n",
    "Current conversation:\n",
    "{message_log}\n",
    "\n",
    "Human:\n",
    "{question}\n",
    "\n",
    "AI:\n",
    "'''\n",
    "\n",
    "prompt_template = PromptTemplate.from_template(template = TEMPLATE)"
   ]
  },
  {
   "cell_type": "code",
   "execution_count": 10,
   "id": "badf155a-3582-4539-b681-d3a74e235854",
   "metadata": {},
   "outputs": [
    {
     "name": "stderr",
     "output_type": "stream",
     "text": [
      "/var/folders/fs/ly3y_3m57537dkrh09vsr_mw0000gn/T/ipykernel_67249/1830851948.py:1: LangChainDeprecationWarning: Please see the migration guide at: https://python.langchain.com/docs/versions/migrating_memory/\n",
      "  chat_memory = ConversationSummaryMemory(llm = ChatOpenAI(),\n"
     ]
    }
   ],
   "source": [
    "chat_memory = ConversationSummaryMemory(llm = ChatOpenAI(), \n",
    "                                        memory_key = 'message_log', \n",
    "                                        return_messages = False)"
   ]
  },
  {
   "cell_type": "code",
   "execution_count": 26,
   "id": "8c969b17-8dcd-4e37-b025-c992f7989502",
   "metadata": {},
   "outputs": [
    {
     "data": {
      "text/plain": [
       "{'message_log': \"The human asks the AI for an interesting fact they probably didn't know. The AI shares that honey never spoils, with examples of jars found in ancient Egyptian tombs still perfectly edible after 3,000 years due to its low moisture content and acidity. The AI elaborates on honey's longevity and chemical composition. The AI then discusses similar foods that have remarkable shelf lives, such as salt and sugar. Salt acts as a natural preservative, while sugar can last indefinitely if stored properly.\"}"
      ]
     },
     "execution_count": 26,
     "metadata": {},
     "output_type": "execute_result"
    }
   ],
   "source": [
    "chat_memory.load_memory_variables({})"
   ]
  },
  {
   "cell_type": "code",
   "execution_count": 14,
   "id": "748a9e03-950d-4940-a056-6353ff0a421c",
   "metadata": {},
   "outputs": [
    {
     "name": "stderr",
     "output_type": "stream",
     "text": [
      "/var/folders/fs/ly3y_3m57537dkrh09vsr_mw0000gn/T/ipykernel_67249/432851078.py:1: LangChainDeprecationWarning: The class `LLMChain` was deprecated in LangChain 0.1.17 and will be removed in 1.0. Use :meth:`~RunnableSequence, e.g., `prompt | llm`` instead.\n",
      "  chain = LLMChain(llm = chat,\n"
     ]
    }
   ],
   "source": [
    "chain = LLMChain(llm = chat, \n",
    "                 prompt = prompt_template, \n",
    "                 memory = chat_memory)"
   ]
  },
  {
   "cell_type": "code",
   "execution_count": 24,
   "id": "b6dbcc8a-a51c-4578-8492-bde816924ac6",
   "metadata": {},
   "outputs": [
    {
     "name": "stdout",
     "output_type": "stream",
     "text": [
      "\n",
      "\n",
      "\u001b[1m> Entering new LLMChain chain...\u001b[0m\n",
      "Prompt after formatting:\n",
      "\u001b[32;1m\u001b[1;3m\n",
      "The following is a friendly conversation between a human and an AI. \n",
      "The AI is talkative and provides lots of specific details from its context. \n",
      "If the AI does not know the answer to a question, it truthfully says it does not know.\n",
      "\n",
      "Current conversation:\n",
      "The human asks the AI for an interesting fact they probably didn't know. The AI shares that honey never spoils, with examples of jars found in ancient Egyptian tombs still perfectly edible after 3,000 years. Honey's low moisture content and acidic pH create an environment inhospitable to bacteria and microorganisms, allowing it to last indefinitely. The AI elaborates on honey's longevity, discussing its unique chemical composition, low moisture content, and natural acidity. Additionally, the AI begins explaining the fascinating process by which bees create honey.\n",
      "\n",
      "Human:\n",
      "What are similar foods?\n",
      "\n",
      "AI:\n",
      "\u001b[0m\n",
      "\n",
      "\n",
      "\u001b[1m> Entering new LLMChain chain...\u001b[0m\n",
      "Prompt after formatting:\n",
      "\u001b[32;1m\u001b[1;3mProgressively summarize the lines of conversation provided, adding onto the previous summary returning a new summary.\n",
      "\n",
      "EXAMPLE\n",
      "Current summary:\n",
      "The human asks what the AI thinks of artificial intelligence. The AI thinks artificial intelligence is a force for good.\n",
      "\n",
      "New lines of conversation:\n",
      "Human: Why do you think artificial intelligence is a force for good?\n",
      "AI: Because artificial intelligence will help humans reach their full potential.\n",
      "\n",
      "New summary:\n",
      "The human asks what the AI thinks of artificial intelligence. The AI thinks artificial intelligence is a force for good because it will help humans reach their full potential.\n",
      "END OF EXAMPLE\n",
      "\n",
      "Current summary:\n",
      "The human asks the AI for an interesting fact they probably didn't know. The AI shares that honey never spoils, with examples of jars found in ancient Egyptian tombs still perfectly edible after 3,000 years. Honey's low moisture content and acidic pH create an environment inhospitable to bacteria and microorganisms, allowing it to last indefinitely. The AI elaborates on honey's longevity, discussing its unique chemical composition, low moisture content, and natural acidity. Additionally, the AI begins explaining the fascinating process by which bees create honey.\n",
      "\n",
      "New lines of conversation:\n",
      "Human: What are similar foods?\n",
      "AI: There are several foods that, like honey, have remarkable shelf lives and can last for years or even indefinitely under the right conditions. Here are a few examples:\n",
      "\n",
      "1. **Salt**: Salt is a natural preservative and has been used for centuries to preserve food. It doesn't spoil because it creates an environment that is inhospitable to bacteria and microorganisms. As long as it’s kept dry, it can last indefinitely.\n",
      "\n",
      "2. **Sugar**: Similar to salt, sugar can last indefinitely if\n",
      "\n",
      "New summary:\u001b[0m\n",
      "\n",
      "\u001b[1m> Finished chain.\u001b[0m\n",
      "\n",
      "\u001b[1m> Finished chain.\u001b[0m\n"
     ]
    },
    {
     "data": {
      "text/plain": [
       "{'question': 'What are similar foods?',\n",
       " 'message_log': \"The human asks the AI for an interesting fact they probably didn't know. The AI shares that honey never spoils, with examples of jars found in ancient Egyptian tombs still perfectly edible after 3,000 years. Honey's low moisture content and acidic pH create an environment inhospitable to bacteria and microorganisms, allowing it to last indefinitely. The AI elaborates on honey's longevity, discussing its unique chemical composition, low moisture content, and natural acidity. Additionally, the AI begins explaining the fascinating process by which bees create honey.\",\n",
       " 'text': \"There are several foods that, like honey, have remarkable shelf lives and can last for years or even indefinitely under the right conditions. Here are a few examples:\\n\\n1. **Salt**: Salt is a natural preservative and has been used for centuries to preserve food. It doesn't spoil because it creates an environment that is inhospitable to bacteria and microorganisms. As long as it’s kept dry, it can last indefinitely.\\n\\n2. **Sugar**: Similar to salt, sugar can last indefinitely if\"}"
      ]
     },
     "execution_count": 24,
     "metadata": {},
     "output_type": "execute_result"
    }
   ],
   "source": [
    "# chain.invoke({'question':\"Can you give me an interesting fact I probably didn't know about?\"})\n",
    "# chain.invoke({'question':\"Can you elaborate a bit more on this fact?\"})\n",
    "chain.invoke({'question':\"What are similar foods?\"})"
   ]
  },
  {
   "cell_type": "code",
   "execution_count": null,
   "id": "0947a7e3-4233-4232-8ba2-334ef4237ba1",
   "metadata": {},
   "outputs": [],
   "source": []
  }
 ],
 "metadata": {
  "kernelspec": {
   "display_name": "langchain_env",
   "language": "python",
   "name": "langchain_env"
  },
  "language_info": {
   "codemirror_mode": {
    "name": "ipython",
    "version": 3
   },
   "file_extension": ".py",
   "mimetype": "text/x-python",
   "name": "python",
   "nbconvert_exporter": "python",
   "pygments_lexer": "ipython3",
   "version": "3.10.10"
  }
 },
 "nbformat": 4,
 "nbformat_minor": 5
}
