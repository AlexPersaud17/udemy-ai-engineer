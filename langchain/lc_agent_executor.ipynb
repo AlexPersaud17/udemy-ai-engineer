{
 "cells": [
  {
   "cell_type": "code",
   "execution_count": 2,
   "id": "caf6683e-09b3-4e57-9d42-46f378c538fb",
   "metadata": {},
   "outputs": [],
   "source": [
    "%load_ext dotenv\n",
    "%dotenv"
   ]
  },
  {
   "cell_type": "code",
   "execution_count": 3,
   "id": "9d7d93e3-113b-4fdb-b5b6-0ed0b0036bfe",
   "metadata": {},
   "outputs": [],
   "source": [
    "from langchain_community.utilities import WikipediaAPIWrapper\n",
    "from langchain_community.tools import WikipediaQueryRun\n",
    "from langchain_community.vectorstores import Chroma\n",
    "\n",
    "from langchain_openai.embeddings import OpenAIEmbeddings\n",
    "from langchain_openai.chat_models import ChatOpenAI\n",
    "\n",
    "from langchain.tools.retriever import create_retriever_tool\n",
    "from langchain.tools import tool\n",
    "\n",
    "from langchain import hub\n",
    "\n",
    "from platform import python_version\n",
    "\n",
    "from langchain.agents import (create_tool_calling_agent, \n",
    "                              AgentExecutor)"
   ]
  },
  {
   "cell_type": "code",
   "execution_count": 4,
   "id": "75e65e61-366d-44df-b43a-b3f2297eb5b8",
   "metadata": {},
   "outputs": [],
   "source": [
    "wikipedia_tool = WikipediaQueryRun(api_wrapper = WikipediaAPIWrapper())"
   ]
  },
  {
   "cell_type": "code",
   "execution_count": 5,
   "id": "714fedb9-5bd0-4e79-a6c4-d83787380ab2",
   "metadata": {},
   "outputs": [
    {
     "name": "stderr",
     "output_type": "stream",
     "text": [
      "/var/folders/fs/ly3y_3m57537dkrh09vsr_mw0000gn/T/ipykernel_2644/3325357122.py:1: LangChainDeprecationWarning: The class `Chroma` was deprecated in LangChain 0.2.9 and will be removed in 1.0. An updated version of the class exists in the :class:`~langchain-chroma package and should be used instead. To use it run `pip install -U :class:`~langchain-chroma` and import as `from :class:`~langchain_chroma import Chroma``.\n",
      "  vectorstore = Chroma(persist_directory = \"./intro-to-ds-lectures\",\n"
     ]
    }
   ],
   "source": [
    "vectorstore = Chroma(persist_directory = \"./intro-to-ds-lectures\", \n",
    "                     embedding_function = OpenAIEmbeddings())\n",
    "\n",
    "retriever = vectorstore.as_retriever(search_type = 'mmr', \n",
    "                                     search_kwargs = {'k':3, \n",
    "                                                      'lambda_mult':0.7})\n",
    "\n",
    "retriever_tool = create_retriever_tool(retriever = retriever, \n",
    "                                       name = \"Introduction-to-Data-and-Data-Science-Course-Lectures\", \n",
    "                                       description = '''For any questions regarding \n",
    "                                       the Introduction to Data and Data Science course, you must use this tool.''')"
   ]
  },
  {
   "cell_type": "code",
   "execution_count": 6,
   "id": "d5bbbe86-672a-4f39-8e7b-ac3907f4b018",
   "metadata": {},
   "outputs": [],
   "source": [
    "@tool\n",
    "def get_python_version() -> str:\n",
    "    ''' Useful for questions regarding the version of Python currently used. '''\n",
    "    return python_version()"
   ]
  },
  {
   "cell_type": "code",
   "execution_count": 7,
   "id": "d97e03d4-c914-469f-99ca-5e58fbf70634",
   "metadata": {},
   "outputs": [],
   "source": [
    "tools = [wikipedia_tool, retriever_tool, get_python_version]"
   ]
  },
  {
   "cell_type": "code",
   "execution_count": 8,
   "id": "bb6780f0-a142-44ae-99e1-7035af02e933",
   "metadata": {},
   "outputs": [],
   "source": [
    "chat = ChatOpenAI(model_name = 'gpt-4o-mini', \n",
    "                  temperature = 0,\n",
    "                  seed = 365)"
   ]
  },
  {
   "cell_type": "code",
   "execution_count": 9,
   "id": "2fab46a1-a653-4487-968f-244bc6ac2502",
   "metadata": {},
   "outputs": [
    {
     "name": "stderr",
     "output_type": "stream",
     "text": [
      "/opt/anaconda3/envs/langchain_env/lib/python3.10/site-packages/langsmith/client.py:253: LangSmithMissingAPIKeyWarning: API key must be provided when using hosted LangSmith API\n",
      "  warnings.warn(\n"
     ]
    }
   ],
   "source": [
    "chat_prompt_template = hub.pull(\"hwchase17/openai-tools-agent\")"
   ]
  },
  {
   "cell_type": "code",
   "execution_count": 10,
   "id": "9899ae9a-b271-482e-bfc6-cd3de03fc2cd",
   "metadata": {},
   "outputs": [],
   "source": [
    "agent = create_tool_calling_agent(llm = chat,\n",
    "                                  tools = tools,\n",
    "                                  prompt = chat_prompt_template)"
   ]
  },
  {
   "cell_type": "code",
   "execution_count": 11,
   "id": "15863751-40eb-48f0-812c-02277858963a",
   "metadata": {},
   "outputs": [],
   "source": [
    "agent_executor = AgentExecutor(agent=agent, \n",
    "                               tools=tools, \n",
    "                               verbose=True, \n",
    "                               return_intermediate_steps=True)"
   ]
  },
  {
   "cell_type": "code",
   "execution_count": 12,
   "id": "c100e2bb-47f5-44d8-9b3a-aab078a65b63",
   "metadata": {},
   "outputs": [
    {
     "name": "stdout",
     "output_type": "stream",
     "text": [
      "\n",
      "\n",
      "\u001b[1m> Entering new AgentExecutor chain...\u001b[0m\n",
      "\u001b[32;1m\u001b[1;3m\n",
      "Invoking: `get_python_version` with `{}`\n",
      "\n",
      "\n",
      "\u001b[0m\u001b[38;5;200m\u001b[1;3m3.10.10\u001b[0m\u001b[32;1m\u001b[1;3mYou are currently using Python version 3.10.10.\u001b[0m\n",
      "\n",
      "\u001b[1m> Finished chain.\u001b[0m\n"
     ]
    }
   ],
   "source": [
    "response = agent_executor.invoke({\"input\":\"Could you tell me the version of Python I'm currently using?\"})"
   ]
  },
  {
   "cell_type": "code",
   "execution_count": 25,
   "id": "ba25ff6f-4320-4f4c-a588-1cd694718122",
   "metadata": {},
   "outputs": [
    {
     "data": {
      "text/plain": [
       "{'input': \"Could you tell me the version of Python I'm currently using?\",\n",
       " 'output': 'You are currently using Python version 3.10.10.',\n",
       " 'intermediate_steps': [(ToolAgentAction(tool='get_python_version', tool_input={}, log='\\nInvoking: `get_python_version` with `{}`\\n\\n\\n', message_log=[AIMessageChunk(content='', additional_kwargs={'tool_calls': [{'index': 0, 'id': 'call_aBY8ZCWez4g5L54o1gmdKpPz', 'function': {'arguments': '{}', 'name': 'get_python_version'}, 'type': 'function'}]}, response_metadata={'finish_reason': 'tool_calls', 'model_name': 'gpt-4o-mini-2024-07-18', 'system_fingerprint': 'fp_06737a9306'}, id='run-470cf862-6c6b-4f13-990d-6f7dc9074489', tool_calls=[{'name': 'get_python_version', 'args': {}, 'id': 'call_aBY8ZCWez4g5L54o1gmdKpPz', 'type': 'tool_call'}], tool_call_chunks=[{'name': 'get_python_version', 'args': '{}', 'id': 'call_aBY8ZCWez4g5L54o1gmdKpPz', 'index': 0, 'type': 'tool_call_chunk'}])], tool_call_id='call_aBY8ZCWez4g5L54o1gmdKpPz'),\n",
       "   '3.10.10')]}"
      ]
     },
     "execution_count": 25,
     "metadata": {},
     "output_type": "execute_result"
    }
   ],
   "source": [
    "response"
   ]
  },
  {
   "cell_type": "code",
   "execution_count": 27,
   "id": "220bca95-1122-4549-8b02-b93744d671fa",
   "metadata": {},
   "outputs": [
    {
     "name": "stdout",
     "output_type": "stream",
     "text": [
      "\n",
      "\n",
      "\u001b[1m> Entering new AgentExecutor chain...\u001b[0m\n",
      "\u001b[32;1m\u001b[1;3m\n",
      "Invoking: `Introduction-to-Data-and-Data-Science-Course-Lectures` with `{'query': 'programming languages for data science'}`\n",
      "\n",
      "\n",
      "\u001b[0m\u001b[33;1m\u001b[1;3mThus, we need a lot of computational power, and we can expect people to use the languages similar to those in the big data column. Apart from R, Python, and MATLAB, other, faster languages are used like Java, JavaScript, C, C++, and Scala. Cool. What we said may be wonderful, but that’s not all! By using one or more programming languages, people create application software or, as they are sometimes called, software solutions, that are adjusted for specific business needs\n",
      "\n",
      "What about big data? Apart from R and Python, people working in this area are often proficient in other languages like Java or Scala. These two have not been developed specifically for doing statistical analyses, however they turn out to be very useful when combining data from multiple sources. All right! Let’s finish off with machine learning. When it comes to machine learning, we often deal with big data\n",
      "\n",
      "Great! We hope we gave you a good idea about the level of applicability of the most frequently used programming and software tools in the field of data science. Thank you for watching!\u001b[0m\u001b[32;1m\u001b[1;3m\n",
      "Invoking: `wikipedia` with `{'query': 'Python (programming language)'}`\n",
      "\n",
      "\n",
      "\u001b[0m\u001b[36;1m\u001b[1;3mPage: Python (programming language)\n",
      "Summary: Python is a high-level, general-purpose programming language. Its design philosophy emphasizes code readability with the use of significant indentation.\n",
      "Python is dynamically type-checked and garbage-collected. It supports multiple programming paradigms, including structured (particularly procedural), object-oriented and functional programming. It is often described as a \"batteries included\" language due to its comprehensive standard library.\n",
      "Guido van Rossum began working on Python in the late 1980s as a successor to the ABC programming language and first released it in 1991 as Python 0.9.0. Python 2.0 was released in 2000. Python 3.0, released in 2008, was a major revision not completely backward-compatible with earlier versions. Python 2.7.18, released in 2020, was the last release of Python 2.\n",
      "Python consistently ranks as one of the most popular programming languages, and has gained widespread use in the machine learning community.\n",
      "\n",
      "\n",
      "\n",
      "Page: History of Python\n",
      "Summary: The programming language Python was conceived in the late 1980s, and its implementation was started in December 1989 by Guido van Rossum at CWI in the Netherlands as a successor to ABC capable of exception handling and interfacing with the Amoeba operating system. Van Rossum is Python's principal author, and his continuing central role in deciding the direction of Python is reflected in the title given to him by the Python community, Benevolent Dictator for Life (BDFL). (However, Van Rossum stepped down as leader on July 12, 2018.). Python was named after the BBC TV show Monty Python's Flying Circus.\n",
      "Python 2.0 was released on October 16, 2000, with many major new features, such as list comprehensions, cycle-detecting garbage collector (in addition to reference counting) and reference counting, for memory management and support for Unicode, along with a change to the development process itself, with a shift to a more transparent and community-backed process.\n",
      "Python 3.0, a major, backwards-incompatible release, was released on December 3, 2008 after a long period of testing. Many of its major features have also been backported to the backwards-compatible, though now-unsupported, Python 2.6 and 2.7. Releases of Python 3 include the 2to3 utility, which automates the translation of Python 2 code to Python 3.\n",
      "\n",
      "Page: Mojo (programming language)\n",
      "Summary: Mojo is a programming language in the Python family that is currently under development. It is available both in browsers via Jupyter notebooks, and locally on Linux and macOS. Mojo aims to combine the usability of a high-level programming language, specifically Python, with the performance of a system programming language such as C++, Rust, and Zig. As of February 2025, the Mojo compiler is closed source with an open source standard library. Modular, the company behind Mojo, has stated an intent to eventually open source the Mojo language, as it matures.\n",
      "Mojo builds on the Multi-Level Intermediate Representation (MLIR) compiler software framework instead of directly on the lower level LLVM compiler framework, as do many languages such as Julia, Swift, Clang, and Rust. MLIR is a newer compiler framework that allows Mojo to exploit higher level compiler passes unavailable in LLVM alone, and allows Mojo to compile down and target more than only central processing units (CPUs), including producing code that can run on graphics  processing units (GPUs), Tensor Processing Units (TPUs), application-specific integrated circuits (ASICs) and other accelerators. It can also often more effectively use certain types of CPU optimizations directly, like single instruction, multiple data (SIMD) with minor intervention by a developer, as occurs in many other languages. According to Jeremy Howard of fast.ai, Mojo can be seen as \"syntax sugar for MLIR\" and for that reason Mojo is well optimized for applications like artificial intelligence (AI).\n",
      "\n",
      "\u001b[0m\u001b[32;1m\u001b[1;3m\n",
      "Invoking: `wikipedia` with `{'query': 'R (programming language)'}`\n",
      "\n",
      "\n",
      "\u001b[0m\u001b[36;1m\u001b[1;3mPage: R (programming language)\n",
      "Summary: R is a programming language for statistical computing and data visualization. It has been adopted in the fields of data mining, bioinformatics and data analysis.\n",
      "The core R language is augmented by a large number of extension packages, containing reusable code, documentation, and sample data.\n",
      "R software is open-source and free software. It is licensed by the GNU Project and available under the GNU General Public License. It is written primarily in C, Fortran, and R itself. Precompiled executables are provided for various operating systems.\n",
      "As an interpreted language, R has a native command line interface. Moreover, multiple third-party graphical user interfaces are available, such as RStudio—an integrated development environment—and Jupyter—a notebook interface.\n",
      "\n",
      "Page: C (programming language)\n",
      "Summary: C (pronounced  – like the letter c) is a general-purpose programming language. It was created in the 1970s by Dennis Ritchie and remains very widely used and influential. By design, C's features cleanly reflect the capabilities of the targeted CPUs. It has found lasting use in operating systems code (especially in kernels), device drivers, and protocol stacks, but its use in application software has been decreasing. C is commonly used on computer architectures that range from the largest supercomputers to the smallest microcontrollers and embedded systems.\n",
      "A successor to the programming language B, C was originally developed at Bell Labs by Ritchie between 1972 and 1973 to construct utilities running on Unix. It was applied to re-implementing the kernel of the Unix operating system. During the 1980s, C gradually gained popularity. It has become one of the most widely used programming languages, with C compilers available for practically all modern computer architectures and operating systems. The book The C Programming Language, co-authored by the original language designer, served for many years as the de facto standard for the language. C has been standardized since 1989 by the American National Standards Institute (ANSI) and, subsequently, jointly by the International Organization for Standardization (ISO) and the International Electrotechnical Commission (IEC).\n",
      "C is an imperative procedural language, supporting structured programming, lexical variable scope, and recursion, with a static type system. It was designed to be compiled to provide low-level access to memory and language constructs that map efficiently to machine instructions, all with minimal runtime support. Despite its low-level capabilities, the language was designed to encourage cross-platform programming. A standards-compliant C program written with portability in mind can be compiled for a wide variety of computer platforms and operating systems with few changes to its source code.\n",
      "Since 2000, C has consistently ranked among the top four languages in the TIOBE index, a measure of the popularity of programming languages.\n",
      "\n",
      "Page: The C Programming Language\n",
      "Summary: The C Programming Language (sometimes termed K&R, after its authors' initials) is a computer programming book written by Brian Kernighan and Dennis Ritchie, the latter of whom originally designed and implemented the C programming language, as well as co-designed the Unix operating system with which development of the language was closely intertwined.  The book was central to the development and popularization of C and is still widely read and used today.  Because the book was co-authored by the original language designer, and because the first edition of the book served for many years as the de facto standard for the language, the book was regarded by many to be the authoritative reference on C.\u001b[0m\u001b[32;1m\u001b[1;3mIn the field of data science, a data scientist should be familiar with several programming languages. Here are some of the key languages:\n",
      "\n",
      "1. **Python**\n",
      "   - **Creator**: Guido van Rossum\n",
      "   - **Overview**: Python is a high-level, general-purpose programming language known for its readability and versatility. It supports multiple programming paradigms and has a comprehensive standard library, making it popular in data science and machine learning.\n",
      "\n",
      "2. **R**\n",
      "   - **Creator**: Ross Ihaka and Robert Gentleman\n",
      "   - **Overview**: R is specifically designed for statistical computing and data visualization. It is widely used in data analysis, bioinformatics, and data mining, and is known for its extensive package ecosystem.\n",
      "\n",
      "3. **MATLAB**\n",
      "   - **Creator**: Cleve Moler\n",
      "   - **Overview**: MATLAB is a high-performance language primarily used for numerical computing and is popular in academia and engineering.\n",
      "\n",
      "4. **Java**\n",
      "   - **Creator**: James Gosling\n",
      "   - **Overview**: Java is a general-purpose programming language that is widely used in enterprise environments and for big data technologies.\n",
      "\n",
      "5. **JavaScript**\n",
      "   - **Creator**: Brendan Eich\n",
      "   - **Overview**: JavaScript is primarily known for web development but is increasingly used in data visualization and web-based data applications.\n",
      "\n",
      "6. **C**\n",
      "   - **Creator**: Dennis Ritchie\n",
      "   - **Overview**: C is a general-purpose programming language that provides low-level access to memory and is used in systems programming.\n",
      "\n",
      "7. **C++**\n",
      "   - **Creator**: Bjarne Stroustrup\n",
      "   - **Overview**: C++ is an extension of C that includes object-oriented features and is used in performance-critical applications.\n",
      "\n",
      "8. **Scala**\n",
      "   - **Creator**: Martin Odersky\n",
      "   - **Overview**: Scala is a language that combines object-oriented and functional programming and is often used with big data frameworks like Apache Spark.\n",
      "\n",
      "These languages are essential for various tasks in data science, including data manipulation, statistical analysis, machine learning, and data visualization.\u001b[0m\n",
      "\n",
      "\u001b[1m> Finished chain.\u001b[0m\n"
     ]
    }
   ],
   "source": [
    "response = agent_executor.invoke({\"input\":'''\n",
    "I'm currently following the Introduction to Data and Data Science course.\n",
    "Could you list the programming languages a data scientist should know?\n",
    "Additionally, could you tell me who their creators are?\n",
    "'''})"
   ]
  },
  {
   "cell_type": "code",
   "execution_count": null,
   "id": "2a5ebb30-0b4f-45ee-8210-1e91d47fcab2",
   "metadata": {},
   "outputs": [],
   "source": []
  }
 ],
 "metadata": {
  "kernelspec": {
   "display_name": "langchain_env",
   "language": "python",
   "name": "langchain_env"
  },
  "language_info": {
   "codemirror_mode": {
    "name": "ipython",
    "version": 3
   },
   "file_extension": ".py",
   "mimetype": "text/x-python",
   "name": "python",
   "nbconvert_exporter": "python",
   "pygments_lexer": "ipython3",
   "version": "3.10.10"
  }
 },
 "nbformat": 4,
 "nbformat_minor": 5
}
