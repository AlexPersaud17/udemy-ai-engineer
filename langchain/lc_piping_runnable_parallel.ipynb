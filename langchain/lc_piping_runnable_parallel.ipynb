{
 "cells": [
  {
   "cell_type": "code",
   "execution_count": 2,
   "id": "c732ffa7-2704-4eb2-91b0-fa2db6efff01",
   "metadata": {},
   "outputs": [],
   "source": [
    "%load_ext dotenv\n",
    "%dotenv"
   ]
  },
  {
   "cell_type": "code",
   "execution_count": 4,
   "id": "50e0e283-74bf-4d08-b9e6-1d4dcb0bf126",
   "metadata": {},
   "outputs": [],
   "source": [
    "from langchain_core.prompts import ChatPromptTemplate\n",
    "from langchain_openai import ChatOpenAI\n",
    "from langchain_core.output_parsers import StrOutputParser\n",
    "from langchain_core.runnables import RunnableParallel"
   ]
  },
  {
   "cell_type": "code",
   "execution_count": 6,
   "id": "d646ef16-e8d2-4def-9a83-14914791b762",
   "metadata": {},
   "outputs": [],
   "source": [
    "chat_template_books = ChatPromptTemplate.from_template(\n",
    "    '''\n",
    "    Suggest three of the best intermediate-level {programming language} books. \n",
    "    Answer only by listing the books.\n",
    "    '''\n",
    ")\n",
    "\n",
    "chat_template_projects = ChatPromptTemplate.from_template(\n",
    "    '''\n",
    "    Suggest three interesting {programming language} projects suitable for intermediate-level programmers. \n",
    "    Answer only by listing the projects.\n",
    "    '''\n",
    ")\n",
    "\n",
    "chat_template_time = ChatPromptTemplate.from_template(\n",
    "     '''\n",
    "     I'm an intermediate level programmer.\n",
    "     \n",
    "     Consider the following literature:\n",
    "     {books}\n",
    "     \n",
    "     Also, consider the following projects:\n",
    "     {projects}\n",
    "     \n",
    "     Roughly how much time would it take me to complete the literature and the projects?\n",
    "     \n",
    "     '''\n",
    ")"
   ]
  },
  {
   "cell_type": "code",
   "execution_count": 18,
   "id": "3edbbd2b-82a8-420c-b776-ca6177b334d8",
   "metadata": {},
   "outputs": [],
   "source": [
    "chat = ChatOpenAI(model_name = 'gpt-4o-mini', \n",
    "                  seed = 365,\n",
    "                  temperature = 0,\n",
    "                  max_tokens = 500)"
   ]
  },
  {
   "cell_type": "code",
   "execution_count": 20,
   "id": "66702122-3777-4f85-b21e-d5abdb1bf23b",
   "metadata": {},
   "outputs": [],
   "source": [
    "string_parser = StrOutputParser()"
   ]
  },
  {
   "cell_type": "code",
   "execution_count": 22,
   "id": "325c6ed8-4740-4763-8f83-0222b803abd8",
   "metadata": {},
   "outputs": [],
   "source": [
    "chain_books = chat_template_books | chat | string_parser\n",
    "\n",
    "chain_projects = chat_template_projects | chat | string_parser"
   ]
  },
  {
   "cell_type": "code",
   "execution_count": 24,
   "id": "f77c1784-9265-469b-a381-20d077cbcad1",
   "metadata": {},
   "outputs": [],
   "source": [
    "chain_parallel = RunnableParallel({'books':chain_books, 'projects':chain_projects})"
   ]
  },
  {
   "cell_type": "code",
   "execution_count": 26,
   "id": "43798d02-d96b-4c03-a1ba-b2193258fcf2",
   "metadata": {},
   "outputs": [
    {
     "data": {
      "text/plain": [
       "{'books': '1. \"Fluent Python\" by Luciano Ramalho  \\n2. \"Effective Python: 90 Specific Ways to Write Better Python\" by Brett Slatkin  \\n3. \"Python Cookbook\" by David Beazley and Brian K. Jones  ',\n",
       " 'projects': '1. Personal Finance Tracker with Data Visualization  \\n2. Web Scraper with Automated Reporting  \\n3. Chatbot using Natural Language Processing'}"
      ]
     },
     "execution_count": 26,
     "metadata": {},
     "output_type": "execute_result"
    }
   ],
   "source": [
    "chain_parallel.invoke({'programming language':'Python'})"
   ]
  },
  {
   "cell_type": "code",
   "execution_count": 30,
   "id": "7670ca20-ede1-48a9-ad5b-db3e6892ec14",
   "metadata": {},
   "outputs": [],
   "source": [
    "chain_time1=(RunnableParallel({'books':chain_books, \n",
    "                              'projects':chain_projects})\n",
    "            | chat_template_time\n",
    "            | chat\n",
    "            | string_parser\n",
    "           )"
   ]
  },
  {
   "cell_type": "code",
   "execution_count": 36,
   "id": "aafecdee-3734-4f08-9204-8999fa7a365b",
   "metadata": {},
   "outputs": [],
   "source": [
    "chain_time2=({'books':chain_books, \n",
    "              'projects':chain_projects}\n",
    "            | chat_template_time\n",
    "            | chat\n",
    "            | string_parser\n",
    "           )"
   ]
  },
  {
   "cell_type": "code",
   "execution_count": 38,
   "id": "e1bb4862-d2fd-47a3-81db-41f454ea1500",
   "metadata": {
    "scrolled": true
   },
   "outputs": [
    {
     "name": "stdout",
     "output_type": "stream",
     "text": [
      "The time it takes to complete the literature and projects can vary significantly based on your current skill level, the depth of understanding you wish to achieve, and the complexity of the projects. However, I can provide a rough estimate for each component.\n",
      "\n",
      "### Literature\n",
      "\n",
      "1. **\"Fluent Python\" by Luciano Ramalho**: This book is comprehensive and covers many advanced topics. Depending on your reading speed and the time you dedicate to practicing the concepts, it could take around **4-6 weeks** if you read a few chapters each week and practice the examples.\n",
      "\n",
      "2. **\"Effective Python: 90 Specific Ways to Write Better Python\" by Brett Slatkin**: This book is more concise and can be read more quickly. You might spend about **2-3 weeks** on this, especially if you take time to implement the suggestions.\n",
      "\n",
      "3. **\"Python Cookbook\" by David Beazley and Brian K. Jones**: This book is practical and hands-on. You might spend around **3-4 weeks** working through the recipes and applying them to your projects.\n",
      "\n",
      "### Total Time for Literature: **9-13 weeks**\n",
      "\n",
      "### Projects\n",
      "\n",
      "1. **Personal Finance Tracker with Data Visualization**: Depending on the complexity and features you want to include, this project could take around **4-6 weeks**. This includes time for planning, coding, testing, and refining the application.\n",
      "\n",
      "2. **Web Scraper with Automated Reporting**: This project could take about **3-5 weeks**, depending on the complexity of the website you're scraping and the reporting features you want to implement.\n",
      "\n",
      "3. **Chatbot using Natural Language Processing**: This project can be quite complex, especially if you're using advanced NLP techniques. It might take around **5-8 weeks** to design, implement, and test the chatbot.\n",
      "\n",
      "### Total Time for Projects: **12-19 weeks**\n",
      "\n",
      "### Overall Estimate\n",
      "\n",
      "Combining both the literature and projects, you might expect to spend approximately **21-32 weeks** in total. This is a rough estimate and can vary based on your pace, the time you can dedicate each week, and your prior experience with similar projects. If you can work on the projects while reading the literature, you might be able to reduce the overall time.\n"
     ]
    }
   ],
   "source": [
    "print(chain_time2.invoke({'programming language':'Python'}))"
   ]
  },
  {
   "cell_type": "code",
   "execution_count": 40,
   "id": "7b49ffc0-d3f8-4b2b-b2cd-b0ad6e8b3b84",
   "metadata": {},
   "outputs": [
    {
     "name": "stdout",
     "output_type": "stream",
     "text": [
      "            +-------------------------------+              \n",
      "            | Parallel<books,projects>Input |              \n",
      "            +-------------------------------+              \n",
      "                   ***               ***                   \n",
      "                ***                     ***                \n",
      "              **                           **              \n",
      "+--------------------+              +--------------------+ \n",
      "| ChatPromptTemplate |              | ChatPromptTemplate | \n",
      "+--------------------+              +--------------------+ \n",
      "           *                                   *           \n",
      "           *                                   *           \n",
      "           *                                   *           \n",
      "    +------------+                      +------------+     \n",
      "    | ChatOpenAI |                      | ChatOpenAI |     \n",
      "    +------------+                      +------------+     \n",
      "           *                                   *           \n",
      "           *                                   *           \n",
      "           *                                   *           \n",
      "  +-----------------+                 +-----------------+  \n",
      "  | StrOutputParser |                 | StrOutputParser |  \n",
      "  +-----------------+                 +-----------------+  \n",
      "                   ***               ***                   \n",
      "                      ***         ***                      \n",
      "                         **     **                         \n",
      "            +--------------------------------+             \n",
      "            | Parallel<books,projects>Output |             \n",
      "            +--------------------------------+             \n",
      "                             *                             \n",
      "                             *                             \n",
      "                             *                             \n",
      "                  +--------------------+                   \n",
      "                  | ChatPromptTemplate |                   \n",
      "                  +--------------------+                   \n",
      "                             *                             \n",
      "                             *                             \n",
      "                             *                             \n",
      "                      +------------+                       \n",
      "                      | ChatOpenAI |                       \n",
      "                      +------------+                       \n",
      "                             *                             \n",
      "                             *                             \n",
      "                             *                             \n",
      "                    +-----------------+                    \n",
      "                    | StrOutputParser |                    \n",
      "                    +-----------------+                    \n",
      "                             *                             \n",
      "                             *                             \n",
      "                             *                             \n",
      "                +-----------------------+                  \n",
      "                | StrOutputParserOutput |                  \n",
      "                +-----------------------+                  \n"
     ]
    }
   ],
   "source": [
    "chain_time2.get_graph().print_ascii()"
   ]
  },
  {
   "cell_type": "code",
   "execution_count": null,
   "id": "5de1bbd5-7a56-41b4-98d4-36adb62b69c9",
   "metadata": {},
   "outputs": [],
   "source": []
  }
 ],
 "metadata": {
  "kernelspec": {
   "display_name": "langchain_env",
   "language": "python",
   "name": "langchain_env"
  },
  "language_info": {
   "codemirror_mode": {
    "name": "ipython",
    "version": 3
   },
   "file_extension": ".py",
   "mimetype": "text/x-python",
   "name": "python",
   "nbconvert_exporter": "python",
   "pygments_lexer": "ipython3",
   "version": "3.10.10"
  }
 },
 "nbformat": 4,
 "nbformat_minor": 5
}
