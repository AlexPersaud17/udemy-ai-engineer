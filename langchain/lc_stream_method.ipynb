{
 "cells": [
  {
   "cell_type": "code",
   "execution_count": 1,
   "id": "9d60ea12-88a8-40ff-8fa1-1dbec821a72d",
   "metadata": {},
   "outputs": [],
   "source": [
    "%load_ext dotenv\n",
    "%dotenv"
   ]
  },
  {
   "cell_type": "code",
   "execution_count": 3,
   "id": "c08d5c5b-b80f-4a0a-b784-a47ffd8a5118",
   "metadata": {},
   "outputs": [],
   "source": [
    "from langchain_core.prompts import ChatPromptTemplate\n",
    "from langchain_openai import ChatOpenAI"
   ]
  },
  {
   "cell_type": "code",
   "execution_count": 5,
   "id": "1c86b5d0-e709-44d6-8188-1722edc4ba59",
   "metadata": {},
   "outputs": [],
   "source": [
    "chat_template = ChatPromptTemplate.from_messages([\n",
    "    ('human', \n",
    "     \"I've recently adopted a {pet} which is a {breed}. Could you suggest several training tips?\")])"
   ]
  },
  {
   "cell_type": "code",
   "execution_count": 45,
   "id": "977d586e-0d83-4a99-af25-1108cd352029",
   "metadata": {},
   "outputs": [],
   "source": [
    "chat = ChatOpenAI(model_name = 'gpt-4o-mini', \n",
    "                  seed = 365,\n",
    "                  temperature = 0,\n",
    "                  max_tokens = 100)"
   ]
  },
  {
   "cell_type": "code",
   "execution_count": 47,
   "id": "0d93bcc3-35e7-43b2-8218-58f5092bdce2",
   "metadata": {},
   "outputs": [],
   "source": [
    "chain = chat_template | chat"
   ]
  },
  {
   "cell_type": "code",
   "execution_count": 11,
   "id": "a891e0d4-6b0a-49a4-884b-93510809aeaf",
   "metadata": {},
   "outputs": [
    {
     "data": {
      "text/plain": [
       "AIMessage(content='Congratulations on your new shepherd! These dogs are intelligent and eager to please, making them great candidates for training. Here are several training tips to help you get started:\\n\\n1. **Start with Basic Commands**: Teach essential commands like \"sit,\" \"stay,\" \"come,\" and \"down.\" Use positive reinforcement, such as treats and praise, to encourage good behavior.\\n\\n2. **Consistency is Key**: Use the same commands and gestures consistently. This helps your dog understand what you expect from them', additional_kwargs={'refusal': None}, response_metadata={'token_usage': {'completion_tokens': 100, 'prompt_tokens': 24, 'total_tokens': 124, 'completion_tokens_details': {'accepted_prediction_tokens': 0, 'audio_tokens': 0, 'reasoning_tokens': 0, 'rejected_prediction_tokens': 0}, 'prompt_tokens_details': {'audio_tokens': 0, 'cached_tokens': 0}}, 'model_name': 'gpt-4o-mini-2024-07-18', 'system_fingerprint': 'fp_06737a9306', 'finish_reason': 'length', 'logprobs': None}, id='run-edfaacf4-5556-4293-87a0-0858d0619972-0', usage_metadata={'input_tokens': 24, 'output_tokens': 100, 'total_tokens': 124, 'input_token_details': {'audio': 0, 'cache_read': 0}, 'output_token_details': {'audio': 0, 'reasoning': 0}})"
      ]
     },
     "execution_count": 11,
     "metadata": {},
     "output_type": "execute_result"
    }
   ],
   "source": [
    "chain.invoke({'pet':'dog', 'breed':'shepherd'})"
   ]
  },
  {
   "cell_type": "code",
   "execution_count": 13,
   "id": "7fb80d66-332e-449e-ad24-433b2ca6076e",
   "metadata": {},
   "outputs": [
    {
     "name": "stdout",
     "output_type": "stream",
     "text": [
      "CPU times: user 32.7 ms, sys: 4.95 ms, total: 37.6 ms\n",
      "Wall time: 1.71 s\n"
     ]
    },
    {
     "data": {
      "text/plain": [
       "[AIMessage(content='Congratulations on your new shepherd! Shepherds are intelligent and eager to please, making them great candidates for training. Here are several training tips to help you get started:\\n\\n1. **Start with Basic Commands**: Teach essential commands like \"sit,\" \"stay,\" \"come,\" and \"down.\" Use positive reinforcement, such as treats and praise, to encourage good behavior.\\n\\n2. **Consistency is Key**: Use the same commands and gestures consistently. This helps your dog understand what you expect from them', additional_kwargs={'refusal': None}, response_metadata={'token_usage': {'completion_tokens': 100, 'prompt_tokens': 24, 'total_tokens': 124, 'completion_tokens_details': {'accepted_prediction_tokens': 0, 'audio_tokens': 0, 'reasoning_tokens': 0, 'rejected_prediction_tokens': 0}, 'prompt_tokens_details': {'audio_tokens': 0, 'cached_tokens': 0}}, 'model_name': 'gpt-4o-mini-2024-07-18', 'system_fingerprint': 'fp_06737a9306', 'finish_reason': 'length', 'logprobs': None}, id='run-c63bf65e-74d7-4824-9d88-ac45a1833343-0', usage_metadata={'input_tokens': 24, 'output_tokens': 100, 'total_tokens': 124, 'input_token_details': {'audio': 0, 'cache_read': 0}, 'output_token_details': {'audio': 0, 'reasoning': 0}}),\n",
       " AIMessage(content='Training a Night Fury, like Toothless from \"How to Train Your Dragon,\" can be a fun and rewarding experience! Here are several tips to help you train your new dragon:\\n\\n1. **Build Trust**: Establish a bond with your Night Fury by spending time together. Offer treats (like fish or other favorite foods) and engage in gentle play to build trust.\\n\\n2. **Positive Reinforcement**: Use positive reinforcement techniques. Reward your dragon with treats or praise when it follows commands or exhibits', additional_kwargs={'refusal': None}, response_metadata={'token_usage': {'completion_tokens': 100, 'prompt_tokens': 25, 'total_tokens': 125, 'completion_tokens_details': {'accepted_prediction_tokens': 0, 'audio_tokens': 0, 'reasoning_tokens': 0, 'rejected_prediction_tokens': 0}, 'prompt_tokens_details': {'audio_tokens': 0, 'cached_tokens': 0}}, 'model_name': 'gpt-4o-mini-2024-07-18', 'system_fingerprint': 'fp_06737a9306', 'finish_reason': 'length', 'logprobs': None}, id='run-1957fe6d-4c77-4f94-8c2f-4f6d83bb0b88-0', usage_metadata={'input_tokens': 25, 'output_tokens': 100, 'total_tokens': 125, 'input_token_details': {'audio': 0, 'cache_read': 0}, 'output_token_details': {'audio': 0, 'reasoning': 0}})]"
      ]
     },
     "execution_count": 13,
     "metadata": {},
     "output_type": "execute_result"
    }
   ],
   "source": [
    "%%time\n",
    "chain.batch([{'pet':'dog', 'breed':'shepherd'}, \n",
    "             {'pet':'dragon', 'breed':'night fury'}])"
   ]
  },
  {
   "cell_type": "code",
   "execution_count": 15,
   "id": "25632891-0c86-4b46-b1b1-eb1ecfeabdfb",
   "metadata": {},
   "outputs": [
    {
     "name": "stdout",
     "output_type": "stream",
     "text": [
      "CPU times: user 14.5 ms, sys: 11.9 ms, total: 26.4 ms\n",
      "Wall time: 2.02 s\n"
     ]
    },
    {
     "data": {
      "text/plain": [
       "AIMessage(content='Congratulations on your new shepherd! Shepherds are intelligent and eager to please, making them great candidates for training. Here are several training tips to help you get started:\\n\\n1. **Start with Basic Commands**: Teach essential commands like \"sit,\" \"stay,\" \"come,\" and \"down.\" Use positive reinforcement, such as treats and praise, to encourage good behavior.\\n\\n2. **Consistency is Key**: Use the same commands and gestures consistently. This helps your dog understand what you expect from them', additional_kwargs={'refusal': None}, response_metadata={'token_usage': {'completion_tokens': 100, 'prompt_tokens': 24, 'total_tokens': 124, 'completion_tokens_details': {'accepted_prediction_tokens': 0, 'audio_tokens': 0, 'reasoning_tokens': 0, 'rejected_prediction_tokens': 0}, 'prompt_tokens_details': {'audio_tokens': 0, 'cached_tokens': 0}}, 'model_name': 'gpt-4o-mini-2024-07-18', 'system_fingerprint': 'fp_06737a9306', 'finish_reason': 'length', 'logprobs': None}, id='run-57a03c05-54ed-4f18-bafd-ebb1b40cf115-0', usage_metadata={'input_tokens': 24, 'output_tokens': 100, 'total_tokens': 124, 'input_token_details': {'audio': 0, 'cache_read': 0}, 'output_token_details': {'audio': 0, 'reasoning': 0}})"
      ]
     },
     "execution_count": 15,
     "metadata": {},
     "output_type": "execute_result"
    }
   ],
   "source": [
    "%%time\n",
    "chain.invoke({'pet':'dog', 'breed':'shepherd'})"
   ]
  },
  {
   "cell_type": "code",
   "execution_count": 17,
   "id": "0afa9479-e4ec-4cc7-845e-d54cfd34dd0f",
   "metadata": {},
   "outputs": [
    {
     "name": "stdout",
     "output_type": "stream",
     "text": [
      "CPU times: user 14.7 ms, sys: 4.01 ms, total: 18.7 ms\n",
      "Wall time: 1.64 s\n"
     ]
    },
    {
     "data": {
      "text/plain": [
       "AIMessage(content='Training a Night Fury, like Toothless from \"How to Train Your Dragon,\" can be a fun and rewarding experience! Here are several tips to help you train your new dragon:\\n\\n1. **Build Trust**: Establish a bond with your Night Fury by spending time together. Offer treats (like fish or other favorite foods) and engage in gentle play to build trust.\\n\\n2. **Positive Reinforcement**: Use positive reinforcement techniques. Reward your dragon with treats or praise when it follows commands or exhibits', additional_kwargs={'refusal': None}, response_metadata={'token_usage': {'completion_tokens': 100, 'prompt_tokens': 25, 'total_tokens': 125, 'completion_tokens_details': {'accepted_prediction_tokens': 0, 'audio_tokens': 0, 'reasoning_tokens': 0, 'rejected_prediction_tokens': 0}, 'prompt_tokens_details': {'audio_tokens': 0, 'cached_tokens': 0}}, 'model_name': 'gpt-4o-mini-2024-07-18', 'system_fingerprint': 'fp_06737a9306', 'finish_reason': 'length', 'logprobs': None}, id='run-5ce9ff03-3469-41e7-beee-5394ca433279-0', usage_metadata={'input_tokens': 25, 'output_tokens': 100, 'total_tokens': 125, 'input_token_details': {'audio': 0, 'cache_read': 0}, 'output_token_details': {'audio': 0, 'reasoning': 0}})"
      ]
     },
     "execution_count": 17,
     "metadata": {},
     "output_type": "execute_result"
    }
   ],
   "source": [
    "%%time\n",
    "chain.invoke({'pet':'dragon', 'breed':'night fury'})"
   ]
  },
  {
   "cell_type": "code",
   "execution_count": 49,
   "id": "4699937e-d8f4-48e4-bd24-6929d91f1b58",
   "metadata": {},
   "outputs": [],
   "source": [
    "response=chain.stream({'pet':'dragon', 'breed':'night fury'})"
   ]
  },
  {
   "cell_type": "code",
   "execution_count": 43,
   "id": "5e812ff6-ce75-4374-a61d-933ea75f8fda",
   "metadata": {},
   "outputs": [
    {
     "ename": "StopIteration",
     "evalue": "",
     "output_type": "error",
     "traceback": [
      "\u001b[0;31m---------------------------------------------------------------------------\u001b[0m",
      "\u001b[0;31mStopIteration\u001b[0m                             Traceback (most recent call last)",
      "Cell \u001b[0;32mIn[43], line 1\u001b[0m\n\u001b[0;32m----> 1\u001b[0m \u001b[38;5;28;43mnext\u001b[39;49m\u001b[43m(\u001b[49m\u001b[43mresponse\u001b[49m\u001b[43m)\u001b[49m\n",
      "\u001b[0;31mStopIteration\u001b[0m: "
     ]
    }
   ],
   "source": [
    "next(response)"
   ]
  },
  {
   "cell_type": "code",
   "execution_count": 51,
   "id": "fe1372e3-a52b-4724-8553-ff8443fa302c",
   "metadata": {},
   "outputs": [
    {
     "name": "stdout",
     "output_type": "stream",
     "text": [
      "Training a Night Fury, like Toothless from \"How to Train Your Dragon,\" can be a fun and rewarding experience! Here are several tips to help you train your new dragon:\n",
      "\n",
      "1. **Build Trust**: Establish a bond with your Night Fury by spending time together. Offer treats (like fish or other favorite foods) and engage in gentle play to build trust.\n",
      "\n",
      "2. **Positive Reinforcement**: Use positive reinforcement techniques. Reward your dragon with treats or praise when it follows commands or exhibits"
     ]
    }
   ],
   "source": [
    "for i in response:\n",
    "    print(i.content, end='')"
   ]
  },
  {
   "cell_type": "code",
   "execution_count": null,
   "id": "93365036-f77b-48e2-9390-52a0187410d0",
   "metadata": {},
   "outputs": [],
   "source": []
  }
 ],
 "metadata": {
  "kernelspec": {
   "display_name": "langchain_env",
   "language": "python",
   "name": "langchain_env"
  },
  "language_info": {
   "codemirror_mode": {
    "name": "ipython",
    "version": 3
   },
   "file_extension": ".py",
   "mimetype": "text/x-python",
   "name": "python",
   "nbconvert_exporter": "python",
   "pygments_lexer": "ipython3",
   "version": "3.10.10"
  }
 },
 "nbformat": 4,
 "nbformat_minor": 5
}
