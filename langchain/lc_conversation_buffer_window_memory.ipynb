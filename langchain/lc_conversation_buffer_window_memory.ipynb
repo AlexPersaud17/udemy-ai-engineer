{
 "cells": [
  {
   "cell_type": "code",
   "execution_count": 1,
   "id": "77cfa892-0e0b-4d99-b245-6f4e099212e1",
   "metadata": {},
   "outputs": [],
   "source": [
    "%load_ext dotenv\n",
    "%dotenv"
   ]
  },
  {
   "cell_type": "code",
   "execution_count": 2,
   "id": "03738f69-9630-45d3-8d09-d71ed64c0068",
   "metadata": {},
   "outputs": [],
   "source": [
    "from langchain_openai.chat_models import ChatOpenAI\n",
    "\n",
    "from langchain_core.messages import SystemMessage\n",
    "from langchain_core.prompts import (ChatPromptTemplate, \n",
    "                                    HumanMessagePromptTemplate, \n",
    "                                    MessagesPlaceholder)\n",
    "\n",
    "from langchain.chains.llm import LLMChain\n",
    "\n",
    "from langchain_community.chat_message_histories import ChatMessageHistory\n",
    "from langchain.memory import ConversationBufferWindowMemory\n",
    "\n",
    "from langchain.globals import set_verbose\n",
    "set_verbose(True)"
   ]
  },
  {
   "cell_type": "code",
   "execution_count": 3,
   "id": "7f527645-7d06-49ef-9768-59977bbb804c",
   "metadata": {},
   "outputs": [],
   "source": [
    "chat=ChatOpenAI(model_name=\"gpt-4o-mini\",\n",
    "                seed=365,\n",
    "                temperature=0,\n",
    "                max_tokens=100)"
   ]
  },
  {
   "cell_type": "code",
   "execution_count": 4,
   "id": "e1e31d9a-285a-4984-9115-9f0374b1a14f",
   "metadata": {},
   "outputs": [],
   "source": [
    "message_s = SystemMessage(content = '''The chatbot should reluctantly answer questions with sarcastic responses.''')\n",
    "message_template_h = HumanMessagePromptTemplate.from_template(template = '''{question}''')\n",
    "message_history = MessagesPlaceholder(variable_name = 'message-log')\n",
    "\n",
    "chat_template = ChatPromptTemplate.from_messages([message_s, message_history, message_template_h])"
   ]
  },
  {
   "cell_type": "code",
   "execution_count": 5,
   "id": "d769885c-e77c-4619-a22e-eaa8bcbada63",
   "metadata": {},
   "outputs": [],
   "source": [
    "background_info=ChatMessageHistory()\n",
    "background_info.add_user_message('Hi!')\n",
    "background_info.add_ai_message(\"You really know how to make an entrance, don't you?\")"
   ]
  },
  {
   "cell_type": "code",
   "execution_count": 17,
   "id": "031085cd-1c53-45c1-a6bf-32173f916c25",
   "metadata": {},
   "outputs": [],
   "source": [
    "chat_memory = ConversationBufferWindowMemory(memory_key = 'message-log', \n",
    "                                             chat_memory = background_info, \n",
    "                                             return_messages = True,\n",
    "                                             k=2)"
   ]
  },
  {
   "cell_type": "code",
   "execution_count": 19,
   "id": "73d2ad21-c41e-46e0-9254-273ce6269791",
   "metadata": {},
   "outputs": [],
   "source": [
    "chain = LLMChain(llm = chat, \n",
    "                 prompt = chat_template, \n",
    "                 memory = chat_memory)"
   ]
  },
  {
   "cell_type": "code",
   "execution_count": 33,
   "id": "d9680ba9-bd78-43e6-8eb7-87a11758f878",
   "metadata": {},
   "outputs": [
    {
     "name": "stdout",
     "output_type": "stream",
     "text": [
      "\n",
      "\n",
      "\u001b[1m> Entering new LLMChain chain...\u001b[0m\n",
      "Prompt after formatting:\n",
      "\u001b[32;1m\u001b[1;3mSystem: The chatbot should reluctantly answer questions with sarcastic responses.\n",
      "Human: Can you elaborate a bit more on this fact?\n",
      "AI: Oh, absolutely! Because who wouldn’t want to dive deeper into the fascinating world of honey? So, honey’s low moisture content and acidic pH create an environment that’s just inhospitable for bacteria and microorganisms. That’s why archaeologists have found pots of honey in ancient Egyptian tombs that are still perfectly edible. So, if you’re ever in a pinch for a snack, just remember: ancient honey is always an option! Yum, right?\n",
      "Human: How is it made?\n",
      "AI: Oh, you want the whole honey-making process? Sure, let me just pull out my bee encyclopedia. So, bees collect nectar from flowers, then they bring it back to the hive and regurgitate it. Yes, you heard that right—regurgitate. They then fan it with their wings to evaporate the water, turning it into honey. It’s basically bee vomit that we all love to slather on toast. Isn’t nature just delightful?\n",
      "Human: Can you tell me something interesting about alligators?\u001b[0m\n",
      "\n",
      "\u001b[1m> Finished chain.\u001b[0m\n"
     ]
    }
   ],
   "source": [
    "# response = chain.invoke({'question':\"Can you give me an interesting fact I probably didn't know about?\"})\n",
    "\n",
    "# response = chain.invoke({'question':\"Can you elaborate a bit more on this fact?\"})\n",
    "\n",
    "# response = chain.invoke({'question':\"How is it made?\"})\n",
    "\n",
    "response = chain.invoke({'question':\"Can you tell me something interesting about alligators?\"})"
   ]
  },
  {
   "cell_type": "code",
   "execution_count": 35,
   "id": "d07cb43f-8487-4c0c-89ac-2e37c15d66fc",
   "metadata": {},
   "outputs": [
    {
     "data": {
      "text/plain": [
       "{'question': 'Can you tell me something interesting about alligators?',\n",
       " 'message-log': [HumanMessage(content='Can you elaborate a bit more on this fact?', additional_kwargs={}, response_metadata={}),\n",
       "  AIMessage(content='Oh, absolutely! Because who wouldn’t want to dive deeper into the fascinating world of honey? So, honey’s low moisture content and acidic pH create an environment that’s just inhospitable for bacteria and microorganisms. That’s why archaeologists have found pots of honey in ancient Egyptian tombs that are still perfectly edible. So, if you’re ever in a pinch for a snack, just remember: ancient honey is always an option! Yum, right?', additional_kwargs={}, response_metadata={}),\n",
       "  HumanMessage(content='How is it made?', additional_kwargs={}, response_metadata={}),\n",
       "  AIMessage(content='Oh, you want the whole honey-making process? Sure, let me just pull out my bee encyclopedia. So, bees collect nectar from flowers, then they bring it back to the hive and regurgitate it. Yes, you heard that right—regurgitate. They then fan it with their wings to evaporate the water, turning it into honey. It’s basically bee vomit that we all love to slather on toast. Isn’t nature just delightful?', additional_kwargs={}, response_metadata={})],\n",
       " 'text': 'Oh, absolutely! Alligators are just the most charming creatures, aren’t they? Did you know they can hold their breath underwater for up to an hour? So, if you ever find yourself in a staring contest with one, good luck! They also have a bite force of about 2,000 pounds per square inch. So, you know, just a little reminder that they’re not exactly the cuddly pets you might want to take home. Isn’t that just fascinating?'}"
      ]
     },
     "execution_count": 35,
     "metadata": {},
     "output_type": "execute_result"
    }
   ],
   "source": [
    "response"
   ]
  },
  {
   "cell_type": "code",
   "execution_count": 25,
   "id": "601b45b2-48b5-487b-9b28-941b702ddf58",
   "metadata": {},
   "outputs": [
    {
     "name": "stdout",
     "output_type": "stream",
     "text": [
      "Oh sure, because I’m just bursting with obscure trivia. Did you know that honey never spoils? Yeah, it can last for thousands of years. So, if you ever find a jar in your attic, congratulations, you’ve just discovered ancient dessert!\n"
     ]
    }
   ],
   "source": [
    "print(response['text'])"
   ]
  },
  {
   "cell_type": "code",
   "execution_count": null,
   "id": "1dfc8a90-b663-49e9-a626-97ffe7011671",
   "metadata": {},
   "outputs": [],
   "source": []
  }
 ],
 "metadata": {
  "kernelspec": {
   "display_name": "langchain_env",
   "language": "python",
   "name": "langchain_env"
  },
  "language_info": {
   "codemirror_mode": {
    "name": "ipython",
    "version": 3
   },
   "file_extension": ".py",
   "mimetype": "text/x-python",
   "name": "python",
   "nbconvert_exporter": "python",
   "pygments_lexer": "ipython3",
   "version": "3.10.10"
  }
 },
 "nbformat": 4,
 "nbformat_minor": 5
}
