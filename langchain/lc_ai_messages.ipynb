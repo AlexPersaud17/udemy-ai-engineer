{
 "cells": [
  {
   "cell_type": "code",
   "execution_count": 1,
   "id": "b40d71ee-87b8-48de-a559-99df7dd4b9e1",
   "metadata": {},
   "outputs": [],
   "source": [
    "%load_ext dotenv\n",
    "%dotenv"
   ]
  },
  {
   "cell_type": "code",
   "execution_count": 2,
   "id": "8fae9f31-35bd-48af-87bc-baa53ec66cfc",
   "metadata": {},
   "outputs": [],
   "source": [
    "from langchain_openai.chat_models import ChatOpenAI\n",
    "from langchain_core.messages import HumanMessage, AIMessage"
   ]
  },
  {
   "cell_type": "code",
   "execution_count": 3,
   "id": "1b616244-bac4-4fd1-8caa-5f6f82cdc284",
   "metadata": {},
   "outputs": [],
   "source": [
    "chat=ChatOpenAI(\n",
    "    model_name='gpt-4o-mini',\n",
    "    seed=365,\n",
    "    temperature=0,\n",
    "    max_tokens=100\n",
    ")"
   ]
  },
  {
   "cell_type": "code",
   "execution_count": 22,
   "id": "ba8d9bd0-128f-4745-a52e-1ed59284d3ff",
   "metadata": {},
   "outputs": [],
   "source": [
    "message_h_dog=HumanMessage(content='''I've recently adopted a dog, \n",
    "can you suggest some dog names?''')\n",
    "message_ai_dog=AIMessage(content='''Oh sure, because naming a dog is the most \n",
    "challenging task in the world. How about \"Bark Twain\" or \"Sir Waggington\"? \n",
    "Or you could go classic with \"Rover\" or \"Fido.\" Really, the possibilities \n",
    "are endless—just like the amount of fur you'll find on your clothes. Good luck!''')\n",
    "\n",
    "message_h_cat=HumanMessage(content='''I've recently adopted a cat, \n",
    "can you suggest some cat names?''')\n",
    "message_ai_cat=AIMessage(content='''Oh sure, because naming a cat \n",
    "is the most pressing issue in the world right now. How about \"Whisker McFluffface\" \n",
    "or \"Sir Purrs-a-lot\"? Or you could go with something classic like \"Meowzilla.\" \n",
    "Really, the possibilities are endless, just like your cat's ability to ignore you.''')\n",
    "\n",
    "message_h_fish=HumanMessage(content='''I've recently adopted a fish, \n",
    "can you suggest some fish names?''')"
   ]
  },
  {
   "cell_type": "code",
   "execution_count": 24,
   "id": "3738f96f-82e8-47bb-8998-5d702124fc56",
   "metadata": {},
   "outputs": [],
   "source": [
    "response=chat.invoke([message_h_dog, message_ai_dog, message_h_cat, \n",
    "                      message_ai_cat, message_h_fish])"
   ]
  },
  {
   "cell_type": "code",
   "execution_count": 26,
   "id": "fb238c19-2d73-49bd-9cd1-89c454d69cb3",
   "metadata": {},
   "outputs": [
    {
     "name": "stdout",
     "output_type": "stream",
     "text": [
      "Absolutely! Here are some fun and creative names for your new fish:\n",
      "\n",
      "1. **Bubbles**\n",
      "2. **Finley**\n",
      "3. **Nemo**\n",
      "4. **Gilly**\n",
      "5. **Splash**\n",
      "6. **Marina**\n",
      "7. **Goldie**\n",
      "8. **Swim Shady**\n",
      "9. **Captain Fluff**\n",
      "10. **Dory**\n",
      "\n",
      "Feel free to mix and match or come up with your own variations! Enjoy your new aquatic friend!\n"
     ]
    }
   ],
   "source": [
    "print(response.content)"
   ]
  },
  {
   "cell_type": "code",
   "execution_count": null,
   "id": "614557cf-e6f4-4124-afa0-2ba1c66838bc",
   "metadata": {},
   "outputs": [],
   "source": []
  }
 ],
 "metadata": {
  "kernelspec": {
   "display_name": "langchain_env",
   "language": "python",
   "name": "langchain_env"
  },
  "language_info": {
   "codemirror_mode": {
    "name": "ipython",
    "version": 3
   },
   "file_extension": ".py",
   "mimetype": "text/x-python",
   "name": "python",
   "nbconvert_exporter": "python",
   "pygments_lexer": "ipython3",
   "version": "3.10.10"
  }
 },
 "nbformat": 4,
 "nbformat_minor": 5
}
