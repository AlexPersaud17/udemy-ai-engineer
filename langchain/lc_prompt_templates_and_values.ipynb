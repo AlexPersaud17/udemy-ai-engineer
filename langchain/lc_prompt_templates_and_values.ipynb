{
 "cells": [
  {
   "cell_type": "code",
   "execution_count": 1,
   "id": "308d24ee-b3b8-4419-b09e-a64ee5dce6e5",
   "metadata": {},
   "outputs": [],
   "source": [
    "from langchain_core.prompts import PromptTemplate"
   ]
  },
  {
   "cell_type": "code",
   "execution_count": 2,
   "id": "7d905f6a-1479-4985-b93b-14b43c7542b8",
   "metadata": {},
   "outputs": [],
   "source": [
    "TEMPLATE='''\n",
    "System:\n",
    "{description}\n",
    "\n",
    "Human:\n",
    "I've recently adopted a {pet}.\n",
    "Could you suggests some {pet} names?\n",
    "'''"
   ]
  },
  {
   "cell_type": "code",
   "execution_count": 5,
   "id": "aa78cea5-1f76-4c25-a51d-5a58597e6f0a",
   "metadata": {},
   "outputs": [],
   "source": [
    "prompt_template=PromptTemplate.from_template(template=TEMPLATE)"
   ]
  },
  {
   "cell_type": "code",
   "execution_count": 9,
   "id": "31e88703-c410-4bf8-9b41-d3ca6bf63a6f",
   "metadata": {},
   "outputs": [
    {
     "data": {
      "text/plain": [
       "PromptTemplate(input_variables=['description', 'pet'], input_types={}, partial_variables={}, template=\"\\nSystem:\\n{description}\\n\\nHuman:\\nI've recently adopted a {pet}.\\nCould you suggests some {pet} names?\\n\")"
      ]
     },
     "execution_count": 9,
     "metadata": {},
     "output_type": "execute_result"
    }
   ],
   "source": [
    "prompt_template"
   ]
  },
  {
   "cell_type": "code",
   "execution_count": 11,
   "id": "c1721dc8-1de1-4c90-ac54-522fe9140046",
   "metadata": {},
   "outputs": [],
   "source": [
    "prompt_value=prompt_template.invoke({'description':'''The chatbot should reluctantly \n",
    "answer questions with sarcastic responses''',\n",
    "                                     'pet':'dog'})"
   ]
  },
  {
   "cell_type": "code",
   "execution_count": 17,
   "id": "ca622ccc-efab-4aee-b155-d726ade98d72",
   "metadata": {},
   "outputs": [
    {
     "name": "stdout",
     "output_type": "stream",
     "text": [
      "\n",
      "System:\n",
      "The chatbot should reluctantly \n",
      "answer questions with sarcastic responses\n",
      "\n",
      "Human:\n",
      "I've recently adopted a dog.\n",
      "Could you suggests some dog names?\n",
      "\n"
     ]
    }
   ],
   "source": [
    "print(prompt_value.text)"
   ]
  },
  {
   "cell_type": "code",
   "execution_count": null,
   "id": "09cdb1b2-9ba0-43fd-8501-8696c9a3f48c",
   "metadata": {},
   "outputs": [],
   "source": []
  }
 ],
 "metadata": {
  "kernelspec": {
   "display_name": "langchain_env",
   "language": "python",
   "name": "langchain_env"
  },
  "language_info": {
   "codemirror_mode": {
    "name": "ipython",
    "version": 3
   },
   "file_extension": ".py",
   "mimetype": "text/x-python",
   "name": "python",
   "nbconvert_exporter": "python",
   "pygments_lexer": "ipython3",
   "version": "3.10.10"
  }
 },
 "nbformat": 4,
 "nbformat_minor": 5
}
