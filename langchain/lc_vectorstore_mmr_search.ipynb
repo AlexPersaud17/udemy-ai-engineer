{
 "cells": [
  {
   "cell_type": "code",
   "execution_count": 1,
   "id": "2470ffea-c330-4c2f-971d-cba6e62e53de",
   "metadata": {},
   "outputs": [],
   "source": [
    "%load_ext dotenv\n",
    "%dotenv"
   ]
  },
  {
   "cell_type": "code",
   "execution_count": 3,
   "id": "6adb1677-423d-43b4-8cff-14f64d0aae16",
   "metadata": {},
   "outputs": [],
   "source": [
    "from langchain_openai.embeddings import OpenAIEmbeddings\n",
    "from langchain_community.vectorstores import Chroma\n",
    "from langchain_core.documents import Document"
   ]
  },
  {
   "cell_type": "code",
   "execution_count": 5,
   "id": "2f12a819-6977-43b0-b4c5-e6832545cecc",
   "metadata": {},
   "outputs": [],
   "source": [
    "embedding = OpenAIEmbeddings(model='text-embedding-ada-002')"
   ]
  },
  {
   "cell_type": "code",
   "execution_count": 7,
   "id": "fc6e37e9-b44b-4d34-904a-6f4f89900f1e",
   "metadata": {},
   "outputs": [
    {
     "name": "stderr",
     "output_type": "stream",
     "text": [
      "/var/folders/fs/ly3y_3m57537dkrh09vsr_mw0000gn/T/ipykernel_93343/2785913880.py:1: LangChainDeprecationWarning: The class `Chroma` was deprecated in LangChain 0.2.9 and will be removed in 1.0. An updated version of the class exists in the :class:`~langchain-chroma package and should be used instead. To use it run `pip install -U :class:`~langchain-chroma` and import as `from :class:`~langchain_chroma import Chroma``.\n",
      "  vectorstore = Chroma(persist_directory = \"./intro-to-ds-lectures\",\n"
     ]
    }
   ],
   "source": [
    "vectorstore = Chroma(persist_directory = \"./intro-to-ds-lectures\", \n",
    "                     embedding_function = embedding)\n",
    "\n",
    "# added_document = Document(page_content='Alright! So… How are the techniques used in data, business intelligence, or predictive analytics applied in real life? Certainly, with the help of computers. You can basically split the relevant tools into two categories—programming languages and software. Knowing a programming language enables you to devise programs that can execute specific operations. Moreover, you can reuse these programs whenever you need to execute the same action', \n",
    "#                         metadata={'Course Title': 'Introduction to Data and Data Science', \n",
    "#                                   'Lecture Title': 'Programming Languages & Software Employed in Data Science - All the Tools You Need'})\n",
    "\n",
    "# vectorstore.add_documents([added_document])"
   ]
  },
  {
   "cell_type": "code",
   "execution_count": 9,
   "id": "2ffa928b-c219-49d4-8084-c28c6e3f5005",
   "metadata": {},
   "outputs": [],
   "source": [
    "question = \"What software do data scientists use?\""
   ]
  },
  {
   "cell_type": "code",
   "execution_count": 23,
   "id": "fe715c85-f683-4139-9701-eda9fc35fcce",
   "metadata": {},
   "outputs": [],
   "source": [
    "retrieved_docs = vectorstore.max_marginal_relevance_search(\n",
    "    query=question, \n",
    "    k=3, \n",
    "    lambda_mult = 1, \n",
    "    filter = {\"Lecture Title\": \"Programming Languages & Software Employed in Data Science - All the Tools You Need\"}\n",
    ")"
   ]
  },
  {
   "cell_type": "code",
   "execution_count": 25,
   "id": "78dc6bb6-89ca-4fa7-8b7c-75040fcd2876",
   "metadata": {},
   "outputs": [
    {
     "name": "stdout",
     "output_type": "stream",
     "text": [
      "Page Content: As you can see from the infographic, R, and Python are the two most popular tools across all columns. Their biggest advantage is that they can manipulate data and are integrated within multiple data and data science software platforms. They are not just suitable for mathematical and statistical computations. In other words, R, and Python are adaptable. They can solve a wide variety of business and data-related problems from beginning to the end\n",
      "----------\n",
      "Lecture Title:Programming Languages & Software Employed in Data Science - All the Tools You Need\n",
      "\n",
      "Page Content: Alright! So… How are the techniques used in data, business intelligence, or predictive analytics applied in real life? Certainly, with the help of computers. You can basically split the relevant tools into two categories—programming languages and software. Knowing a programming language enables you to devise programs that can execute specific operations. Moreover, you can reuse these programs whenever you need to execute the same action\n",
      "----------\n",
      "Lecture Title:Programming Languages & Software Employed in Data Science - All the Tools You Need\n",
      "\n",
      "Page Content: Alright! So… How are the techniques used in data, business intelligence, or predictive analytics applied in real life? Certainly, with the help of computers. You can basically split the relevant tools into two categories—programming languages and software. Knowing a programming language enables you to devise programs that can execute specific operations. Moreover, you can reuse these programs whenever you need to execute the same action\n",
      "----------\n",
      "Lecture Title:Programming Languages & Software Employed in Data Science - All the Tools You Need\n",
      "\n"
     ]
    }
   ],
   "source": [
    "for i in retrieved_docs:\n",
    "    print(f\"Page Content: {i.page_content}\\n----------\\nLecture Title:{i.metadata['Lecture Title']}\\n\")"
   ]
  },
  {
   "cell_type": "code",
   "execution_count": null,
   "id": "b25c16fc-3594-4e3e-88e2-12fcef640fc2",
   "metadata": {},
   "outputs": [],
   "source": []
  }
 ],
 "metadata": {
  "kernelspec": {
   "display_name": "langchain_env",
   "language": "python",
   "name": "langchain_env"
  },
  "language_info": {
   "codemirror_mode": {
    "name": "ipython",
    "version": 3
   },
   "file_extension": ".py",
   "mimetype": "text/x-python",
   "name": "python",
   "nbconvert_exporter": "python",
   "pygments_lexer": "ipython3",
   "version": "3.10.10"
  }
 },
 "nbformat": 4,
 "nbformat_minor": 5
}
