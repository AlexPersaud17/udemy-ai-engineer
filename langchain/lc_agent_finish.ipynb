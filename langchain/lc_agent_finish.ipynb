{
 "cells": [
  {
   "cell_type": "code",
   "execution_count": 1,
   "id": "caf6683e-09b3-4e57-9d42-46f378c538fb",
   "metadata": {},
   "outputs": [],
   "source": [
    "%load_ext dotenv\n",
    "%dotenv"
   ]
  },
  {
   "cell_type": "code",
   "execution_count": 2,
   "id": "9d7d93e3-113b-4fdb-b5b6-0ed0b0036bfe",
   "metadata": {},
   "outputs": [],
   "source": [
    "from langchain_community.utilities import WikipediaAPIWrapper\n",
    "from langchain_community.tools import WikipediaQueryRun\n",
    "from langchain_community.vectorstores import Chroma\n",
    "\n",
    "from langchain_openai.embeddings import OpenAIEmbeddings\n",
    "from langchain_openai.chat_models import ChatOpenAI\n",
    "\n",
    "from langchain.tools.retriever import create_retriever_tool\n",
    "from langchain.tools import tool\n",
    "\n",
    "from langchain import hub\n",
    "\n",
    "from platform import python_version\n",
    "\n",
    "from langchain.agents import (create_tool_calling_agent, \n",
    "                              AgentExecutor)"
   ]
  },
  {
   "cell_type": "code",
   "execution_count": 3,
   "id": "75e65e61-366d-44df-b43a-b3f2297eb5b8",
   "metadata": {},
   "outputs": [],
   "source": [
    "wikipedia_tool = WikipediaQueryRun(api_wrapper = WikipediaAPIWrapper())"
   ]
  },
  {
   "cell_type": "code",
   "execution_count": 4,
   "id": "714fedb9-5bd0-4e79-a6c4-d83787380ab2",
   "metadata": {},
   "outputs": [
    {
     "name": "stderr",
     "output_type": "stream",
     "text": [
      "/var/folders/fs/ly3y_3m57537dkrh09vsr_mw0000gn/T/ipykernel_3143/3325357122.py:1: LangChainDeprecationWarning: The class `Chroma` was deprecated in LangChain 0.2.9 and will be removed in 1.0. An updated version of the class exists in the :class:`~langchain-chroma package and should be used instead. To use it run `pip install -U :class:`~langchain-chroma` and import as `from :class:`~langchain_chroma import Chroma``.\n",
      "  vectorstore = Chroma(persist_directory = \"./intro-to-ds-lectures\",\n"
     ]
    }
   ],
   "source": [
    "vectorstore = Chroma(persist_directory = \"./intro-to-ds-lectures\", \n",
    "                     embedding_function = OpenAIEmbeddings())\n",
    "\n",
    "retriever = vectorstore.as_retriever(search_type = 'mmr', \n",
    "                                     search_kwargs = {'k':3, \n",
    "                                                      'lambda_mult':0.7})\n",
    "\n",
    "retriever_tool = create_retriever_tool(retriever = retriever, \n",
    "                                       name = \"Introduction-to-Data-and-Data-Science-Course-Lectures\", \n",
    "                                       description = '''For any questions regarding \n",
    "                                       the Introduction to Data and Data Science course, you must use this tool.''')"
   ]
  },
  {
   "cell_type": "code",
   "execution_count": 5,
   "id": "d5bbbe86-672a-4f39-8e7b-ac3907f4b018",
   "metadata": {},
   "outputs": [],
   "source": [
    "@tool\n",
    "def get_python_version() -> str:\n",
    "    ''' Useful for questions regarding the version of Python currently used. '''\n",
    "    return python_version()"
   ]
  },
  {
   "cell_type": "code",
   "execution_count": 6,
   "id": "d97e03d4-c914-469f-99ca-5e58fbf70634",
   "metadata": {},
   "outputs": [],
   "source": [
    "tools = [wikipedia_tool, retriever_tool, get_python_version]"
   ]
  },
  {
   "cell_type": "code",
   "execution_count": 7,
   "id": "bb6780f0-a142-44ae-99e1-7035af02e933",
   "metadata": {},
   "outputs": [],
   "source": [
    "chat = ChatOpenAI(model_name = 'gpt-4o-mini', \n",
    "                  temperature = 0,\n",
    "                  seed = 365)"
   ]
  },
  {
   "cell_type": "code",
   "execution_count": 8,
   "id": "2fab46a1-a653-4487-968f-244bc6ac2502",
   "metadata": {},
   "outputs": [
    {
     "name": "stderr",
     "output_type": "stream",
     "text": [
      "/opt/anaconda3/envs/langchain_env/lib/python3.10/site-packages/langsmith/client.py:253: LangSmithMissingAPIKeyWarning: API key must be provided when using hosted LangSmith API\n",
      "  warnings.warn(\n"
     ]
    }
   ],
   "source": [
    "chat_prompt_template = hub.pull(\"hwchase17/openai-tools-agent\")"
   ]
  },
  {
   "cell_type": "code",
   "execution_count": 9,
   "id": "9899ae9a-b271-482e-bfc6-cd3de03fc2cd",
   "metadata": {},
   "outputs": [],
   "source": [
    "agent = create_tool_calling_agent(llm = chat,\n",
    "                                  tools = tools,\n",
    "                                  prompt = chat_prompt_template)"
   ]
  },
  {
   "cell_type": "code",
   "execution_count": 28,
   "id": "1524e868-91b0-4094-8719-af5eb591576a",
   "metadata": {},
   "outputs": [
    {
     "data": {
      "text/plain": [
       "AgentFinish(return_values={'output': 'You are currently using Python version 3.10.10.'}, log='You are currently using Python version 3.10.10.')"
      ]
     },
     "execution_count": 28,
     "metadata": {},
     "output_type": "execute_result"
    }
   ],
   "source": [
    "agent.invoke({\"input\":\"Could you tell me the version of Python I'm currently using?\", \n",
    "              \"intermediate_steps\":response[\"intermediate_steps\"]})"
   ]
  },
  {
   "cell_type": "code",
   "execution_count": 10,
   "id": "15863751-40eb-48f0-812c-02277858963a",
   "metadata": {},
   "outputs": [],
   "source": [
    "agent_executor = AgentExecutor(agent=agent, \n",
    "                               tools=tools, \n",
    "                               verbose=True, \n",
    "                               return_intermediate_steps=True)"
   ]
  },
  {
   "cell_type": "code",
   "execution_count": 11,
   "id": "c100e2bb-47f5-44d8-9b3a-aab078a65b63",
   "metadata": {},
   "outputs": [
    {
     "name": "stdout",
     "output_type": "stream",
     "text": [
      "\n",
      "\n",
      "\u001b[1m> Entering new AgentExecutor chain...\u001b[0m\n",
      "\u001b[32;1m\u001b[1;3m\n",
      "Invoking: `get_python_version` with `{}`\n",
      "\n",
      "\n",
      "\u001b[0m\u001b[38;5;200m\u001b[1;3m3.10.10\u001b[0m\u001b[32;1m\u001b[1;3mYou are currently using Python version 3.10.10.\u001b[0m\n",
      "\n",
      "\u001b[1m> Finished chain.\u001b[0m\n"
     ]
    }
   ],
   "source": [
    "response = agent_executor.invoke({\"input\":\"Could you tell me the version of Python I'm currently using?\"})"
   ]
  },
  {
   "cell_type": "code",
   "execution_count": 24,
   "id": "2a5ebb30-0b4f-45ee-8210-1e91d47fcab2",
   "metadata": {},
   "outputs": [
    {
     "data": {
      "text/plain": [
       "{'input': \"Could you tell me the version of Python I'm currently using?\",\n",
       " 'output': 'You are currently using Python version 3.10.10.',\n",
       " 'intermediate_steps': [(ToolAgentAction(tool='get_python_version', tool_input={}, log='\\nInvoking: `get_python_version` with `{}`\\n\\n\\n', message_log=[AIMessageChunk(content='', additional_kwargs={'tool_calls': [{'index': 0, 'id': 'call_Avaf4iD1wgZ06SBkzgT2PSl7', 'function': {'arguments': '{}', 'name': 'get_python_version'}, 'type': 'function'}]}, response_metadata={'finish_reason': 'tool_calls', 'model_name': 'gpt-4o-mini-2024-07-18', 'system_fingerprint': 'fp_06737a9306'}, id='run-fc45a2cf-5fda-4bc1-b87f-19c5c5ad12fc', tool_calls=[{'name': 'get_python_version', 'args': {}, 'id': 'call_Avaf4iD1wgZ06SBkzgT2PSl7', 'type': 'tool_call'}], tool_call_chunks=[{'name': 'get_python_version', 'args': '{}', 'id': 'call_Avaf4iD1wgZ06SBkzgT2PSl7', 'index': 0, 'type': 'tool_call_chunk'}])], tool_call_id='call_Avaf4iD1wgZ06SBkzgT2PSl7'),\n",
       "   '3.10.10')]}"
      ]
     },
     "execution_count": 24,
     "metadata": {},
     "output_type": "execute_result"
    }
   ],
   "source": [
    "response"
   ]
  },
  {
   "cell_type": "code",
   "execution_count": null,
   "id": "e218104f-b401-4690-af89-e7a9fe7d4f6e",
   "metadata": {},
   "outputs": [],
   "source": []
  }
 ],
 "metadata": {
  "kernelspec": {
   "display_name": "langchain_env",
   "language": "python",
   "name": "langchain_env"
  },
  "language_info": {
   "codemirror_mode": {
    "name": "ipython",
    "version": 3
   },
   "file_extension": ".py",
   "mimetype": "text/x-python",
   "name": "python",
   "nbconvert_exporter": "python",
   "pygments_lexer": "ipython3",
   "version": "3.10.10"
  }
 },
 "nbformat": 4,
 "nbformat_minor": 5
}
