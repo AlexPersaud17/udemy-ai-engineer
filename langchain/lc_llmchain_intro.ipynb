{
 "cells": [
  {
   "cell_type": "code",
   "execution_count": 2,
   "id": "2d187fa9-b14e-47fe-b1d4-cbcbbb1e3e62",
   "metadata": {},
   "outputs": [],
   "source": [
    "%load_ext dotenv\n",
    "%dotenv"
   ]
  },
  {
   "cell_type": "code",
   "execution_count": 3,
   "id": "3c61322d-6698-4104-ad91-1ca93c164f97",
   "metadata": {},
   "outputs": [],
   "source": [
    "from langchain_openai.chat_models import ChatOpenAI\n",
    "from langchain_core.prompts import (AIMessagePromptTemplate,\n",
    "HumanMessagePromptTemplate,\n",
    "ChatPromptTemplate,\n",
    "FewShotChatMessagePromptTemplate)\n",
    "from langchain.chains.llm import LLMChain"
   ]
  },
  {
   "cell_type": "code",
   "execution_count": 4,
   "id": "78f4a3bb-e0cd-4559-a9ec-ef4997dad8fb",
   "metadata": {},
   "outputs": [],
   "source": [
    "chat=ChatOpenAI(model_name=\"gpt-4o-mini\",\n",
    "                seed=365,\n",
    "                temperature=0,\n",
    "                max_tokens=100)"
   ]
  },
  {
   "cell_type": "code",
   "execution_count": 5,
   "id": "d380e8b2-afa5-4eb2-8d0a-39236df53579",
   "metadata": {},
   "outputs": [],
   "source": [
    "TEMPLATE_H='''I've recently adopted a {pet}.\n",
    "Could you suggest some {pet} names?\n",
    "'''\n",
    "TEMPLATE_AI='''{response}'''\n",
    "\n",
    "message_template_h=HumanMessagePromptTemplate.from_template(template=TEMPLATE_H)\n",
    "message_template_ai=AIMessagePromptTemplate.from_template(template=TEMPLATE_AI)"
   ]
  },
  {
   "cell_type": "code",
   "execution_count": 6,
   "id": "2b6a1795-31ec-4991-aa79-39ed15033492",
   "metadata": {},
   "outputs": [],
   "source": [
    "example_template=ChatPromptTemplate.from_messages([message_template_h, message_template_ai])"
   ]
  },
  {
   "cell_type": "code",
   "execution_count": 7,
   "id": "3dfae193-1eb9-4470-a43d-705b90c39f30",
   "metadata": {},
   "outputs": [],
   "source": [
    "examples=[{'pet':'dog',\n",
    "          'response':'''Oh, sure! Because naming a dog is obviously \n",
    "          the most challenging task in the world. How about \"Bark Twain\" \n",
    "          or \"Sir Waggington\"? Or you could go with the classic \"Doggo.\" \n",
    "          I mean, the possibilities are endless, right?'''},\n",
    "          \n",
    "         {'pet':'cat',\n",
    "          'response':'''Oh, sure! Because naming a cat is obviously the most \n",
    "          important decision you\\'ll ever make. How about \"Whisker McFluffface\" \n",
    "          or \"Sir Purrs-a-lot\"? Or you could go with something classic like \"Cat.\" \n",
    "          That’s always a crowd-pleaser. Good luck with that monumental task!'''}]"
   ]
  },
  {
   "cell_type": "code",
   "execution_count": 8,
   "id": "6d1608a0-36de-47ac-9f48-c02b68861c14",
   "metadata": {},
   "outputs": [],
   "source": [
    "few_shot_prompt=FewShotChatMessagePromptTemplate(examples=examples, \n",
    "                                                 example_prompt=example_template)"
   ]
  },
  {
   "cell_type": "code",
   "execution_count": 9,
   "id": "f07f5631-99a9-4cf8-91bc-c7d9c2d8a837",
   "metadata": {},
   "outputs": [],
   "source": [
    "chat_template=ChatPromptTemplate([few_shot_prompt, message_template_h])"
   ]
  },
  {
   "cell_type": "code",
   "execution_count": 29,
   "id": "8c388893-e300-46aa-8c51-1bad3c268c17",
   "metadata": {},
   "outputs": [
    {
     "name": "stderr",
     "output_type": "stream",
     "text": [
      "/var/folders/fs/ly3y_3m57537dkrh09vsr_mw0000gn/T/ipykernel_58721/123846710.py:1: LangChainDeprecationWarning: The class `LLMChain` was deprecated in LangChain 0.1.17 and will be removed in 1.0. Use :meth:`~RunnableSequence, e.g., `prompt | llm`` instead.\n",
      "  chain=LLMChain(llm=chat, prompt=chat_template)\n"
     ]
    }
   ],
   "source": [
    "chain=LLMChain(llm=chat, prompt=chat_template)"
   ]
  },
  {
   "cell_type": "code",
   "execution_count": 31,
   "id": "2f981e7b-d7ef-4035-a371-29f4a35fa8bf",
   "metadata": {},
   "outputs": [],
   "source": [
    "response=chain.invoke({'pet':'fish'})"
   ]
  },
  {
   "cell_type": "code",
   "execution_count": 33,
   "id": "e426eb11-6645-4243-89c1-d7c19e5a0186",
   "metadata": {},
   "outputs": [
    {
     "data": {
      "text/plain": [
       "{'pet': 'fish',\n",
       " 'text': 'Absolutely! Here are some fun and creative names for your new fish:\\n\\n1. **Bubbles**\\n2. **Finley**\\n3. **Gilly**\\n4. **Nemo**\\n5. **Splash**\\n6. **Marina**\\n7. **Goldie**\\n8. **Swim Shady**\\n9. **Captain Fluff**\\n10. **Dory**\\n\\nFeel free to mix and match or get inspired to come up with your own unique name! Enjoy your new aquatic friend!'}"
      ]
     },
     "execution_count": 33,
     "metadata": {},
     "output_type": "execute_result"
    }
   ],
   "source": [
    "response"
   ]
  },
  {
   "cell_type": "code",
   "execution_count": null,
   "id": "d0edb8c7-6368-496d-bcbc-4f58f0a67f5e",
   "metadata": {},
   "outputs": [],
   "source": []
  }
 ],
 "metadata": {
  "kernelspec": {
   "display_name": "langchain_env",
   "language": "python",
   "name": "langchain_env"
  },
  "language_info": {
   "codemirror_mode": {
    "name": "ipython",
    "version": 3
   },
   "file_extension": ".py",
   "mimetype": "text/x-python",
   "name": "python",
   "nbconvert_exporter": "python",
   "pygments_lexer": "ipython3",
   "version": "3.10.10"
  }
 },
 "nbformat": 4,
 "nbformat_minor": 5
}
