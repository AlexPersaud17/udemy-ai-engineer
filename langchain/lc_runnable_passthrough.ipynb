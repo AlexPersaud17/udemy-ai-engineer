{
 "cells": [
  {
   "cell_type": "code",
   "execution_count": 1,
   "id": "9d60ea12-88a8-40ff-8fa1-1dbec821a72d",
   "metadata": {},
   "outputs": [],
   "source": [
    "%load_ext dotenv\n",
    "%dotenv"
   ]
  },
  {
   "cell_type": "code",
   "execution_count": 42,
   "id": "c08d5c5b-b80f-4a0a-b784-a47ffd8a5118",
   "metadata": {},
   "outputs": [],
   "source": [
    "from langchain_core.prompts import ChatPromptTemplate\n",
    "from langchain_openai import ChatOpenAI\n",
    "from langchain_core.output_parsers import StrOutputParser\n",
    "from langchain_core.runnables import RunnablePassthrough"
   ]
  },
  {
   "cell_type": "code",
   "execution_count": 46,
   "id": "a8075cd5-7e3d-42ae-8220-76f70375e83d",
   "metadata": {},
   "outputs": [
    {
     "data": {
      "text/plain": [
       "[1, 2, 3]"
      ]
     },
     "execution_count": 46,
     "metadata": {},
     "output_type": "execute_result"
    }
   ],
   "source": [
    "RunnablePassthrough().invoke([1, 2, 3])"
   ]
  },
  {
   "cell_type": "code",
   "execution_count": 48,
   "id": "7605dac0-cfd5-42f9-ac7a-aca712d18184",
   "metadata": {},
   "outputs": [],
   "source": [
    "chat_template_tools = ChatPromptTemplate.from_template('''\n",
    "What are the five most important tools a {job title} needs?\n",
    "Answer only by listing the tools.\n",
    "''')\n",
    "\n",
    "chat_template_strategy = ChatPromptTemplate.from_template('''\n",
    "Considering the tools provided, develop a strategy for effectively learning and mastering them:\n",
    "{tools}\n",
    "''')"
   ]
  },
  {
   "cell_type": "code",
   "execution_count": 50,
   "id": "eeb15b52-4587-4d09-8035-64b72518e0ae",
   "metadata": {},
   "outputs": [],
   "source": [
    "chat = ChatOpenAI(model_name = 'gpt-4o-mini', \n",
    "                  seed = 365,\n",
    "                  temperature = 0,\n",
    "                  max_tokens = 100)"
   ]
  },
  {
   "cell_type": "code",
   "execution_count": 52,
   "id": "bb773bca-98b6-4665-a70b-4c4d7454a554",
   "metadata": {},
   "outputs": [],
   "source": [
    "string_parser = StrOutputParser()"
   ]
  },
  {
   "cell_type": "code",
   "execution_count": 62,
   "id": "1e37b3d0-8011-4e59-8ad9-651cfac77443",
   "metadata": {},
   "outputs": [],
   "source": [
    "chain_tools = chat_template_tools | chat | string_parser | {'tools':RunnablePassthrough()}\n",
    "chain_strategy = chat_template_strategy | chat | string_parser"
   ]
  },
  {
   "cell_type": "code",
   "execution_count": 64,
   "id": "27002ec7-3928-4fe2-88c1-9fc8c3c43943",
   "metadata": {},
   "outputs": [
    {
     "name": "stdout",
     "output_type": "stream",
     "text": [
      "{'tools': '1. Python\\n2. R\\n3. SQL\\n4. Jupyter Notebook\\n5. Git'}\n"
     ]
    }
   ],
   "source": [
    "print(chain_tools.invoke({'job title':'data scientist'}))"
   ]
  },
  {
   "cell_type": "code",
   "execution_count": 58,
   "id": "89f5a990-d359-4fad-8f66-cf9e74dab490",
   "metadata": {},
   "outputs": [
    {
     "name": "stdout",
     "output_type": "stream",
     "text": [
      "To effectively learn and master Python, R, SQL, Jupyter Notebook, and Git, you can follow a structured strategy that incorporates a mix of theoretical understanding, practical application, and project-based learning. Here’s a step-by-step approach:\n",
      "\n",
      "### 1. Set Clear Goals\n",
      "- **Define Objectives**: Determine what you want to achieve with each tool. For example, do you want to use Python for data analysis, R for statistical modeling, SQL for database management, Jupyter Notebook for interactive\n"
     ]
    }
   ],
   "source": [
    "print(chain_strategy.invoke({'tools':'''\n",
    "1. Python\n",
    "2. R\n",
    "3. SQL\n",
    "4. Jupyter Notebook\n",
    "5. Git\n",
    "'''}))"
   ]
  },
  {
   "cell_type": "code",
   "execution_count": 66,
   "id": "2df8286e-3aad-42de-a8dc-f5caa7b529ac",
   "metadata": {},
   "outputs": [],
   "source": [
    "chain_combined = chain_tools | chain_strategy"
   ]
  },
  {
   "cell_type": "code",
   "execution_count": 68,
   "id": "ffb4c7fd-834d-492b-aa7c-2c0934be3972",
   "metadata": {},
   "outputs": [
    {
     "name": "stdout",
     "output_type": "stream",
     "text": [
      "To effectively learn and master Python, R, SQL, Jupyter Notebook, and TensorFlow/PyTorch, you can follow a structured strategy that incorporates a mix of theoretical understanding, practical application, and project-based learning. Here’s a step-by-step approach:\n",
      "\n",
      "### Step 1: Establish a Learning Foundation\n",
      "\n",
      "#### 1. **Python**\n",
      "   - **Resources**: Use online platforms like Codecademy, Coursera, or freeCodeCamp to learn Python basics.\n",
      "   - **Practice**\n"
     ]
    }
   ],
   "source": [
    "print(chain_combined.invoke({'job title':'data scientist'}))"
   ]
  },
  {
   "cell_type": "code",
   "execution_count": 70,
   "id": "5eb0d83f-35ea-4cfc-ba53-4f8d84c3877a",
   "metadata": {},
   "outputs": [],
   "source": [
    "chain_long = (chat_template_tools | chat | string_parser | {'tools':RunnablePassthrough()} | \n",
    "              chat_template_strategy | chat | string_parser)"
   ]
  },
  {
   "cell_type": "code",
   "execution_count": null,
   "id": "c6b46b9a-0fdc-4828-93d9-bfeac951434b",
   "metadata": {},
   "outputs": [],
   "source": []
  }
 ],
 "metadata": {
  "kernelspec": {
   "display_name": "langchain_env",
   "language": "python",
   "name": "langchain_env"
  },
  "language_info": {
   "codemirror_mode": {
    "name": "ipython",
    "version": 3
   },
   "file_extension": ".py",
   "mimetype": "text/x-python",
   "name": "python",
   "nbconvert_exporter": "python",
   "pygments_lexer": "ipython3",
   "version": "3.10.10"
  }
 },
 "nbformat": 4,
 "nbformat_minor": 5
}
