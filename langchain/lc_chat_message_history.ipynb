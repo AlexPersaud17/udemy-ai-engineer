{
 "cells": [
  {
   "cell_type": "code",
   "execution_count": 1,
   "id": "abaa99af-7e56-4e0a-b9e4-48108ff0d4a5",
   "metadata": {},
   "outputs": [],
   "source": [
    "%load_ext dotenv\n",
    "%dotenv"
   ]
  },
  {
   "cell_type": "code",
   "execution_count": 4,
   "id": "252f8f20-1fbc-4a83-993c-572d73038202",
   "metadata": {},
   "outputs": [],
   "source": [
    "from langchain_openai.chat_models import ChatOpenAI\n",
    "from langchain_core.prompts import (HumanMessagePromptTemplate,\n",
    "ChatPromptTemplate)\n",
    "from langchain.chains.llm import LLMChain\n",
    "from langchain_community.chat_message_histories import ChatMessageHistory"
   ]
  },
  {
   "cell_type": "code",
   "execution_count": 6,
   "id": "4881530c-9fe4-4636-a477-026351e26917",
   "metadata": {},
   "outputs": [],
   "source": [
    "chat=ChatOpenAI(model_name=\"gpt-4o-mini\",\n",
    "                seed=365,\n",
    "                temperature=0,\n",
    "                max_tokens=100)"
   ]
  },
  {
   "cell_type": "code",
   "execution_count": 8,
   "id": "43f73a79-8fb7-415f-9609-9e6b9447468f",
   "metadata": {},
   "outputs": [],
   "source": [
    "background_info=ChatMessageHistory()"
   ]
  },
  {
   "cell_type": "code",
   "execution_count": 10,
   "id": "cff4024f-698b-41f5-98ec-5506ab814556",
   "metadata": {},
   "outputs": [],
   "source": [
    "background_info.add_user_message(\"Can you give me an interesting fact I probably didn't know about?\")\n",
    "background_info.add_ai_message(\"Sure, did you know that the longest place name on the planet is 85 letters long?\")"
   ]
  },
  {
   "cell_type": "code",
   "execution_count": 14,
   "id": "bfcd6a9d-1f0c-4b03-b978-9339a52a0901",
   "metadata": {},
   "outputs": [],
   "source": [
    "message_template_h=HumanMessagePromptTemplate.from_template(template='{follow-up question}')"
   ]
  },
  {
   "cell_type": "code",
   "execution_count": 18,
   "id": "41187e39-808f-41ea-b929-c705feed9b48",
   "metadata": {},
   "outputs": [],
   "source": [
    "chat_template=ChatPromptTemplate.from_messages(background_info.messages +[message_template_h])"
   ]
  },
  {
   "cell_type": "code",
   "execution_count": 20,
   "id": "02d921da-8b9c-4b2b-975b-18bb0a132f2a",
   "metadata": {},
   "outputs": [
    {
     "data": {
      "text/plain": [
       "ChatPromptTemplate(input_variables=['follow-up question'], input_types={}, partial_variables={}, messages=[HumanMessage(content=\"Can you give me an interesting fact I probably didn't know about?\", additional_kwargs={}, response_metadata={}), AIMessage(content='Sure, did you know that the longest place name on the planet is 85 letters long?', additional_kwargs={}, response_metadata={}), HumanMessagePromptTemplate(prompt=PromptTemplate(input_variables=['follow-up question'], input_types={}, partial_variables={}, template='{follow-up question}'), additional_kwargs={})])"
      ]
     },
     "execution_count": 20,
     "metadata": {},
     "output_type": "execute_result"
    }
   ],
   "source": [
    "chat_template"
   ]
  },
  {
   "cell_type": "code",
   "execution_count": 36,
   "id": "b8a54a12-9e28-471e-a74a-73b827a39d65",
   "metadata": {},
   "outputs": [],
   "source": [
    "chain=LLMChain(llm=chat, prompt=chat_template)"
   ]
  },
  {
   "cell_type": "code",
   "execution_count": 62,
   "id": "4a1956ad-b865-47a6-976b-d0f651bd6b91",
   "metadata": {},
   "outputs": [],
   "source": [
    "response=chain.invoke({'follow-up question':'What is it?'})"
   ]
  },
  {
   "cell_type": "code",
   "execution_count": 64,
   "id": "a8c8fb3a-fba5-4589-8495-feb413eeaf84",
   "metadata": {},
   "outputs": [
    {
     "data": {
      "text/plain": [
       "{'follow-up question': 'What is it?',\n",
       " 'text': 'The longest place name in the world is \"Taumatawhakatangihangakoauauotamateapokaiwhenuakitanatahu,\" a hill located near Porangahau in New Zealand. The name is of Māori origin and is often shortened to \"Taumata\" for convenience. It roughly translates to \"the place where Tamatea, the man with the big knees, who climbed mountains, played his nose flute to his loved one.\"'}"
      ]
     },
     "execution_count": 64,
     "metadata": {},
     "output_type": "execute_result"
    }
   ],
   "source": [
    "response"
   ]
  },
  {
   "cell_type": "code",
   "execution_count": null,
   "id": "fa889257-fca4-438c-b4d9-da92212e9e01",
   "metadata": {},
   "outputs": [],
   "source": []
  }
 ],
 "metadata": {
  "kernelspec": {
   "display_name": "langchain_env",
   "language": "python",
   "name": "langchain_env"
  },
  "language_info": {
   "codemirror_mode": {
    "name": "ipython",
    "version": 3
   },
   "file_extension": ".py",
   "mimetype": "text/x-python",
   "name": "python",
   "nbconvert_exporter": "python",
   "pygments_lexer": "ipython3",
   "version": "3.10.10"
  }
 },
 "nbformat": 4,
 "nbformat_minor": 5
}
