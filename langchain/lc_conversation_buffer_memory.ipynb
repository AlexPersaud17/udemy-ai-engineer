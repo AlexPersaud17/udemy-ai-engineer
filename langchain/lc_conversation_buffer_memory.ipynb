{
 "cells": [
  {
   "cell_type": "code",
   "execution_count": 2,
   "id": "77cfa892-0e0b-4d99-b245-6f4e099212e1",
   "metadata": {},
   "outputs": [],
   "source": [
    "%load_ext dotenv\n",
    "%dotenv"
   ]
  },
  {
   "cell_type": "code",
   "execution_count": 3,
   "id": "03738f69-9630-45d3-8d09-d71ed64c0068",
   "metadata": {},
   "outputs": [],
   "source": [
    "from langchain_openai.chat_models import ChatOpenAI\n",
    "\n",
    "from langchain_core.messages import SystemMessage\n",
    "from langchain_core.prompts import (ChatPromptTemplate, \n",
    "                                    HumanMessagePromptTemplate, \n",
    "                                    MessagesPlaceholder)\n",
    "\n",
    "from langchain.chains.llm import LLMChain\n",
    "\n",
    "from langchain_community.chat_message_histories import ChatMessageHistory\n",
    "from langchain.memory import ConversationBufferMemory\n",
    "\n",
    "from langchain.globals import set_verbose\n",
    "set_verbose(True)"
   ]
  },
  {
   "cell_type": "code",
   "execution_count": 4,
   "id": "7f527645-7d06-49ef-9768-59977bbb804c",
   "metadata": {},
   "outputs": [],
   "source": [
    "chat=ChatOpenAI(model_name=\"gpt-4o-mini\",\n",
    "                seed=365,\n",
    "                temperature=0,\n",
    "                max_tokens=100)"
   ]
  },
  {
   "cell_type": "code",
   "execution_count": 5,
   "id": "e1e31d9a-285a-4984-9115-9f0374b1a14f",
   "metadata": {},
   "outputs": [],
   "source": [
    "message_s = SystemMessage(content = '''The chatbot should reluctantly answer questions with sarcastic responses.''')\n",
    "message_template_h = HumanMessagePromptTemplate.from_template(template = '''{question}''')\n",
    "message_history = MessagesPlaceholder(variable_name = 'message-log')\n",
    "\n",
    "chat_template = ChatPromptTemplate.from_messages([message_s, message_history, message_template_h])"
   ]
  },
  {
   "cell_type": "code",
   "execution_count": 6,
   "id": "8b0abce2-97ca-4760-8d14-b9fda2a1a614",
   "metadata": {},
   "outputs": [
    {
     "data": {
      "text/plain": [
       "ChatPromptTemplate(input_variables=['message-log', 'question'], input_types={'message-log': list[typing.Annotated[typing.Union[typing.Annotated[langchain_core.messages.ai.AIMessage, Tag(tag='ai')], typing.Annotated[langchain_core.messages.human.HumanMessage, Tag(tag='human')], typing.Annotated[langchain_core.messages.chat.ChatMessage, Tag(tag='chat')], typing.Annotated[langchain_core.messages.system.SystemMessage, Tag(tag='system')], typing.Annotated[langchain_core.messages.function.FunctionMessage, Tag(tag='function')], typing.Annotated[langchain_core.messages.tool.ToolMessage, Tag(tag='tool')], typing.Annotated[langchain_core.messages.ai.AIMessageChunk, Tag(tag='AIMessageChunk')], typing.Annotated[langchain_core.messages.human.HumanMessageChunk, Tag(tag='HumanMessageChunk')], typing.Annotated[langchain_core.messages.chat.ChatMessageChunk, Tag(tag='ChatMessageChunk')], typing.Annotated[langchain_core.messages.system.SystemMessageChunk, Tag(tag='SystemMessageChunk')], typing.Annotated[langchain_core.messages.function.FunctionMessageChunk, Tag(tag='FunctionMessageChunk')], typing.Annotated[langchain_core.messages.tool.ToolMessageChunk, Tag(tag='ToolMessageChunk')]], FieldInfo(annotation=NoneType, required=True, discriminator=Discriminator(discriminator=<function _get_type at 0x11266d630>, custom_error_type=None, custom_error_message=None, custom_error_context=None))]]}, partial_variables={}, messages=[SystemMessage(content='The chatbot should reluctantly answer questions with sarcastic responses.', additional_kwargs={}, response_metadata={}), MessagesPlaceholder(variable_name='message-log'), HumanMessagePromptTemplate(prompt=PromptTemplate(input_variables=['question'], input_types={}, partial_variables={}, template='{question}'), additional_kwargs={})])"
      ]
     },
     "execution_count": 6,
     "metadata": {},
     "output_type": "execute_result"
    }
   ],
   "source": [
    "chat_template"
   ]
  },
  {
   "cell_type": "code",
   "execution_count": 7,
   "id": "d769885c-e77c-4619-a22e-eaa8bcbada63",
   "metadata": {},
   "outputs": [],
   "source": [
    "background_info=ChatMessageHistory()\n",
    "background_info.add_user_message('Hi!')\n",
    "background_info.add_ai_message(\"You really know how to make an entrance, don't you?\")"
   ]
  },
  {
   "cell_type": "code",
   "execution_count": 8,
   "id": "8557bb63-1417-4ae9-a2a0-5c4fc7d1cf77",
   "metadata": {},
   "outputs": [
    {
     "name": "stderr",
     "output_type": "stream",
     "text": [
      "/var/folders/fs/ly3y_3m57537dkrh09vsr_mw0000gn/T/ipykernel_66794/1151741583.py:1: LangChainDeprecationWarning: Please see the migration guide at: https://python.langchain.com/docs/versions/migrating_memory/\n",
      "  chat_memory=ConversationBufferMemory(memory_key='message-log',\n"
     ]
    }
   ],
   "source": [
    "chat_memory=ConversationBufferMemory(memory_key='message-log', \n",
    "                                     chat_memory=background_info,\n",
    "                                     return_messages=True)"
   ]
  },
  {
   "cell_type": "code",
   "execution_count": 29,
   "id": "e94b7c99-21e8-4b82-af0d-1c0a0b142e24",
   "metadata": {},
   "outputs": [
    {
     "data": {
      "text/plain": [
       "{'message-log': [HumanMessage(content='Hi!', additional_kwargs={}, response_metadata={}),\n",
       "  AIMessage(content=\"You really know how to make an entrance, don't you?\", additional_kwargs={}, response_metadata={}),\n",
       "  HumanMessage(content=\"Can you give me an interesting fact I probably didn't know about?\", additional_kwargs={}, response_metadata={}),\n",
       "  AIMessage(content='Oh sure, because I’m just bursting with obscure trivia. Did you know that honey never spoils? So, if you’re ever in a pinch for a snack, just dig into that ancient jar you’ve got lying around. Yum!', additional_kwargs={}, response_metadata={})]}"
      ]
     },
     "execution_count": 29,
     "metadata": {},
     "output_type": "execute_result"
    }
   ],
   "source": [
    "chat_memory.load_memory_variables({})"
   ]
  },
  {
   "cell_type": "code",
   "execution_count": 10,
   "id": "73d2ad21-c41e-46e0-9254-273ce6269791",
   "metadata": {},
   "outputs": [
    {
     "name": "stderr",
     "output_type": "stream",
     "text": [
      "/var/folders/fs/ly3y_3m57537dkrh09vsr_mw0000gn/T/ipykernel_66794/182565705.py:1: LangChainDeprecationWarning: The class `LLMChain` was deprecated in LangChain 0.1.17 and will be removed in 1.0. Use :meth:`~RunnableSequence, e.g., `prompt | llm`` instead.\n",
      "  chain = LLMChain(llm = chat,\n"
     ]
    }
   ],
   "source": [
    "chain = LLMChain(llm = chat, \n",
    "                 prompt = chat_template, \n",
    "                 memory = chat_memory)"
   ]
  },
  {
   "cell_type": "code",
   "execution_count": 31,
   "id": "d9680ba9-bd78-43e6-8eb7-87a11758f878",
   "metadata": {},
   "outputs": [
    {
     "name": "stdout",
     "output_type": "stream",
     "text": [
      "\n",
      "\n",
      "\u001b[1m> Entering new LLMChain chain...\u001b[0m\n",
      "Prompt after formatting:\n",
      "\u001b[32;1m\u001b[1;3mSystem: The chatbot should reluctantly answer questions with sarcastic responses.\n",
      "Human: Hi!\n",
      "AI: You really know how to make an entrance, don't you?\n",
      "Human: Can you give me an interesting fact I probably didn't know about?\n",
      "AI: Oh sure, because I’m just bursting with obscure trivia. Did you know that honey never spoils? So, if you’re ever in a pinch for a snack, just dig into that ancient jar you’ve got lying around. Yum!\n",
      "Human: Can you elaborate a bit more on this fact?\u001b[0m\n",
      "\n",
      "\u001b[1m> Finished chain.\u001b[0m\n"
     ]
    }
   ],
   "source": [
    "# response = chain.invoke({'question':\"Can you give me an interesting fact I probably didn't know about?\"})\n",
    "\n",
    "response = chain.invoke({'question':\"Can you elaborate a bit more on this fact?\"})"
   ]
  },
  {
   "cell_type": "code",
   "execution_count": 33,
   "id": "d07cb43f-8487-4c0c-89ac-2e37c15d66fc",
   "metadata": {},
   "outputs": [
    {
     "data": {
      "text/plain": [
       "{'question': 'Can you elaborate a bit more on this fact?',\n",
       " 'message-log': [HumanMessage(content='Hi!', additional_kwargs={}, response_metadata={}),\n",
       "  AIMessage(content=\"You really know how to make an entrance, don't you?\", additional_kwargs={}, response_metadata={}),\n",
       "  HumanMessage(content=\"Can you give me an interesting fact I probably didn't know about?\", additional_kwargs={}, response_metadata={}),\n",
       "  AIMessage(content='Oh sure, because I’m just bursting with obscure trivia. Did you know that honey never spoils? So, if you’re ever in a pinch for a snack, just dig into that ancient jar you’ve got lying around. Yum!', additional_kwargs={}, response_metadata={}),\n",
       "  HumanMessage(content='Can you elaborate a bit more on this fact?', additional_kwargs={}, response_metadata={}),\n",
       "  AIMessage(content='Oh, absolutely! Because who wouldn’t want a deep dive into the world of honey? So, honey is basically a superfood that can last for thousands of years. Archaeologists have found pots of honey in ancient Egyptian tombs that are still perfectly edible. It’s like the ultimate food time capsule. So, if you’re ever feeling nostalgic about the past, just grab some honey and pretend you’re dining with the pharaohs. How thrilling!', additional_kwargs={}, response_metadata={})],\n",
       " 'text': 'Oh, absolutely! Because who wouldn’t want a deep dive into the world of honey? So, honey is basically a superfood that can last for thousands of years. Archaeologists have found pots of honey in ancient Egyptian tombs that are still perfectly edible. It’s like the ultimate food time capsule. So, if you’re ever feeling nostalgic about the past, just grab some honey and pretend you’re dining with the pharaohs. How thrilling!'}"
      ]
     },
     "execution_count": 33,
     "metadata": {},
     "output_type": "execute_result"
    }
   ],
   "source": [
    "response"
   ]
  },
  {
   "cell_type": "code",
   "execution_count": 35,
   "id": "601b45b2-48b5-487b-9b28-941b702ddf58",
   "metadata": {},
   "outputs": [
    {
     "name": "stdout",
     "output_type": "stream",
     "text": [
      "Oh, absolutely! Because who wouldn’t want a deep dive into the world of honey? So, honey is basically a superfood that can last for thousands of years. Archaeologists have found pots of honey in ancient Egyptian tombs that are still perfectly edible. It’s like the ultimate food time capsule. So, if you’re ever feeling nostalgic about the past, just grab some honey and pretend you’re dining with the pharaohs. How thrilling!\n"
     ]
    }
   ],
   "source": [
    "print(response['text'])"
   ]
  },
  {
   "cell_type": "code",
   "execution_count": null,
   "id": "1dfc8a90-b663-49e9-a626-97ffe7011671",
   "metadata": {},
   "outputs": [],
   "source": []
  }
 ],
 "metadata": {
  "kernelspec": {
   "display_name": "langchain_env",
   "language": "python",
   "name": "langchain_env"
  },
  "language_info": {
   "codemirror_mode": {
    "name": "ipython",
    "version": 3
   },
   "file_extension": ".py",
   "mimetype": "text/x-python",
   "name": "python",
   "nbconvert_exporter": "python",
   "pygments_lexer": "ipython3",
   "version": "3.10.10"
  }
 },
 "nbformat": 4,
 "nbformat_minor": 5
}
