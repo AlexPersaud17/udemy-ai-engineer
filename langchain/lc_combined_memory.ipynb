{
 "cells": [
  {
   "cell_type": "code",
   "execution_count": 2,
   "id": "8049a57a-7920-4b12-8259-5cdcf898f1e4",
   "metadata": {},
   "outputs": [],
   "source": [
    "%load_ext dotenv\n",
    "%dotenv"
   ]
  },
  {
   "cell_type": "code",
   "execution_count": 4,
   "id": "e7e26648-9254-4f4f-b617-bf12969d4012",
   "metadata": {},
   "outputs": [],
   "source": [
    "from langchain_openai.chat_models import ChatOpenAI\n",
    "from langchain_core.prompts import PromptTemplate\n",
    "from langchain.chains.llm import LLMChain\n",
    "from langchain.memory import (ConversationBufferMemory, \n",
    "                              ConversationSummaryMemory, \n",
    "                              CombinedMemory)\n",
    "from langchain.globals import set_verbose\n",
    "\n",
    "set_verbose(True)"
   ]
  },
  {
   "cell_type": "code",
   "execution_count": 6,
   "id": "6bb4e91e-9730-43dc-8891-3cf129b02b96",
   "metadata": {},
   "outputs": [],
   "source": [
    "chat=ChatOpenAI(model_name=\"gpt-4o-mini\",\n",
    "                seed=365,\n",
    "                temperature=0,\n",
    "                max_tokens=100)"
   ]
  },
  {
   "cell_type": "code",
   "execution_count": 8,
   "id": "89b9543d-939b-40b2-a547-b28a2a88c699",
   "metadata": {},
   "outputs": [],
   "source": [
    "TEMPLATE = '''\n",
    "The following is a friendly conversation between a human and an AI. \n",
    "The AI is talkative and provides lots of specific details from its context. \n",
    "If the AI does not know the answer to a question, it truthfully says it does not know.\n",
    "\n",
    "Past messages:\n",
    "{message_buffer_log}\n",
    "\n",
    "Conversation summary:\n",
    "{message_summary_log}\n",
    "\n",
    "Human: {question}\n",
    "AI:\n",
    "'''\n",
    "\n",
    "prompt_template = PromptTemplate.from_template(template = TEMPLATE)"
   ]
  },
  {
   "cell_type": "code",
   "execution_count": 10,
   "id": "ea9c4936-ca65-4fc1-ab91-047e2a1d3a8a",
   "metadata": {},
   "outputs": [
    {
     "name": "stderr",
     "output_type": "stream",
     "text": [
      "/var/folders/fs/ly3y_3m57537dkrh09vsr_mw0000gn/T/ipykernel_67620/736519893.py:1: LangChainDeprecationWarning: Please see the migration guide at: https://python.langchain.com/docs/versions/migrating_memory/\n",
      "  chat_buffer_memory = ConversationBufferMemory(memory_key = 'message_buffer_log',\n",
      "/var/folders/fs/ly3y_3m57537dkrh09vsr_mw0000gn/T/ipykernel_67620/736519893.py:5: LangChainDeprecationWarning: Please see the migration guide at: https://python.langchain.com/docs/versions/migrating_memory/\n",
      "  chat_summary_memory = ConversationSummaryMemory(llm = ChatOpenAI(),\n"
     ]
    }
   ],
   "source": [
    "chat_buffer_memory = ConversationBufferMemory(memory_key = 'message_buffer_log', \n",
    "                                              input_key = 'question',\n",
    "                                              return_messages = False)\n",
    "\n",
    "chat_summary_memory = ConversationSummaryMemory(llm = ChatOpenAI(), \n",
    "                                                memory_key = 'message_summary_log', \n",
    "                                                input_key = 'question',\n",
    "                                                return_messages = False)\n",
    "\n",
    "chat_combined_memory = CombinedMemory(memories = [chat_buffer_memory, \n",
    "                                                  chat_summary_memory])"
   ]
  },
  {
   "cell_type": "code",
   "execution_count": 26,
   "id": "1780f5ed-8fc7-4bde-b86a-5f5854abd761",
   "metadata": {},
   "outputs": [
    {
     "name": "stdout",
     "output_type": "stream",
     "text": [
      "The human asks for an interesting fact they probably didn't know about. The AI shares that honey never spoils, giving an example of pots of honey in ancient Egyptian tombs that are over 3,000 years old and still edible due to its low moisture content and acidic pH. Honey can last indefinitely in your pantry. The AI elaborates on the fact, explaining that honey's longevity is due to its unique chemical composition, specifically its low water content, hygroscopic sugars, and natural acidity that make it difficult for bacteria to thrive.\n"
     ]
    }
   ],
   "source": [
    "print(chat_combined_memory.load_memory_variables({})['message_summary_log'])"
   ]
  },
  {
   "cell_type": "code",
   "execution_count": 16,
   "id": "b81d011a-49b0-4386-9d13-2e3a687c49c3",
   "metadata": {},
   "outputs": [
    {
     "name": "stderr",
     "output_type": "stream",
     "text": [
      "/var/folders/fs/ly3y_3m57537dkrh09vsr_mw0000gn/T/ipykernel_67620/1030493024.py:1: LangChainDeprecationWarning: The class `LLMChain` was deprecated in LangChain 0.1.17 and will be removed in 1.0. Use :meth:`~RunnableSequence, e.g., `prompt | llm`` instead.\n",
      "  chain = LLMChain(llm = chat,\n"
     ]
    }
   ],
   "source": [
    "chain = LLMChain(llm = chat, \n",
    "                 prompt = prompt_template, \n",
    "                 memory = chat_combined_memory)"
   ]
  },
  {
   "cell_type": "code",
   "execution_count": 22,
   "id": "2aca8db0-c671-424b-9a62-af1418bab0a3",
   "metadata": {},
   "outputs": [
    {
     "name": "stdout",
     "output_type": "stream",
     "text": [
      "\n",
      "\n",
      "\u001b[1m> Entering new LLMChain chain...\u001b[0m\n",
      "Prompt after formatting:\n",
      "\u001b[32;1m\u001b[1;3m\n",
      "The following is a friendly conversation between a human and an AI. \n",
      "The AI is talkative and provides lots of specific details from its context. \n",
      "If the AI does not know the answer to a question, it truthfully says it does not know.\n",
      "\n",
      "Past messages:\n",
      "Human: Can you give me an interesting fact I probably didn't know about?\n",
      "AI: Sure! Did you know that honey never spoils? Archaeologists have found pots of honey in ancient Egyptian tombs that are over 3,000 years old and still perfectly edible! Honey's long shelf life is due to its low moisture content and acidic pH, which create an inhospitable environment for bacteria and microorganisms. So, if you have a jar of honey sitting in your pantry, it could last indefinitely!\n",
      "\n",
      "Conversation summary:\n",
      "The human asks for an interesting fact they probably didn't know about. The AI shares that honey never spoils, giving an example of pots of honey in ancient Egyptian tombs that are over 3,000 years old and still edible due to its low moisture content and acidic pH. Honey can last indefinitely in your pantry.\n",
      "\n",
      "Human: Can you elaborate a bit more on this fact?\n",
      "AI:\n",
      "\u001b[0m\n",
      "\n",
      "\n",
      "\u001b[1m> Entering new LLMChain chain...\u001b[0m\n",
      "Prompt after formatting:\n",
      "\u001b[32;1m\u001b[1;3mProgressively summarize the lines of conversation provided, adding onto the previous summary returning a new summary.\n",
      "\n",
      "EXAMPLE\n",
      "Current summary:\n",
      "The human asks what the AI thinks of artificial intelligence. The AI thinks artificial intelligence is a force for good.\n",
      "\n",
      "New lines of conversation:\n",
      "Human: Why do you think artificial intelligence is a force for good?\n",
      "AI: Because artificial intelligence will help humans reach their full potential.\n",
      "\n",
      "New summary:\n",
      "The human asks what the AI thinks of artificial intelligence. The AI thinks artificial intelligence is a force for good because it will help humans reach their full potential.\n",
      "END OF EXAMPLE\n",
      "\n",
      "Current summary:\n",
      "The human asks for an interesting fact they probably didn't know about. The AI shares that honey never spoils, giving an example of pots of honey in ancient Egyptian tombs that are over 3,000 years old and still edible due to its low moisture content and acidic pH. Honey can last indefinitely in your pantry.\n",
      "\n",
      "New lines of conversation:\n",
      "Human: Can you elaborate a bit more on this fact?\n",
      "AI: Absolutely! Honey's remarkable longevity is a fascinating topic! The reason honey can last so long without spoiling lies in its unique chemical composition. Honey is primarily made up of sugars, mainly fructose and glucose, which are hygroscopic, meaning they attract moisture. However, honey has a very low water content—typically around 17-18%—which makes it difficult for bacteria and other microorganisms to thrive.\n",
      "\n",
      "Additionally, honey has a natural acidity, with a pH level ranging from about 3\n",
      "\n",
      "New summary:\u001b[0m\n",
      "\n",
      "\u001b[1m> Finished chain.\u001b[0m\n",
      "\n",
      "\u001b[1m> Finished chain.\u001b[0m\n"
     ]
    },
    {
     "data": {
      "text/plain": [
       "{'question': 'Can you elaborate a bit more on this fact?',\n",
       " 'message_buffer_log': \"Human: Can you give me an interesting fact I probably didn't know about?\\nAI: Sure! Did you know that honey never spoils? Archaeologists have found pots of honey in ancient Egyptian tombs that are over 3,000 years old and still perfectly edible! Honey's long shelf life is due to its low moisture content and acidic pH, which create an inhospitable environment for bacteria and microorganisms. So, if you have a jar of honey sitting in your pantry, it could last indefinitely!\",\n",
       " 'message_summary_log': \"The human asks for an interesting fact they probably didn't know about. The AI shares that honey never spoils, giving an example of pots of honey in ancient Egyptian tombs that are over 3,000 years old and still edible due to its low moisture content and acidic pH. Honey can last indefinitely in your pantry.\",\n",
       " 'text': \"Absolutely! Honey's remarkable longevity is a fascinating topic! The reason honey can last so long without spoiling lies in its unique chemical composition. Honey is primarily made up of sugars, mainly fructose and glucose, which are hygroscopic, meaning they attract moisture. However, honey has a very low water content—typically around 17-18%—which makes it difficult for bacteria and other microorganisms to thrive.\\n\\nAdditionally, honey has a natural acidity, with a pH level ranging from about 3\"}"
      ]
     },
     "execution_count": 22,
     "metadata": {},
     "output_type": "execute_result"
    }
   ],
   "source": [
    "# chain.invoke({'question':'''Can you give me an interesting fact I probably didn't know about?'''})\n",
    "chain.invoke({'question':'''Can you elaborate a bit more on this fact?'''})"
   ]
  },
  {
   "cell_type": "code",
   "execution_count": null,
   "id": "4dc74fab-b756-48e7-b3ba-81c9c57c7e22",
   "metadata": {},
   "outputs": [],
   "source": []
  }
 ],
 "metadata": {
  "kernelspec": {
   "display_name": "langchain_env",
   "language": "python",
   "name": "langchain_env"
  },
  "language_info": {
   "codemirror_mode": {
    "name": "ipython",
    "version": 3
   },
   "file_extension": ".py",
   "mimetype": "text/x-python",
   "name": "python",
   "nbconvert_exporter": "python",
   "pygments_lexer": "ipython3",
   "version": "3.10.10"
  }
 },
 "nbformat": 4,
 "nbformat_minor": 5
}
