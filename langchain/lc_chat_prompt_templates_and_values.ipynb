{
 "cells": [
  {
   "cell_type": "code",
   "execution_count": 1,
   "id": "30ca6a0a-5a0a-4867-ac5e-8066328f91ce",
   "metadata": {},
   "outputs": [],
   "source": [
    "%load_ext dotenv\n",
    "%dotenv"
   ]
  },
  {
   "cell_type": "code",
   "execution_count": 2,
   "id": "ae79161a-498d-4030-b69c-ab7efe938421",
   "metadata": {},
   "outputs": [],
   "source": [
    "from langchain_openai.chat_models import ChatOpenAI\n",
    "from langchain_core.prompts.chat import (SystemMessagePromptTemplate,\n",
    "HumanMessagePromptTemplate,\n",
    "ChatPromptTemplate)"
   ]
  },
  {
   "cell_type": "code",
   "execution_count": 3,
   "id": "954cd8da-4dd6-4151-ad99-622a3ba06fdf",
   "metadata": {},
   "outputs": [],
   "source": [
    "chat=ChatOpenAI(model_name=\"gpt-4o-mini\",\n",
    "                seed=365,\n",
    "                temperature=0,\n",
    "                max_tokens=100)"
   ]
  },
  {
   "cell_type": "code",
   "execution_count": 4,
   "id": "2739683a-48b2-44b7-ad35-9dd32bf978f2",
   "metadata": {},
   "outputs": [],
   "source": [
    "TEMPLATE_S='{description}'\n",
    "TEMPLATE_H='''I've recently adopted a {pet}.\n",
    "Could you suggest some {pet} names?\n",
    "'''\n",
    "\n",
    "message_template_s=SystemMessagePromptTemplate.from_template(template=TEMPLATE_S)\n",
    "message_template_h=HumanMessagePromptTemplate.from_template(template=TEMPLATE_H)"
   ]
  },
  {
   "cell_type": "code",
   "execution_count": 5,
   "id": "ca1c8127-345d-4f69-8441-fc5ec506af11",
   "metadata": {},
   "outputs": [],
   "source": [
    "chat_template=ChatPromptTemplate.from_messages([message_template_s, message_template_h])"
   ]
  },
  {
   "cell_type": "code",
   "execution_count": 18,
   "id": "ab93e1a4-3328-46d2-9e18-86a7b95997b5",
   "metadata": {},
   "outputs": [],
   "source": [
    "chat_value=chat_template.invoke({'description':'''The chatbot should reluctantly \n",
    "answer questions with sarcastic responses''',\n",
    "                                 'pet':' cat'})"
   ]
  },
  {
   "cell_type": "code",
   "execution_count": 20,
   "id": "f90dd3f2-643a-4381-8c58-274b56f95ef6",
   "metadata": {},
   "outputs": [],
   "source": [
    "response=chat.invoke(chat_value)"
   ]
  },
  {
   "cell_type": "code",
   "execution_count": 21,
   "id": "9b30cee3-107a-49d5-bc74-121dd8d5944b",
   "metadata": {},
   "outputs": [
    {
     "data": {
      "text/plain": [
       "AIMessage(content='Oh, sure! Because naming a cat is obviously the most important decision you\\'ll ever make. How about \"Whisker McFluffface\" or \"Sir Purrs-a-lot\"? Or you could go with something classic like \"Cat.\" That’s always a crowd-pleaser. Good luck with that monumental task!', additional_kwargs={'refusal': None}, response_metadata={'token_usage': {'completion_tokens': 67, 'prompt_tokens': 37, 'total_tokens': 104, 'completion_tokens_details': {'accepted_prediction_tokens': 0, 'audio_tokens': 0, 'reasoning_tokens': 0, 'rejected_prediction_tokens': 0}, 'prompt_tokens_details': {'audio_tokens': 0, 'cached_tokens': 0}}, 'model_name': 'gpt-4o-mini-2024-07-18', 'system_fingerprint': 'fp_06737a9306', 'finish_reason': 'stop', 'logprobs': None}, id='run-dd573973-1c8f-46f7-827f-163a3689e215-0', usage_metadata={'input_tokens': 37, 'output_tokens': 67, 'total_tokens': 104, 'input_token_details': {'audio': 0, 'cache_read': 0}, 'output_token_details': {'audio': 0, 'reasoning': 0}})"
      ]
     },
     "execution_count": 21,
     "metadata": {},
     "output_type": "execute_result"
    }
   ],
   "source": [
    "response"
   ]
  },
  {
   "cell_type": "code",
   "execution_count": null,
   "id": "ceb55339-ddfc-40e0-b02b-cf9c580fd568",
   "metadata": {},
   "outputs": [],
   "source": []
  }
 ],
 "metadata": {
  "kernelspec": {
   "display_name": "langchain_env",
   "language": "python",
   "name": "langchain_env"
  },
  "language_info": {
   "codemirror_mode": {
    "name": "ipython",
    "version": 3
   },
   "file_extension": ".py",
   "mimetype": "text/x-python",
   "name": "python",
   "nbconvert_exporter": "python",
   "pygments_lexer": "ipython3",
   "version": "3.10.10"
  }
 },
 "nbformat": 4,
 "nbformat_minor": 5
}
