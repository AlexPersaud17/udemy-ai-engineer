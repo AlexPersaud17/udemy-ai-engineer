{
 "cells": [
  {
   "cell_type": "code",
   "execution_count": 1,
   "id": "19914986-2de0-41b0-9b87-5ba34ef49f6a",
   "metadata": {},
   "outputs": [],
   "source": [
    "%load_ext dotenv\n",
    "%dotenv"
   ]
  },
  {
   "cell_type": "code",
   "execution_count": 3,
   "id": "5211aefe-758d-4d6d-a510-e001c87a0f02",
   "metadata": {},
   "outputs": [],
   "source": [
    "from langchain_openai.embeddings import OpenAIEmbeddings\n",
    "from langchain_community.vectorstores import Chroma\n",
    "from langchain_core.documents import Document"
   ]
  },
  {
   "cell_type": "code",
   "execution_count": 5,
   "id": "9eb84325-b51c-465f-83a0-f775a7b75844",
   "metadata": {},
   "outputs": [],
   "source": [
    "embedding = OpenAIEmbeddings(model='text-embedding-ada-002')"
   ]
  },
  {
   "cell_type": "code",
   "execution_count": 9,
   "id": "8e8d8b99-3424-4d8b-aef3-53264dec81b7",
   "metadata": {},
   "outputs": [],
   "source": [
    "vectorstore_from_directory = Chroma(persist_directory = \"./intro-to-ds-lectures\", \n",
    "                                    embedding_function = embedding)"
   ]
  },
  {
   "cell_type": "code",
   "execution_count": 19,
   "id": "e8a34b19-6c80-4845-a1af-f7a8eab80164",
   "metadata": {},
   "outputs": [
    {
     "data": {
      "text/plain": [
       "{'ids': ['7664cb3a-b721-4417-a788-135d7c5d9943'],\n",
       " 'embeddings': array([[ 0.00478017, -0.01535145,  0.02508651, ...,  0.02121745,\n",
       "         -0.01364157, -0.00687695]]),\n",
       " 'documents': None,\n",
       " 'uris': None,\n",
       " 'data': None,\n",
       " 'metadatas': None,\n",
       " 'included': [<IncludeEnum.embeddings: 'embeddings'>]}"
      ]
     },
     "execution_count": 19,
     "metadata": {},
     "output_type": "execute_result"
    }
   ],
   "source": [
    "vectorstore_from_directory.get(ids=\"7664cb3a-b721-4417-a788-135d7c5d9943\",\n",
    "                              include=[\"embeddings\"])"
   ]
  },
  {
   "cell_type": "code",
   "execution_count": 21,
   "id": "d224da13-f4d3-44b6-ad8f-5c59e67611af",
   "metadata": {},
   "outputs": [],
   "source": [
    "added_document = Document(page_content='Alright! So… Let’s discuss the not-so-obvious differences between the terms analysis and analytics. Due to the similarity of the words, some people believe they share the same meaning, and thus use them interchangeably. Technically, this isn’t correct. There is, in fact, a distinct difference between the two. And the reason for one often being used instead of the other is the lack of a transparent understanding of both. So, let’s clear this up, shall we? First, we will start with analysis', \n",
    "                          metadata={'Course Title': 'Introduction to Data and Data Science', \n",
    "                                    'Lecture Title': 'Analysis vs Analytics'})"
   ]
  },
  {
   "cell_type": "code",
   "execution_count": 23,
   "id": "d5ea0362-837b-4947-9ebc-65467c1405d8",
   "metadata": {},
   "outputs": [
    {
     "data": {
      "text/plain": [
       "['647be9fa-d5da-498d-91f9-f0ce3bd6950b']"
      ]
     },
     "execution_count": 23,
     "metadata": {},
     "output_type": "execute_result"
    }
   ],
   "source": [
    "vectorstore_from_directory.add_documents([added_document])"
   ]
  },
  {
   "cell_type": "code",
   "execution_count": 25,
   "id": "c5886ba9-e60c-46aa-9a94-2a00528d0814",
   "metadata": {},
   "outputs": [
    {
     "data": {
      "text/plain": [
       "{'ids': ['647be9fa-d5da-498d-91f9-f0ce3bd6950b'],\n",
       " 'embeddings': None,\n",
       " 'documents': ['Alright! So… Let’s discuss the not-so-obvious differences between the terms analysis and analytics. Due to the similarity of the words, some people believe they share the same meaning, and thus use them interchangeably. Technically, this isn’t correct. There is, in fact, a distinct difference between the two. And the reason for one often being used instead of the other is the lack of a transparent understanding of both. So, let’s clear this up, shall we? First, we will start with analysis'],\n",
       " 'uris': None,\n",
       " 'data': None,\n",
       " 'metadatas': [{'Course Title': 'Introduction to Data and Data Science',\n",
       "   'Lecture Title': 'Analysis vs Analytics'}],\n",
       " 'included': [<IncludeEnum.documents: 'documents'>,\n",
       "  <IncludeEnum.metadatas: 'metadatas'>]}"
      ]
     },
     "execution_count": 25,
     "metadata": {},
     "output_type": "execute_result"
    }
   ],
   "source": [
    "vectorstore_from_directory.get(\"647be9fa-d5da-498d-91f9-f0ce3bd6950b\")"
   ]
  },
  {
   "cell_type": "code",
   "execution_count": 27,
   "id": "a8b0c2cd-29ed-40fa-9385-4a757551db3e",
   "metadata": {},
   "outputs": [],
   "source": [
    "updated_document = Document(page_content='Great! We hope we gave you a good idea about the level of applicability of the most frequently used programming and software tools in the field of data science. Thank you for watching!', \n",
    "                            metadata={'Course Title': 'Introduction to Data and Data Science', \n",
    "                                     'Lecture Title': 'Programming Languages & Software Employed in Data Science - All the Tools You Need'})"
   ]
  },
  {
   "cell_type": "code",
   "execution_count": 29,
   "id": "ece9fc0c-06ff-4244-a3e2-69bfc791ed70",
   "metadata": {},
   "outputs": [],
   "source": [
    "vectorstore_from_directory.update_document(document_id = \"647be9fa-d5da-498d-91f9-f0ce3bd6950b\", \n",
    "                                           document = updated_document)"
   ]
  },
  {
   "cell_type": "code",
   "execution_count": 31,
   "id": "d7486996-e471-4d66-b995-bc3818b2a3f4",
   "metadata": {},
   "outputs": [
    {
     "data": {
      "text/plain": [
       "{'ids': ['647be9fa-d5da-498d-91f9-f0ce3bd6950b'],\n",
       " 'embeddings': None,\n",
       " 'documents': ['Great! We hope we gave you a good idea about the level of applicability of the most frequently used programming and software tools in the field of data science. Thank you for watching!'],\n",
       " 'uris': None,\n",
       " 'data': None,\n",
       " 'metadatas': [{'Course Title': 'Introduction to Data and Data Science',\n",
       "   'Lecture Title': 'Programming Languages & Software Employed in Data Science - All the Tools You Need'}],\n",
       " 'included': [<IncludeEnum.documents: 'documents'>,\n",
       "  <IncludeEnum.metadatas: 'metadatas'>]}"
      ]
     },
     "execution_count": 31,
     "metadata": {},
     "output_type": "execute_result"
    }
   ],
   "source": [
    "vectorstore_from_directory.get(\"647be9fa-d5da-498d-91f9-f0ce3bd6950b\")"
   ]
  },
  {
   "cell_type": "code",
   "execution_count": 33,
   "id": "77942b59-b608-4265-beaa-d94a66713234",
   "metadata": {},
   "outputs": [],
   "source": [
    "vectorstore_from_directory.delete(\"647be9fa-d5da-498d-91f9-f0ce3bd6950b\")"
   ]
  },
  {
   "cell_type": "code",
   "execution_count": 35,
   "id": "4b8292db-f7a1-480e-829f-433443962644",
   "metadata": {},
   "outputs": [
    {
     "data": {
      "text/plain": [
       "{'ids': [],\n",
       " 'embeddings': None,\n",
       " 'documents': [],\n",
       " 'uris': None,\n",
       " 'data': None,\n",
       " 'metadatas': [],\n",
       " 'included': [<IncludeEnum.documents: 'documents'>,\n",
       "  <IncludeEnum.metadatas: 'metadatas'>]}"
      ]
     },
     "execution_count": 35,
     "metadata": {},
     "output_type": "execute_result"
    }
   ],
   "source": [
    "vectorstore_from_directory.get(\"647be9fa-d5da-498d-91f9-f0ce3bd6950b\")"
   ]
  },
  {
   "cell_type": "code",
   "execution_count": null,
   "id": "22741d86-83fd-4588-82e1-a981a0541628",
   "metadata": {},
   "outputs": [],
   "source": []
  }
 ],
 "metadata": {
  "kernelspec": {
   "display_name": "langchain_env",
   "language": "python",
   "name": "langchain_env"
  },
  "language_info": {
   "codemirror_mode": {
    "name": "ipython",
    "version": 3
   },
   "file_extension": ".py",
   "mimetype": "text/x-python",
   "name": "python",
   "nbconvert_exporter": "python",
   "pygments_lexer": "ipython3",
   "version": "3.10.10"
  }
 },
 "nbformat": 4,
 "nbformat_minor": 5
}
