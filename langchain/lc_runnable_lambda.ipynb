{
 "cells": [
  {
   "cell_type": "code",
   "execution_count": 7,
   "id": "9262dde7-6a74-4ff8-9b24-35cd5709bc0b",
   "metadata": {},
   "outputs": [],
   "source": [
    "from langchain_core.runnables import RunnableLambda"
   ]
  },
  {
   "cell_type": "code",
   "execution_count": 9,
   "id": "f1585098-e06d-4d4a-ae34-a20a34a6e2b6",
   "metadata": {},
   "outputs": [],
   "source": [
    "runnable_sum=RunnableLambda(lambda x:sum(x))"
   ]
  },
  {
   "cell_type": "code",
   "execution_count": 11,
   "id": "d9f8dbf0-6800-49b4-8e98-45f2df071bea",
   "metadata": {},
   "outputs": [
    {
     "data": {
      "text/plain": [
       "8"
      ]
     },
     "execution_count": 11,
     "metadata": {},
     "output_type": "execute_result"
    }
   ],
   "source": [
    "runnable_sum.invoke([1, 2, 5])"
   ]
  },
  {
   "cell_type": "code",
   "execution_count": 13,
   "id": "611f41bb-e687-425d-ba08-5ee339de7364",
   "metadata": {},
   "outputs": [],
   "source": [
    "runnable_square = RunnableLambda(lambda x: x**2)"
   ]
  },
  {
   "cell_type": "code",
   "execution_count": 15,
   "id": "fe041642-1f94-43e2-8da7-ab9a5109dae6",
   "metadata": {},
   "outputs": [
    {
     "data": {
      "text/plain": [
       "64"
      ]
     },
     "execution_count": 15,
     "metadata": {},
     "output_type": "execute_result"
    }
   ],
   "source": [
    "runnable_square.invoke(8)"
   ]
  },
  {
   "cell_type": "code",
   "execution_count": 17,
   "id": "14860a6e-4182-4b89-8d38-e9c0740aeb51",
   "metadata": {},
   "outputs": [],
   "source": [
    "chain = runnable_sum | runnable_square"
   ]
  },
  {
   "cell_type": "code",
   "execution_count": 19,
   "id": "a7de90e5-ec70-4690-b9b9-1fe31a5ed906",
   "metadata": {},
   "outputs": [
    {
     "data": {
      "text/plain": [
       "64"
      ]
     },
     "execution_count": 19,
     "metadata": {},
     "output_type": "execute_result"
    }
   ],
   "source": [
    "chain.invoke([1, 2, 5])"
   ]
  },
  {
   "cell_type": "code",
   "execution_count": 21,
   "id": "4f78b4de-e2b0-4e5d-b1df-c80c14e83933",
   "metadata": {},
   "outputs": [
    {
     "name": "stdout",
     "output_type": "stream",
     "text": [
      "+-------------+  \n",
      "| LambdaInput |  \n",
      "+-------------+  \n",
      "        *        \n",
      "        *        \n",
      "        *        \n",
      "   +--------+    \n",
      "   | Lambda |    \n",
      "   +--------+    \n",
      "        *        \n",
      "        *        \n",
      "        *        \n",
      "   +--------+    \n",
      "   | Lambda |    \n",
      "   +--------+    \n",
      "        *        \n",
      "        *        \n",
      "        *        \n",
      "+--------------+ \n",
      "| LambdaOutput | \n",
      "+--------------+ \n"
     ]
    }
   ],
   "source": [
    "chain.get_graph().print_ascii()"
   ]
  },
  {
   "cell_type": "code",
   "execution_count": null,
   "id": "c37b3627-f503-4150-b624-37cdd25681db",
   "metadata": {},
   "outputs": [],
   "source": []
  }
 ],
 "metadata": {
  "kernelspec": {
   "display_name": "langchain_env",
   "language": "python",
   "name": "langchain_env"
  },
  "language_info": {
   "codemirror_mode": {
    "name": "ipython",
    "version": 3
   },
   "file_extension": ".py",
   "mimetype": "text/x-python",
   "name": "python",
   "nbconvert_exporter": "python",
   "pygments_lexer": "ipython3",
   "version": "3.10.10"
  }
 },
 "nbformat": 4,
 "nbformat_minor": 5
}
