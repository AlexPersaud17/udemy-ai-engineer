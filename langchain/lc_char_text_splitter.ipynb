{
 "cells": [
  {
   "cell_type": "code",
   "execution_count": 1,
   "id": "2a427edc-bff8-4683-948c-d4ade83c49c0",
   "metadata": {},
   "outputs": [],
   "source": [
    "from langchain_community.document_loaders import Docx2txtLoader\n",
    "from langchain_text_splitters.character import CharacterTextSplitter"
   ]
  },
  {
   "cell_type": "code",
   "execution_count": 3,
   "id": "83fdebd4-52bf-4c51-9de7-92c26d96437c",
   "metadata": {},
   "outputs": [],
   "source": [
    "loader = Docx2txtLoader(\"Introduction_to_Data_and_Data_Science.docx\")\n",
    "pages = loader.load()\n",
    "for i in range(len(pages)):\n",
    "    pages[i].page_content = ' '.join(pages[i].page_content.split())"
   ]
  },
  {
   "cell_type": "code",
   "execution_count": 9,
   "id": "5e26cc2a-ad78-4a4c-b861-62a41ad4f04a",
   "metadata": {
    "scrolled": true
   },
   "outputs": [
    {
     "data": {
      "text/plain": [
       "8259"
      ]
     },
     "execution_count": 9,
     "metadata": {},
     "output_type": "execute_result"
    }
   ],
   "source": [
    "len(pages[0].page_content)"
   ]
  },
  {
   "cell_type": "code",
   "execution_count": 31,
   "id": "ecc0b42f-5063-48b2-99a9-16ba7ff0f84f",
   "metadata": {},
   "outputs": [],
   "source": [
    "char_splitter = CharacterTextSplitter(separator = \".\", \n",
    "                                      chunk_size = 500, \n",
    "                                      chunk_overlap = 50)"
   ]
  },
  {
   "cell_type": "code",
   "execution_count": 33,
   "id": "e8208cd5-ebf1-4645-8832-9fbd0304506a",
   "metadata": {},
   "outputs": [],
   "source": [
    "pages_char_split = char_splitter.split_documents(pages)"
   ]
  },
  {
   "cell_type": "code",
   "execution_count": 39,
   "id": "3335f913-6f7d-4270-b873-b76f5678ac76",
   "metadata": {},
   "outputs": [
    {
     "data": {
      "text/plain": [
       "'Analysis vs Analytics Alright! So… Let’s discuss the not-so-obvious differences between the terms analysis and analytics. Due to the similarity of the words, some people believe they share the same meaning, and thus use them interchangeably. Technically, this isn’t correct. There is, in fact, a distinct difference between the two. And the reason for one often being used instead of the other is the lack of a transparent understanding of both'"
      ]
     },
     "execution_count": 39,
     "metadata": {},
     "output_type": "execute_result"
    }
   ],
   "source": [
    "pages_char_split[0].page_content"
   ]
  },
  {
   "cell_type": "code",
   "execution_count": null,
   "id": "c8564c70-33b1-48b8-9aa9-a2f729c88d30",
   "metadata": {},
   "outputs": [],
   "source": []
  }
 ],
 "metadata": {
  "kernelspec": {
   "display_name": "langchain_env",
   "language": "python",
   "name": "langchain_env"
  },
  "language_info": {
   "codemirror_mode": {
    "name": "ipython",
    "version": 3
   },
   "file_extension": ".py",
   "mimetype": "text/x-python",
   "name": "python",
   "nbconvert_exporter": "python",
   "pygments_lexer": "ipython3",
   "version": "3.10.10"
  }
 },
 "nbformat": 4,
 "nbformat_minor": 5
}
