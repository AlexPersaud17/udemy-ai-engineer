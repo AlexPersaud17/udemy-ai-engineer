{
 "cells": [
  {
   "cell_type": "code",
   "execution_count": 1,
   "id": "1ac86c9a-b14e-44df-bb23-f3f5fd47e3c8",
   "metadata": {},
   "outputs": [],
   "source": [
    "import pandas as pd\n",
    "from sklearn.feature_extraction.text import CountVectorizer"
   ]
  },
  {
   "cell_type": "code",
   "execution_count": 3,
   "id": "7b746830-68db-4f49-9f32-430f72280a90",
   "metadata": {},
   "outputs": [],
   "source": [
    "data = [' Most shark attacks occur about 10 feet from the beach since that is where the people are',\n",
    "        'the efficiency with which he paired the socks in the drawer was quite admirable',\n",
    "        'carol drank the blood as if she were a vampire',\n",
    "        'giving directions that the mountains are to the west only works when you can see them',\n",
    "        'the sign said there was road work ahead so he decided to speed up',\n",
    "        'the gruff old man sat in the back of the bait shop grumbling to himself as he scooped out a handful of worms']"
   ]
  },
  {
   "cell_type": "code",
   "execution_count": 7,
   "id": "b7f827d1-0623-4f6e-b280-506a5916e9a0",
   "metadata": {},
   "outputs": [],
   "source": [
    "countvec=CountVectorizer()"
   ]
  },
  {
   "cell_type": "code",
   "execution_count": 9,
   "id": "e72c9c67-1ee0-4ded-8062-f41a823bf5c7",
   "metadata": {},
   "outputs": [],
   "source": [
    "countvec_fit=countvec.fit_transform(data)"
   ]
  },
  {
   "cell_type": "code",
   "execution_count": 17,
   "id": "e00ee5d1-eb61-4ad4-b784-a9786731a2a0",
   "metadata": {},
   "outputs": [],
   "source": [
    "bag_of_words=pd.DataFrame(countvec_fit.toarray(), columns=countvec.get_feature_names_out())"
   ]
  },
  {
   "cell_type": "code",
   "execution_count": 19,
   "id": "db87646d-b68d-4104-b419-b7d3e230e95c",
   "metadata": {},
   "outputs": [
    {
     "name": "stdout",
     "output_type": "stream",
     "text": [
      "   10  about  admirable  ahead  are  as  attacks  back  bait  beach  ...  \\\n",
      "0   1      1          0      0    1   0        1     0     0      1  ...   \n",
      "1   0      0          1      0    0   0        0     0     0      0  ...   \n",
      "2   0      0          0      0    0   1        0     0     0      0  ...   \n",
      "3   0      0          0      0    1   0        0     0     0      0  ...   \n",
      "4   0      0          0      1    0   0        0     0     0      0  ...   \n",
      "5   0      0          0      0    0   1        0     1     1      0  ...   \n",
      "\n",
      "   were  west  when  where  which  with  work  works  worms  you  \n",
      "0     0     0     0      1      0     0     0      0      0    0  \n",
      "1     0     0     0      0      1     1     0      0      0    0  \n",
      "2     1     0     0      0      0     0     0      0      0    0  \n",
      "3     0     1     1      0      0     0     0      1      0    1  \n",
      "4     0     0     0      0      0     0     1      0      0    0  \n",
      "5     0     0     0      0      0     0     0      0      1    0  \n",
      "\n",
      "[6 rows x 71 columns]\n"
     ]
    }
   ],
   "source": [
    "print(bag_of_words)"
   ]
  },
  {
   "cell_type": "code",
   "execution_count": 21,
   "id": "9a903fe2-8d4b-4be6-9b27-83b10749927f",
   "metadata": {},
   "outputs": [],
   "source": [
    "from sklearn.feature_extraction.text import TfidfVectorizer"
   ]
  },
  {
   "cell_type": "code",
   "execution_count": 23,
   "id": "9833f8e5-5f06-44d9-8081-467afe3bd159",
   "metadata": {},
   "outputs": [],
   "source": [
    "tfidfvec = TfidfVectorizer()"
   ]
  },
  {
   "cell_type": "code",
   "execution_count": 25,
   "id": "742551bf-e277-409b-a979-d77d86c597cb",
   "metadata": {},
   "outputs": [],
   "source": [
    "tfidfvec_fit = tfidfvec.fit_transform(data)"
   ]
  },
  {
   "cell_type": "code",
   "execution_count": 27,
   "id": "c6391294-0d31-4329-908d-a1dd93f031a0",
   "metadata": {},
   "outputs": [],
   "source": [
    "tfidf_bag = pd.DataFrame(tfidfvec_fit.toarray(), columns = tfidfvec.get_feature_names_out())"
   ]
  },
  {
   "cell_type": "code",
   "execution_count": 29,
   "id": "a19c98f6-13f8-436b-a39a-e6c5849010b9",
   "metadata": {},
   "outputs": [
    {
     "name": "stdout",
     "output_type": "stream",
     "text": [
      "         10     about  admirable     ahead       are        as   attacks  \\\n",
      "0  0.257061  0.257061   0.000000  0.000000  0.210794  0.000000  0.257061   \n",
      "1  0.000000  0.000000   0.293641  0.000000  0.000000  0.000000  0.000000   \n",
      "2  0.000000  0.000000   0.000000  0.000000  0.000000  0.292313  0.000000   \n",
      "3  0.000000  0.000000   0.000000  0.000000  0.222257  0.000000  0.000000   \n",
      "4  0.000000  0.000000   0.000000  0.290766  0.000000  0.000000  0.000000   \n",
      "5  0.000000  0.000000   0.000000  0.000000  0.000000  0.178615  0.000000   \n",
      "\n",
      "      back     bait     beach  ...      were     west     when     where  \\\n",
      "0  0.00000  0.00000  0.257061  ...  0.000000  0.00000  0.00000  0.257061   \n",
      "1  0.00000  0.00000  0.000000  ...  0.000000  0.00000  0.00000  0.000000   \n",
      "2  0.00000  0.00000  0.000000  ...  0.356474  0.00000  0.00000  0.000000   \n",
      "3  0.00000  0.00000  0.000000  ...  0.000000  0.27104  0.27104  0.000000   \n",
      "4  0.00000  0.00000  0.000000  ...  0.000000  0.00000  0.00000  0.000000   \n",
      "5  0.21782  0.21782  0.000000  ...  0.000000  0.00000  0.00000  0.000000   \n",
      "\n",
      "      which      with      work    works    worms      you  \n",
      "0  0.000000  0.000000  0.000000  0.00000  0.00000  0.00000  \n",
      "1  0.293641  0.293641  0.000000  0.00000  0.00000  0.00000  \n",
      "2  0.000000  0.000000  0.000000  0.00000  0.00000  0.00000  \n",
      "3  0.000000  0.000000  0.000000  0.27104  0.00000  0.27104  \n",
      "4  0.000000  0.000000  0.290766  0.00000  0.00000  0.00000  \n",
      "5  0.000000  0.000000  0.000000  0.00000  0.21782  0.00000  \n",
      "\n",
      "[6 rows x 71 columns]\n"
     ]
    }
   ],
   "source": [
    "print(tfidf_bag)"
   ]
  },
  {
   "cell_type": "code",
   "execution_count": null,
   "id": "b6c1e057-71e4-4527-86d6-565c01949a6c",
   "metadata": {},
   "outputs": [],
   "source": []
  }
 ],
 "metadata": {
  "kernelspec": {
   "display_name": "Python [conda env:base] *",
   "language": "python",
   "name": "conda-base-py"
  },
  "language_info": {
   "codemirror_mode": {
    "name": "ipython",
    "version": 3
   },
   "file_extension": ".py",
   "mimetype": "text/x-python",
   "name": "python",
   "nbconvert_exporter": "python",
   "pygments_lexer": "ipython3",
   "version": "3.12.2"
  }
 },
 "nbformat": 4,
 "nbformat_minor": 5
}
